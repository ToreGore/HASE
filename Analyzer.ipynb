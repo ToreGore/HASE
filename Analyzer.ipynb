{
 "cells": [
  {
   "cell_type": "markdown",
   "metadata": {},
   "source": [
    "### Imports and \"global variables\" definition"
   ]
  },
  {
   "cell_type": "code",
   "execution_count": 185,
   "metadata": {},
   "outputs": [],
   "source": [
    "import os\n",
    "import json\n",
    "\n",
    "import numpy as np\n",
    "import pandas as pd\n",
    "import collections as c\n",
    "import plotly.express as px\n",
    "import matplotlib.pyplot as plt\n",
    "\n",
    "import UserBuilder\n",
    "import import_ipynb\n",
    "\n",
    "from pathlib import Path\n",
    "from pprint import pprint\n",
    "\n",
    "ans_dict = {\"A\":0, \"B\":1, \"C\":2, \"D\":3, \"E\":4}\n",
    "graphs_path = \"./graphs/\"\n",
    "\n",
    "os.makedirs(graphs_path + \"all_freqs\", exist_ok=True)\n",
    "os.makedirs(graphs_path + \"attentive_freqs\", exist_ok=True)"
   ]
  },
  {
   "cell_type": "markdown",
   "metadata": {},
   "source": [
    "### Functions definition\n",
    "This function gets the frequency of labels in an answer for all the answers and the \"correct answer\" rate.<br>\n",
    "It takes a series of users and return a tuple of frequencies of answers and correct rates per answer."
   ]
  },
  {
   "cell_type": "code",
   "execution_count": 186,
   "metadata": {},
   "outputs": [],
   "source": [
    "def freqsNrates(userseries):\n",
    "    answers_freqs = []\n",
    "    answers_rates = []\n",
    "    #for index in range(len(users_factory.users_built[0].))\n",
    "    for index in (userseries[0].questions_dict).keys():\n",
    "        freqs, rates = filtered_users.answers_freqs(index, userseries)\n",
    "        answers_freqs.append(freqs)\n",
    "        answers_rates.append(rates)\n",
    "    return answers_freqs, answers_rates"
   ]
  },
  {
   "cell_type": "markdown",
   "metadata": {},
   "source": [
    "This function plots the graph of the answers frequencies for a given question. <br>\n",
    "If someone gave the correct answer, then it's shown in yellow."
   ]
  },
  {
   "cell_type": "code",
   "execution_count": 187,
   "metadata": {},
   "outputs": [],
   "source": [
    "def frequencies_plot(question_num, answers_freqs, path):\n",
    "    correct = UserBuilder.correct_answers[question_num + 1]\n",
    "    w = c.Counter(answers_freqs[question_num])\n",
    "    plt.title(\"Question {}\".format(question_num + 1))\n",
    "    barlist = plt.bar(w.keys(), w.values())\n",
    "    ## Calculate \n",
    "    if question_num+1 != 17:\n",
    "        print([x for x in ans_dict.keys()][ans_dict[correct]])\n",
    "        print(answers_freqs[question_num])\n",
    "        if ([x for x in ans_dict.keys()][ans_dict[correct]] in answers_freqs[question_num]):\n",
    "            try:\n",
    "                barlist[ans_dict[correct]].set_color(\"y\")\n",
    "            except:\n",
    "                pass\n",
    "    title = \"Question \" + str(question_num + 1) + \".png\"\n",
    "    plt.savefig(fname=path + title)\n",
    "    plt.show()"
   ]
  },
  {
   "cell_type": "markdown",
   "metadata": {},
   "source": [
    "### Json dataset opening\n",
    "Also checking the length of the survey elements"
   ]
  },
  {
   "cell_type": "code",
   "execution_count": 188,
   "metadata": {},
   "outputs": [],
   "source": [
    "with open('dataset.json', 'r') as f:\n",
    "    survey = json.load(f)"
   ]
  },
  {
   "cell_type": "code",
   "execution_count": 189,
   "metadata": {},
   "outputs": [
    {
     "data": {
      "text/plain": [
       "56"
      ]
     },
     "execution_count": 189,
     "metadata": {},
     "output_type": "execute_result"
    }
   ],
   "source": [
    "len(survey)"
   ]
  },
  {
   "cell_type": "markdown",
   "metadata": {},
   "source": [
    "### Instantiating the a UserBuilder object\n",
    "Making it build a series of users and returns itself at each iteration.<br>\n",
    "If for some reason a survey is broken, it eliminates it and goes on."
   ]
  },
  {
   "cell_type": "code",
   "execution_count": 190,
   "metadata": {},
   "outputs": [],
   "source": [
    "users_factory = UserBuilder.UserBuilder()"
   ]
  },
  {
   "cell_type": "code",
   "execution_count": 191,
   "metadata": {},
   "outputs": [
    {
     "name": "stdout",
     "output_type": "stream",
     "text": [
      "21\n",
      "34\n",
      "50\n"
     ]
    }
   ],
   "source": [
    "for index in range(len(survey)):\n",
    "    try:\n",
    "        users_factory, _ = users_factory.survey_parser(survey[index])\n",
    "    except:\n",
    "        print(index)\n",
    "        pass"
   ]
  },
  {
   "cell_type": "markdown",
   "metadata": {},
   "source": [
    "### Instantiating an object that is basically the list of users built by the factory\n",
    "From there, it filters the attentive users that answered correctly at the attention check.<br>"
   ]
  },
  {
   "cell_type": "code",
   "execution_count": 192,
   "metadata": {},
   "outputs": [],
   "source": [
    "userseries = users_factory.users_built"
   ]
  },
  {
   "cell_type": "code",
   "execution_count": 193,
   "metadata": {},
   "outputs": [],
   "source": [
    "userseries_attentive = ([x for x in (filter(lambda user: not(user.distracted), userseries))])"
   ]
  },
  {
   "cell_type": "code",
   "execution_count": 194,
   "metadata": {},
   "outputs": [],
   "source": [
    "#filtered_users = UserBuilder.UserBuilder()"
   ]
  },
  {
   "cell_type": "markdown",
   "metadata": {},
   "source": [
    "### Comparison of flist of attentive users and list of all users"
   ]
  },
  {
   "cell_type": "code",
   "execution_count": 195,
   "metadata": {},
   "outputs": [
    {
     "data": {
      "text/plain": [
       "False"
      ]
     },
     "execution_count": 195,
     "metadata": {},
     "output_type": "execute_result"
    }
   ],
   "source": [
    "all_freqs, all_rates = freqsNrates(userseries)\n",
    "attentive_freqs, attentive_rates = freqsNrates(userseries_attentive)\n",
    "all_freqs == attentive_freqs"
   ]
  },
  {
   "cell_type": "markdown",
   "metadata": {},
   "source": [
    "#### Percentage of right answers in attentive users and all users"
   ]
  },
  {
   "cell_type": "code",
   "execution_count": 196,
   "metadata": {},
   "outputs": [
    {
     "data": {
      "text/plain": [
       "0.3784683684794673"
      ]
     },
     "execution_count": 196,
     "metadata": {},
     "output_type": "execute_result"
    }
   ],
   "source": [
    "np.mean(all_rates)"
   ]
  },
  {
   "cell_type": "code",
   "execution_count": 197,
   "metadata": {},
   "outputs": [
    {
     "data": {
      "text/plain": [
       "0.4226006191950464"
      ]
     },
     "execution_count": 197,
     "metadata": {},
     "output_type": "execute_result"
    }
   ],
   "source": [
    "np.mean(attentive_rates)"
   ]
  },
  {
   "cell_type": "markdown",
   "metadata": {},
   "source": [
    "### Barplots for the answers frequecies for each answer\n",
    "If the someone got the right answer, then it's shown in a different colour"
   ]
  },
  {
   "cell_type": "code",
   "execution_count": 198,
   "metadata": {},
   "outputs": [
    {
     "name": "stdout",
     "output_type": "stream",
     "text": [
      "D\n",
      "Counter({'D': 18, 'B': 12, 'C': 12, 'A': 11})\n"
     ]
    },
    {
     "data": {
      "image/png": "[encoded data removed]",
      "text/plain": [
       "<Figure size 432x288 with 1 Axes>"
      ]
     },
     "metadata": {
      "needs_background": "light"
     },
     "output_type": "display_data"
    },
    {
     "name": "stdout",
     "output_type": "stream",
     "text": [
      "C\n",
      "Counter({'B': 34, 'C': 12, 'D': 5, 'A': 2})\n"
     ]
    },
    {
     "data": {
      "image/png": "[encoded data removed]",
      "text/plain": [
       "<Figure size 432x288 with 1 Axes>"
      ]
     },
     "metadata": {
      "needs_background": "light"
     },
     "output_type": "display_data"
    },
    {
     "name": "stdout",
     "output_type": "stream",
     "text": [
      "B\n",
      "Counter({'C': 18, 'B': 15, 'D': 14, 'A': 6})\n"
     ]
    },
    {
     "data": {
      "image/png": "[encoded data removed]",
      "text/plain": [
       "<Figure size 432x288 with 1 Axes>"
      ]
     },
     "metadata": {
      "needs_background": "light"
     },
     "output_type": "display_data"
    },
    {
     "name": "stdout",
     "output_type": "stream",
     "text": [
      "D\n",
      "Counter({'A': 30, 'D': 10, 'C': 8, 'B': 5})\n"
     ]
    },
    {
     "data": {
      "image/png": "[encoded data removed]",
      "text/plain": [
       "<Figure size 432x288 with 1 Axes>"
      ]
     },
     "metadata": {
      "needs_background": "light"
     },
     "output_type": "display_data"
    },
    {
     "name": "stdout",
     "output_type": "stream",
     "text": [
      "B\n",
      "Counter({'B': 34, 'A': 8, 'C': 8, 'D': 3})\n"
     ]
    },
    {
     "data": {
      "image/png": "[encoded data removed]",
      "text/plain": [
       "<Figure size 432x288 with 1 Axes>"
      ]
     },
     "metadata": {
      "needs_background": "light"
     },
     "output_type": "display_data"
    },
    {
     "name": "stdout",
     "output_type": "stream",
     "text": [
      "E\n",
      "Counter({'E': 27, 'B': 10, 'D': 9, 'C': 4, 'A': 3})\n"
     ]
    },
    {
     "data": {
      "image/png": "[encoded data removed]",
      "text/plain": [
       "<Figure size 432x288 with 1 Axes>"
      ]
     },
     "metadata": {
      "needs_background": "light"
     },
     "output_type": "display_data"
    },
    {
     "name": "stdout",
     "output_type": "stream",
     "text": [
      "C\n",
      "Counter({'C': 37, 'A': 15, 'D': 1})\n"
     ]
    },
    {
     "data": {
      "image/png": "[encoded data removed]",
      "text/plain": [
       "<Figure size 432x288 with 1 Axes>"
      ]
     },
     "metadata": {
      "needs_background": "light"
     },
     "output_type": "display_data"
    },
    {
     "name": "stdout",
     "output_type": "stream",
     "text": [
      "D\n",
      "Counter({'C': 17, 'D': 16, 'A': 15, 'B': 5})\n"
     ]
    },
    {
     "data": {
      "image/png": "[encoded data removed]",
      "text/plain": [
       "<Figure size 432x288 with 1 Axes>"
      ]
     },
     "metadata": {
      "needs_background": "light"
     },
     "output_type": "display_data"
    },
    {
     "name": "stdout",
     "output_type": "stream",
     "text": [
      "B\n",
      "Counter({'B': 28, 'A': 14, 'D': 10, 'C': 1})\n"
     ]
    },
    {
     "data": {
      "image/png": "[encoded data removed]",
      "text/plain": [
       "<Figure size 432x288 with 1 Axes>"
      ]
     },
     "metadata": {
      "needs_background": "light"
     },
     "output_type": "display_data"
    },
    {
     "name": "stdout",
     "output_type": "stream",
     "text": [
      "C\n",
      "Counter({'C': 21, 'B': 16, 'A': 11, 'D': 5})\n"
     ]
    },
    {
     "data": {
      "image/png": "[encoded data removed]",
      "text/plain": [
       "<Figure size 432x288 with 1 Axes>"
      ]
     },
     "metadata": {
      "needs_background": "light"
     },
     "output_type": "display_data"
    },
    {
     "name": "stdout",
     "output_type": "stream",
     "text": [
      "A\n",
      "Counter({'A': 17, 'D': 14, 'B': 13, 'C': 9})\n"
     ]
    },
    {
     "data": {
      "image/png": "[encoded data removed]",
      "text/plain": [
       "<Figure size 432x288 with 1 Axes>"
      ]
     },
     "metadata": {
      "needs_background": "light"
     },
     "output_type": "display_data"
    },
    {
     "name": "stdout",
     "output_type": "stream",
     "text": [
      "C\n",
      "Counter({'C': 26, 'A': 19, 'D': 6, 'B': 2})\n"
     ]
    },
    {
     "data": {
      "image/png": "[encoded data removed]",
      "text/plain": [
       "<Figure size 432x288 with 1 Axes>"
      ]
     },
     "metadata": {
      "needs_background": "light"
     },
     "output_type": "display_data"
    },
    {
     "name": "stdout",
     "output_type": "stream",
     "text": [
      "C\n",
      "Counter({'B': 17, 'C': 17, 'D': 11, 'A': 8})\n"
     ]
    },
    {
     "data": {
      "image/png": "[encoded data removed]",
      "text/plain": [
       "<Figure size 432x288 with 1 Axes>"
      ]
     },
     "metadata": {
      "needs_background": "light"
     },
     "output_type": "display_data"
    },
    {
     "name": "stdout",
     "output_type": "stream",
     "text": [
      "C\n",
      "Counter({'C': 22, 'D': 19, 'A': 6, 'B': 6})\n"
     ]
    },
    {
     "data": {
      "image/png": "[encoded data removed]",
      "text/plain": [
       "<Figure size 432x288 with 1 Axes>"
      ]
     },
     "metadata": {
      "needs_background": "light"
     },
     "output_type": "display_data"
    },
    {
     "name": "stdout",
     "output_type": "stream",
     "text": [
      "D\n",
      "Counter({'D': 21, 'A': 14, 'B': 10, 'C': 8})\n"
     ]
    },
    {
     "data": {
      "image/png": "[encoded data removed]",
      "text/plain": [
       "<Figure size 432x288 with 1 Axes>"
      ]
     },
     "metadata": {
      "needs_background": "light"
     },
     "output_type": "display_data"
    },
    {
     "name": "stdout",
     "output_type": "stream",
     "text": [
      "D\n",
      "Counter({'D': 20, 'C': 13, 'B': 11, 'A': 9})\n"
     ]
    },
    {
     "data": {
      "image/png": "[encoded data removed]",
      "text/plain": [
       "<Figure size 432x288 with 1 Axes>"
      ]
     },
     "metadata": {
      "needs_background": "light"
     },
     "output_type": "display_data"
    },
    {
     "data": {
      "image/png": "[encoded data removed]",
      "text/plain": [
       "<Figure size 432x288 with 1 Axes>"
      ]
     },
     "metadata": {
      "needs_background": "light"
     },
     "output_type": "display_data"
    }
   ],
   "source": [
    "for i in range(17):\n",
    "    frequencies_plot(i, all_freqs, path=graphs_path+\"all_freqs/\")"
   ]
  },
  {
   "cell_type": "code",
   "execution_count": 199,
   "metadata": {},
   "outputs": [
    {
     "name": "stdout",
     "output_type": "stream",
     "text": [
      "D\n",
      "Counter({'B': 10, 'D': 10, 'A': 9, 'C': 9})\n"
     ]
    },
    {
     "data": {
      "image/png": "[encoded data removed]",
      "text/plain": [
       "<Figure size 432x288 with 1 Axes>"
      ]
     },
     "metadata": {
      "needs_background": "light"
     },
     "output_type": "display_data"
    },
    {
     "name": "stdout",
     "output_type": "stream",
     "text": [
      "C\n",
      "Counter({'B': 28, 'C': 7, 'D': 2, 'A': 1})\n"
     ]
    },
    {
     "data": {
      "image/png": "[encoded data removed]",
      "text/plain": [
       "<Figure size 432x288 with 1 Axes>"
      ]
     },
     "metadata": {
      "needs_background": "light"
     },
     "output_type": "display_data"
    },
    {
     "name": "stdout",
     "output_type": "stream",
     "text": [
      "B\n",
      "Counter({'B': 12, 'C': 11, 'D': 11, 'A': 4})\n"
     ]
    },
    {
     "data": {
      "image/png": "[encoded data removed]",
      "text/plain": [
       "<Figure size 432x288 with 1 Axes>"
      ]
     },
     "metadata": {
      "needs_background": "light"
     },
     "output_type": "display_data"
    },
    {
     "name": "stdout",
     "output_type": "stream",
     "text": [
      "D\n",
      "Counter({'A': 25, 'D': 7, 'C': 4, 'B': 2})\n"
     ]
    },
    {
     "data": {
      "image/png": "[encoded data removed]",
      "text/plain": [
       "<Figure size 432x288 with 1 Axes>"
      ]
     },
     "metadata": {
      "needs_background": "light"
     },
     "output_type": "display_data"
    },
    {
     "name": "stdout",
     "output_type": "stream",
     "text": [
      "B\n",
      "Counter({'B': 26, 'A': 5, 'C': 5, 'D': 2})\n"
     ]
    },
    {
     "data": {
      "image/png": "[encoded data removed]",
      "text/plain": [
       "<Figure size 432x288 with 1 Axes>"
      ]
     },
     "metadata": {
      "needs_background": "light"
     },
     "output_type": "display_data"
    },
    {
     "name": "stdout",
     "output_type": "stream",
     "text": [
      "E\n",
      "Counter({'E': 23, 'B': 7, 'D': 5, 'C': 3})\n"
     ]
    },
    {
     "data": {
      "image/png": "[encoded data removed]",
      "text/plain": [
       "<Figure size 432x288 with 1 Axes>"
      ]
     },
     "metadata": {
      "needs_background": "light"
     },
     "output_type": "display_data"
    },
    {
     "name": "stdout",
     "output_type": "stream",
     "text": [
      "C\n",
      "Counter({'C': 36, 'A': 2})\n"
     ]
    },
    {
     "data": {
      "image/png": "[encoded data removed]",
      "text/plain": [
       "<Figure size 432x288 with 1 Axes>"
      ]
     },
     "metadata": {
      "needs_background": "light"
     },
     "output_type": "display_data"
    },
    {
     "name": "stdout",
     "output_type": "stream",
     "text": [
      "D\n",
      "Counter({'D': 13, 'C': 12, 'A': 9, 'B': 4})\n"
     ]
    },
    {
     "data": {
      "image/png": "[encoded data removed]",
      "text/plain": [
       "<Figure size 432x288 with 1 Axes>"
      ]
     },
     "metadata": {
      "needs_background": "light"
     },
     "output_type": "display_data"
    },
    {
     "name": "stdout",
     "output_type": "stream",
     "text": [
      "B\n",
      "Counter({'B': 27, 'A': 7, 'D': 4})\n"
     ]
    },
    {
     "data": {
      "image/png": "[encoded data removed]",
      "text/plain": [
       "<Figure size 432x288 with 1 Axes>"
      ]
     },
     "metadata": {
      "needs_background": "light"
     },
     "output_type": "display_data"
    },
    {
     "name": "stdout",
     "output_type": "stream",
     "text": [
      "C\n",
      "Counter({'C': 17, 'B': 12, 'A': 7, 'D': 2})\n"
     ]
    },
    {
     "data": {
      "image/png": "[encoded data removed]",
      "text/plain": [
       "<Figure size 432x288 with 1 Axes>"
      ]
     },
     "metadata": {
      "needs_background": "light"
     },
     "output_type": "display_data"
    },
    {
     "name": "stdout",
     "output_type": "stream",
     "text": [
      "A\n",
      "Counter({'A': 15, 'B': 11, 'C': 7, 'D': 5})\n"
     ]
    },
    {
     "data": {
      "image/png": "[encoded data removed]",
      "text/plain": [
       "<Figure size 432x288 with 1 Axes>"
      ]
     },
     "metadata": {
      "needs_background": "light"
     },
     "output_type": "display_data"
    },
    {
     "name": "stdout",
     "output_type": "stream",
     "text": [
      "C\n",
      "Counter({'C': 20, 'A': 13, 'D': 3, 'B': 2})\n"
     ]
    },
    {
     "data": {
      "image/png": "[encoded data removed]",
      "text/plain": [
       "<Figure size 432x288 with 1 Axes>"
      ]
     },
     "metadata": {
      "needs_background": "light"
     },
     "output_type": "display_data"
    },
    {
     "name": "stdout",
     "output_type": "stream",
     "text": [
      "C\n",
      "Counter({'B': 13, 'D': 11, 'C': 10, 'A': 4})\n"
     ]
    },
    {
     "data": {
      "image/png": "[encoded data removed]",
      "text/plain": [
       "<Figure size 432x288 with 1 Axes>"
      ]
     },
     "metadata": {
      "needs_background": "light"
     },
     "output_type": "display_data"
    },
    {
     "name": "stdout",
     "output_type": "stream",
     "text": [
      "C\n",
      "Counter({'C': 19, 'D': 12, 'B': 5, 'A': 2})\n"
     ]
    },
    {
     "data": {
      "image/png": "[encoded data removed]",
      "text/plain": [
       "<Figure size 432x288 with 1 Axes>"
      ]
     },
     "metadata": {
      "needs_background": "light"
     },
     "output_type": "display_data"
    },
    {
     "name": "stdout",
     "output_type": "stream",
     "text": [
      "D\n",
      "Counter({'D': 18, 'A': 8, 'B': 7, 'C': 5})\n"
     ]
    },
    {
     "data": {
      "image/png": "[encoded data removed]",
      "text/plain": [
       "<Figure size 432x288 with 1 Axes>"
      ]
     },
     "metadata": {
      "needs_background": "light"
     },
     "output_type": "display_data"
    },
    {
     "name": "stdout",
     "output_type": "stream",
     "text": [
      "D\n",
      "Counter({'D': 13, 'C': 10, 'A': 9, 'B': 6})\n"
     ]
    },
    {
     "data": {
      "image/png": "[encoded data removed]",
      "text/plain": [
       "<Figure size 432x288 with 1 Axes>"
      ]
     },
     "metadata": {
      "needs_background": "light"
     },
     "output_type": "display_data"
    },
    {
     "data": {
      "image/png": "[encoded data removed]",
      "text/plain": [
       "<Figure size 432x288 with 1 Axes>"
      ]
     },
     "metadata": {
      "needs_background": "light"
     },
     "output_type": "display_data"
    }
   ],
   "source": [
    "for i in range(17):\n",
    "    frequencies_plot(i, attentive_freqs, path=graphs_path+\"attentive_freqs/\")"
   ]
  },
  {
   "cell_type": "markdown",
   "metadata": {},
   "source": [
    "### Calculate average times for each question and plot them"
   ]
  },
  {
   "cell_type": "code",
   "execution_count": null,
   "metadata": {},
   "outputs": [],
   "source": []
  },
  {
   "cell_type": "code",
   "execution_count": 35,
   "metadata": {},
   "outputs": [
    {
     "data": {
      "text/plain": [
       "(array([45.,  8.,  1.,  0.,  0.,  0.,  1.,  0.,  0.,  1.]),\n",
       " array([  1. ,  25.2,  49.4,  73.6,  97.8, 122. , 146.2, 170.4, 194.6,\n",
       "        218.8, 243. ]),\n",
       " <a list of 10 Patch objects>)"
      ]
     },
     "execution_count": 35,
     "metadata": {},
     "output_type": "execute_result"
    },
    {
     "data": {
      "image/png": "[encoded data removed]",
      "text/plain": [
       "<Figure size 432x288 with 1 Axes>"
      ]
     },
     "metadata": {
      "needs_background": "light"
     },
     "output_type": "display_data"
    }
   ],
   "source": [
    "plt.hist(average_times, histtype=\"bar\", ec=\"black\")"
   ]
  },
  {
   "cell_type": "code",
   "execution_count": 24,
   "metadata": {},
   "outputs": [
    {
     "data": {
      "text/plain": [
       "25.5"
      ]
     },
     "execution_count": 24,
     "metadata": {},
     "output_type": "execute_result"
    }
   ],
   "source": [
    "np.mean(np.asarray(average_times))"
   ]
  },
  {
   "cell_type": "code",
   "execution_count": 25,
   "metadata": {},
   "outputs": [
    {
     "name": "stdout",
     "output_type": "stream",
     "text": [
      "Question:  dict_keys(['question', 'label', 'value', 'rawobj', 'endstamp'])\n",
      "Question:  dict_keys(['question', 'label', 'value', 'rawobj', 'endstamp'])\n",
      "Question:  dict_keys(['question', 'label', 'value', 'rawobj', 'endstamp'])\n",
      "Question:  dict_keys(['question', 'label', 'value', 'rawobj', 'endstamp'])\n",
      "Question:  dict_keys(['question', 'label', 'value', 'rawobj', 'endstamp'])\n",
      "Question:  dict_keys(['question', 'label', 'value', 'rawobj', 'endstamp'])\n",
      "Question:  dict_keys(['question', 'label', 'value', 'rawobj', 'endstamp'])\n",
      "Question:  dict_keys(['question', 'label', 'value', 'rawobj', 'endstamp'])\n",
      "Question:  dict_keys(['question', 'label', 'value', 'rawobj', 'endstamp'])\n",
      "Question:  dict_keys(['question', 'label', 'value', 'rawobj', 'endstamp'])\n",
      "Question:  dict_keys(['question', 'label', 'value', 'rawobj', 'endstamp'])\n",
      "Question:  dict_keys(['question', 'label', 'value', 'rawobj', 'endstamp'])\n",
      "Question:  dict_keys(['question', 'label', 'value', 'rawobj', 'endstamp'])\n",
      "Question:  dict_keys(['question', 'label', 'value', 'rawobj', 'endstamp'])\n",
      "Question:  dict_keys(['question', 'label', 'value', 'rawobj', 'endstamp'])\n",
      "Question:  dict_keys(['question', 'label', 'value', 'rawobj', 'endstamp'])\n",
      "Question:  dict_keys(['question', 'label', 'value', 'rawobj', 'endstamp'])\n",
      "Question:  dict_keys(['question', 'label', 'value', 'rawobj', 'endstamp'])\n",
      "Question:  dict_keys(['question', 'label', 'value', 'rawobj', 'endstamp'])\n"
     ]
    }
   ],
   "source": [
    "question = 1\n",
    "for item in survey[3][\"userresponse\"]:\n",
    "    print(\"Question: \", item.keys())\n",
    "    #.keys()"
   ]
  },
  {
   "cell_type": "code",
   "execution_count": 26,
   "metadata": {},
   "outputs": [
    {
     "data": {
      "text/plain": [
       "{'dev_exp': '2',\n",
       " 'corrected_vision': 'Normal Vision',\n",
       " 'color_blind': 'No',\n",
       " 'language': 'Chinese',\n",
       " 'usage': ['Laptop'],\n",
       " 'gender': 'Female',\n",
       " 'agree': True}"
      ]
     },
     "execution_count": 26,
     "metadata": {},
     "output_type": "execute_result"
    }
   ],
   "source": [
    "{key: value for key,value in survey[0][\"userdata\"][\"personal\"].items() if key != \"email\"}"
   ]
  },
  {
   "cell_type": "code",
   "execution_count": null,
   "metadata": {},
   "outputs": [],
   "source": []
  }
 ],
 "metadata": {
  "kernelspec": {
   "display_name": "Python 3",
   "language": "python",
   "name": "python3"
  },
  "language_info": {
   "codemirror_mode": {
    "name": "ipython",
    "version": 3
   },
   "file_extension": ".py",
   "mimetype": "text/x-python",
   "name": "python",
   "nbconvert_exporter": "python",
   "pygments_lexer": "ipython3",
   "version": "3.7.5"
  }
 },
 "nbformat": 4,
 "nbformat_minor": 4
}
