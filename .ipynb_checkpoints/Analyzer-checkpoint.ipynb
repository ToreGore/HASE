{
 "cells": [
  {
   "cell_type": "markdown",
   "metadata": {},
   "source": [
    "### Imports and \"global variables\" definition"
   ]
  },
  {
   "cell_type": "code",
   "execution_count": 1,
   "metadata": {},
   "outputs": [
    {
     "name": "stdout",
     "output_type": "stream",
     "text": [
      "importing Jupyter notebook from UserBuilder.ipynb\n",
      "importing Jupyter notebook from SurveyUser.ipynb\n"
     ]
    }
   ],
   "source": [
    "import os\n",
    "import json\n",
    "import import_ipynb\n",
    "\n",
    "import numpy as np\n",
    "import pandas as pd\n",
    "import collections as c\n",
    "import plotly.express as px\n",
    "import matplotlib.pyplot as plt\n",
    "\n",
    "import UserBuilder\n",
    "\n",
    "from pathlib import Path\n",
    "from pprint import pprint\n",
    "\n",
    "ans_dict = {\"A\":0, \"B\":1, \"C\":2, \"D\":3, \"E\":4}\n",
    "graphs_path = \"./graphs/\"\n",
    "\n",
    "os.makedirs(graphs_path + \"all_freqs\", exist_ok=True)\n",
    "os.makedirs(graphs_path + \"attentive_freqs\", exist_ok=True)"
   ]
  },
  {
   "cell_type": "markdown",
   "metadata": {},
   "source": [
    "### Functions definition\n",
    "This function gets the frequency of labels in an answer for all the answers and the \"correct answer\" rate.<br>\n",
    "It takes a series of users and return a tuple of frequencies of answers and correct rates per answer."
   ]
  },
  {
   "cell_type": "code",
   "execution_count": 2,
   "metadata": {},
   "outputs": [],
   "source": [
    "def freqsNrates(userfactory, userseries):\n",
    "    answers_freqs = []\n",
    "    answers_rates = []\n",
    "    #for index in range(len(users_factory.users_built[0].))\n",
    "    for index in (userseries[0].questions_dict).keys():\n",
    "        freqs, rates = userfactory.answers_freqs(index, userseries)\n",
    "        answers_freqs.append(freqs)\n",
    "        answers_rates.append(rates)\n",
    "    return answers_freqs, answers_rates"
   ]
  },
  {
   "cell_type": "markdown",
   "metadata": {},
   "source": [
    "This function plots the graph of the answers frequencies for a given question. <br>\n",
    "If someone gave the correct answer, then it's shown in yellow."
   ]
  },
  {
   "cell_type": "code",
   "execution_count": 3,
   "metadata": {},
   "outputs": [],
   "source": [
    "def frequencies_plot(question_num, answers_freqs, path, save=True):\n",
    "    correct = UserBuilder.correct_answers[question_num + 1]\n",
    "    w = c.Counter(answers_freqs[question_num])\n",
    "    plt.title(\"Question {}\".format(question_num + 1))\n",
    "    barlist = plt.bar(w.keys(), w.values())\n",
    "    ## Calculate \n",
    "    if question_num+1 != 17:\n",
    "        print([x for x in ans_dict.keys()][ans_dict[correct]])\n",
    "        print(answers_freqs[question_num])\n",
    "        if ([x for x in ans_dict.keys()][ans_dict[correct]] in answers_freqs[question_num]):\n",
    "            try:\n",
    "                barlist[ans_dict[correct]].set_color(\"y\")\n",
    "            except:\n",
    "                pass\n",
    "    if save:\n",
    "        os.makedirs(graphs_path + path, exist_ok=True)\n",
    "        title = \"Question \" + str(question_num + 1) + \".png\"\n",
    "        plt.savefig(fname=path + title)\n",
    "    plt.show()"
   ]
  },
  {
   "cell_type": "markdown",
   "metadata": {},
   "source": [
    "This function, given a question number, plots the readability scores for said question"
   ]
  },
  {
   "cell_type": "code",
   "execution_count": 4,
   "metadata": {},
   "outputs": [],
   "source": [
    "def readability_plot(question_num, readabilities, path, save=True):\n",
    "    w = c.Counter(readabilities[question_num])\n",
    "    plt.title(\"Readability scores for question {}\".format(question_num + 1))\n",
    "    barlist = plt.bar(w.keys(), w.values())\n",
    "    #print(readabilities[question_num])\n",
    "    if save:\n",
    "        os.makedirs(graphs_path + path, exist_ok=True)\n",
    "        title = \"Readability scores for question \" + str(question_num + 1) + \".png\"\n",
    "        plt.savefig(fname=path + title)\n",
    "    plt.show()"
   ]
  },
  {
   "cell_type": "markdown",
   "metadata": {},
   "source": [
    "### Json dataset opening\n",
    "Also checking the length of the survey elements"
   ]
  },
  {
   "cell_type": "code",
   "execution_count": 5,
   "metadata": {},
   "outputs": [],
   "source": [
    "with open('rawdata.json', 'r') as f:\n",
    "    survey = json.load(f)"
   ]
  },
  {
   "cell_type": "code",
   "execution_count": 6,
   "metadata": {},
   "outputs": [
    {
     "data": {
      "text/plain": [
       "132"
      ]
     },
     "execution_count": 6,
     "metadata": {},
     "output_type": "execute_result"
    }
   ],
   "source": [
    "len(survey)"
   ]
  },
  {
   "cell_type": "code",
   "execution_count": 7,
   "metadata": {},
   "outputs": [
    {
     "data": {
      "text/plain": [
       "'B'"
      ]
     },
     "execution_count": 7,
     "metadata": {},
     "output_type": "execute_result"
    }
   ],
   "source": [
    "survey[0][\"surveytype\"]"
   ]
  },
  {
   "cell_type": "markdown",
   "metadata": {},
   "source": [
    "### Instantiating the a UserBuilder object\n",
    "Making it build a series of users and returns itself at each iteration.<br>\n",
    "If for some reason a survey is broken, it eliminates it and goes on."
   ]
  },
  {
   "cell_type": "code",
   "execution_count": 8,
   "metadata": {},
   "outputs": [],
   "source": [
    "users_factory = UserBuilder.UserBuilder()"
   ]
  },
  {
   "cell_type": "code",
   "execution_count": 9,
   "metadata": {},
   "outputs": [
    {
     "name": "stdout",
     "output_type": "stream",
     "text": [
      "21\n",
      "34\n",
      "50\n",
      "57\n",
      "63\n",
      "65\n",
      "68\n",
      "78\n",
      "91\n",
      "96\n",
      "124\n"
     ]
    }
   ],
   "source": [
    "for index in range(len(survey)):\n",
    "    try:\n",
    "        users_factory, _ = users_factory.survey_parser(survey[index])\n",
    "    except:\n",
    "        print(index)\n",
    "        pass"
   ]
  },
  {
   "cell_type": "markdown",
   "metadata": {},
   "source": [
    "### Instantiating an object that is basically the list of users built by the factory\n",
    "From there, it filters the attentive users that answered correctly at the attention check.<br>"
   ]
  },
  {
   "cell_type": "code",
   "execution_count": 10,
   "metadata": {},
   "outputs": [],
   "source": [
    "userseries = users_factory.users_built"
   ]
  },
  {
   "cell_type": "code",
   "execution_count": 11,
   "metadata": {},
   "outputs": [],
   "source": [
    "userseries_attentive = ([x for x in (filter(lambda user: not(user.distracted), userseries))])"
   ]
  },
  {
   "cell_type": "code",
   "execution_count": 12,
   "metadata": {},
   "outputs": [],
   "source": [
    "#filtered_users = UserBuilder.UserBuilder()"
   ]
  },
  {
   "cell_type": "markdown",
   "metadata": {},
   "source": [
    "### Comparison of flist of attentive users and list of all users"
   ]
  },
  {
   "cell_type": "code",
   "execution_count": 13,
   "metadata": {},
   "outputs": [
    {
     "data": {
      "text/plain": [
       "False"
      ]
     },
     "execution_count": 13,
     "metadata": {},
     "output_type": "execute_result"
    }
   ],
   "source": [
    "all_freqs, all_rates = freqsNrates(UserBuilder.UserBuilder(), userseries)\n",
    "attentive_freqs, attentive_rates = freqsNrates(UserBuilder.UserBuilder(), userseries_attentive)\n",
    "all_freqs == attentive_freqs"
   ]
  },
  {
   "cell_type": "code",
   "execution_count": 14,
   "metadata": {},
   "outputs": [
    {
     "data": {
      "text/plain": [
       "[Counter({'A': 25, 'B': 27, 'C': 31, 'D': 38}),\n",
       " Counter({'A': 9, 'B': 61, 'C': 39, 'D': 12}),\n",
       " Counter({'A': 21, 'B': 27, 'C': 52, 'D': 21}),\n",
       " Counter({'A': 64, 'B': 20, 'C': 19, 'D': 18}),\n",
       " Counter({'A': 21, 'B': 67, 'C': 23, 'D': 10}),\n",
       " Counter({'A': 7, 'B': 23, 'C': 14, 'D': 30, 'E': 47}),\n",
       " Counter({'A': 42, 'B': 1, 'C': 77, 'D': 1}),\n",
       " Counter({'A': 47, 'B': 18, 'C': 34, 'D': 22}),\n",
       " Counter({'A': 44, 'B': 44, 'C': 9, 'D': 24}),\n",
       " Counter({'A': 24, 'B': 31, 'C': 50, 'D': 16}),\n",
       " Counter({'A': 31, 'B': 26, 'C': 21, 'D': 43}),\n",
       " Counter({'A': 36, 'B': 20, 'C': 47, 'D': 18}),\n",
       " Counter({'A': 30, 'B': 38, 'C': 33, 'D': 20}),\n",
       " Counter({'A': 22, 'B': 28, 'C': 36, 'D': 35}),\n",
       " Counter({'A': 37, 'B': 27, 'C': 18, 'D': 39}),\n",
       " Counter({'A': 24, 'B': 23, 'C': 27, 'D': 47}),\n",
       " Counter({'A': 37, 'B': 68, 'C': 5, 'D': 11})]"
      ]
     },
     "execution_count": 14,
     "metadata": {},
     "output_type": "execute_result"
    }
   ],
   "source": [
    "all_freqs"
   ]
  },
  {
   "cell_type": "markdown",
   "metadata": {},
   "source": [
    "#### Percentage of right answers in attentive users and all users"
   ]
  },
  {
   "cell_type": "code",
   "execution_count": 15,
   "metadata": {},
   "outputs": [
    {
     "data": {
      "text/plain": [
       "0.32182790471560524"
      ]
     },
     "execution_count": 15,
     "metadata": {},
     "output_type": "execute_result"
    }
   ],
   "source": [
    "np.mean(all_rates)"
   ]
  },
  {
   "cell_type": "code",
   "execution_count": 16,
   "metadata": {},
   "outputs": [
    {
     "data": {
      "text/plain": [
       "0.3599439775910364"
      ]
     },
     "execution_count": 16,
     "metadata": {},
     "output_type": "execute_result"
    }
   ],
   "source": [
    "np.mean(attentive_rates)"
   ]
  },
  {
   "cell_type": "markdown",
   "metadata": {},
   "source": [
    "### Barplots for the answers frequecies for each answer\n",
    "If the someone got the right answer, then it's shown in a different colour"
   ]
  },
  {
   "cell_type": "code",
   "execution_count": 17,
   "metadata": {},
   "outputs": [
    {
     "name": "stdout",
     "output_type": "stream",
     "text": [
      "D\n",
      "Counter({'D': 38, 'C': 31, 'B': 27, 'A': 25})\n"
     ]
    },
    {
     "data": {
      "image/png": "[encoded data removed]",
      "text/plain": [
       "<Figure size 432x288 with 1 Axes>"
      ]
     },
     "metadata": {
      "needs_background": "light"
     },
     "output_type": "display_data"
    },
    {
     "name": "stdout",
     "output_type": "stream",
     "text": [
      "C\n",
      "Counter({'B': 61, 'C': 39, 'D': 12, 'A': 9})\n"
     ]
    },
    {
     "data": {
      "image/png": "[encoded data removed]",
      "text/plain": [
       "<Figure size 432x288 with 1 Axes>"
      ]
     },
     "metadata": {
      "needs_background": "light"
     },
     "output_type": "display_data"
    },
    {
     "name": "stdout",
     "output_type": "stream",
     "text": [
      "B\n",
      "Counter({'C': 52, 'B': 27, 'A': 21, 'D': 21})\n"
     ]
    },
    {
     "data": {
      "image/png": "[encoded data removed]",
      "text/plain": [
       "<Figure size 432x288 with 1 Axes>"
      ]
     },
     "metadata": {
      "needs_background": "light"
     },
     "output_type": "display_data"
    },
    {
     "name": "stdout",
     "output_type": "stream",
     "text": [
      "D\n",
      "Counter({'A': 64, 'B': 20, 'C': 19, 'D': 18})\n"
     ]
    },
    {
     "data": {
      "image/png": "[encoded data removed]",
      "text/plain": [
       "<Figure size 432x288 with 1 Axes>"
      ]
     },
     "metadata": {
      "needs_background": "light"
     },
     "output_type": "display_data"
    },
    {
     "name": "stdout",
     "output_type": "stream",
     "text": [
      "B\n",
      "Counter({'B': 67, 'C': 23, 'A': 21, 'D': 10})\n"
     ]
    },
    {
     "data": {
      "image/png": "[encoded data removed]",
      "text/plain": [
       "<Figure size 432x288 with 1 Axes>"
      ]
     },
     "metadata": {
      "needs_background": "light"
     },
     "output_type": "display_data"
    },
    {
     "name": "stdout",
     "output_type": "stream",
     "text": [
      "E\n",
      "Counter({'E': 47, 'D': 30, 'B': 23, 'C': 14, 'A': 7})\n"
     ]
    },
    {
     "data": {
      "image/png": "[encoded data removed]",
      "text/plain": [
       "<Figure size 432x288 with 1 Axes>"
      ]
     },
     "metadata": {
      "needs_background": "light"
     },
     "output_type": "display_data"
    },
    {
     "name": "stdout",
     "output_type": "stream",
     "text": [
      "C\n",
      "Counter({'C': 77, 'A': 42, 'B': 1, 'D': 1})\n"
     ]
    },
    {
     "data": {
      "image/png": "[encoded data removed]",
      "text/plain": [
       "<Figure size 432x288 with 1 Axes>"
      ]
     },
     "metadata": {
      "needs_background": "light"
     },
     "output_type": "display_data"
    },
    {
     "name": "stdout",
     "output_type": "stream",
     "text": [
      "D\n",
      "Counter({'A': 47, 'C': 34, 'D': 22, 'B': 18})\n"
     ]
    },
    {
     "data": {
      "image/png": "[encoded data removed]",
      "text/plain": [
       "<Figure size 432x288 with 1 Axes>"
      ]
     },
     "metadata": {
      "needs_background": "light"
     },
     "output_type": "display_data"
    },
    {
     "name": "stdout",
     "output_type": "stream",
     "text": [
      "B\n",
      "Counter({'A': 44, 'B': 44, 'D': 24, 'C': 9})\n"
     ]
    },
    {
     "data": {
      "image/png": "[encoded data removed]",
      "text/plain": [
       "<Figure size 432x288 with 1 Axes>"
      ]
     },
     "metadata": {
      "needs_background": "light"
     },
     "output_type": "display_data"
    },
    {
     "name": "stdout",
     "output_type": "stream",
     "text": [
      "C\n",
      "Counter({'C': 50, 'B': 31, 'A': 24, 'D': 16})\n"
     ]
    },
    {
     "data": {
      "image/png": "[encoded data removed]",
      "text/plain": [
       "<Figure size 432x288 with 1 Axes>"
      ]
     },
     "metadata": {
      "needs_background": "light"
     },
     "output_type": "display_data"
    },
    {
     "name": "stdout",
     "output_type": "stream",
     "text": [
      "A\n",
      "Counter({'D': 43, 'A': 31, 'B': 26, 'C': 21})\n"
     ]
    },
    {
     "data": {
      "image/png": "[encoded data removed]",
      "text/plain": [
       "<Figure size 432x288 with 1 Axes>"
      ]
     },
     "metadata": {
      "needs_background": "light"
     },
     "output_type": "display_data"
    },
    {
     "name": "stdout",
     "output_type": "stream",
     "text": [
      "C\n",
      "Counter({'C': 47, 'A': 36, 'B': 20, 'D': 18})\n"
     ]
    },
    {
     "data": {
      "image/png": "[encoded data removed]",
      "text/plain": [
       "<Figure size 432x288 with 1 Axes>"
      ]
     },
     "metadata": {
      "needs_background": "light"
     },
     "output_type": "display_data"
    },
    {
     "name": "stdout",
     "output_type": "stream",
     "text": [
      "C\n",
      "Counter({'B': 38, 'C': 33, 'A': 30, 'D': 20})\n"
     ]
    },
    {
     "data": {
      "image/png": "[encoded data removed]",
      "text/plain": [
       "<Figure size 432x288 with 1 Axes>"
      ]
     },
     "metadata": {
      "needs_background": "light"
     },
     "output_type": "display_data"
    },
    {
     "name": "stdout",
     "output_type": "stream",
     "text": [
      "C\n",
      "Counter({'C': 36, 'D': 35, 'B': 28, 'A': 22})\n"
     ]
    },
    {
     "data": {
      "image/png": "[encoded data removed]",
      "text/plain": [
       "<Figure size 432x288 with 1 Axes>"
      ]
     },
     "metadata": {
      "needs_background": "light"
     },
     "output_type": "display_data"
    },
    {
     "name": "stdout",
     "output_type": "stream",
     "text": [
      "D\n",
      "Counter({'D': 39, 'A': 37, 'B': 27, 'C': 18})\n"
     ]
    },
    {
     "data": {
      "image/png": "[encoded data removed]",
      "text/plain": [
       "<Figure size 432x288 with 1 Axes>"
      ]
     },
     "metadata": {
      "needs_background": "light"
     },
     "output_type": "display_data"
    },
    {
     "name": "stdout",
     "output_type": "stream",
     "text": [
      "D\n",
      "Counter({'D': 47, 'C': 27, 'A': 24, 'B': 23})\n"
     ]
    },
    {
     "data": {
      "image/png": "[encoded data removed]",
      "text/plain": [
       "<Figure size 432x288 with 1 Axes>"
      ]
     },
     "metadata": {
      "needs_background": "light"
     },
     "output_type": "display_data"
    },
    {
     "data": {
      "image/png": "[encoded data removed]",
      "text/plain": [
       "<Figure size 432x288 with 1 Axes>"
      ]
     },
     "metadata": {
      "needs_background": "light"
     },
     "output_type": "display_data"
    }
   ],
   "source": [
    "for i in range(17):\n",
    "    frequencies_plot(i, all_freqs, path=graphs_path+\"all_freqs/\")"
   ]
  },
  {
   "cell_type": "code",
   "execution_count": 18,
   "metadata": {},
   "outputs": [
    {
     "name": "stdout",
     "output_type": "stream",
     "text": [
      "D\n",
      "Counter({'D': 26, 'C': 22, 'A': 18, 'B': 18})\n"
     ]
    },
    {
     "data": {
      "image/png": "[encoded data removed]",
      "text/plain": [
       "<Figure size 432x288 with 1 Axes>"
      ]
     },
     "metadata": {
      "needs_background": "light"
     },
     "output_type": "display_data"
    },
    {
     "name": "stdout",
     "output_type": "stream",
     "text": [
      "C\n",
      "Counter({'B': 46, 'C': 26, 'D': 7, 'A': 5})\n"
     ]
    },
    {
     "data": {
      "image/png": "[encoded data removed]",
      "text/plain": [
       "<Figure size 432x288 with 1 Axes>"
      ]
     },
     "metadata": {
      "needs_background": "light"
     },
     "output_type": "display_data"
    },
    {
     "name": "stdout",
     "output_type": "stream",
     "text": [
      "B\n",
      "Counter({'C': 33, 'B': 20, 'D': 17, 'A': 14})\n"
     ]
    },
    {
     "data": {
      "image/png": "[encoded data removed]",
      "text/plain": [
       "<Figure size 432x288 with 1 Axes>"
      ]
     },
     "metadata": {
      "needs_background": "light"
     },
     "output_type": "display_data"
    },
    {
     "name": "stdout",
     "output_type": "stream",
     "text": [
      "D\n",
      "Counter({'A': 52, 'D': 14, 'B': 9, 'C': 9})\n"
     ]
    },
    {
     "data": {
      "image/png": "[encoded data removed]",
      "text/plain": [
       "<Figure size 432x288 with 1 Axes>"
      ]
     },
     "metadata": {
      "needs_background": "light"
     },
     "output_type": "display_data"
    },
    {
     "name": "stdout",
     "output_type": "stream",
     "text": [
      "B\n",
      "Counter({'B': 52, 'A': 14, 'C': 12, 'D': 6})\n"
     ]
    },
    {
     "data": {
      "image/png": "[encoded data removed]",
      "text/plain": [
       "<Figure size 432x288 with 1 Axes>"
      ]
     },
     "metadata": {
      "needs_background": "light"
     },
     "output_type": "display_data"
    },
    {
     "name": "stdout",
     "output_type": "stream",
     "text": [
      "E\n",
      "Counter({'E': 37, 'D': 21, 'B': 15, 'C': 8, 'A': 3})\n"
     ]
    },
    {
     "data": {
      "image/png": "[encoded data removed]",
      "text/plain": [
       "<Figure size 432x288 with 1 Axes>"
      ]
     },
     "metadata": {
      "needs_background": "light"
     },
     "output_type": "display_data"
    },
    {
     "name": "stdout",
     "output_type": "stream",
     "text": [
      "C\n",
      "Counter({'C': 75, 'A': 9})\n"
     ]
    },
    {
     "data": {
      "image/png": "[encoded data removed]",
      "text/plain": [
       "<Figure size 432x288 with 1 Axes>"
      ]
     },
     "metadata": {
      "needs_background": "light"
     },
     "output_type": "display_data"
    },
    {
     "name": "stdout",
     "output_type": "stream",
     "text": [
      "D\n",
      "Counter({'A': 34, 'C': 23, 'D': 17, 'B': 10})\n"
     ]
    },
    {
     "data": {
      "image/png": "[encoded data removed]",
      "text/plain": [
       "<Figure size 432x288 with 1 Axes>"
      ]
     },
     "metadata": {
      "needs_background": "light"
     },
     "output_type": "display_data"
    },
    {
     "name": "stdout",
     "output_type": "stream",
     "text": [
      "B\n",
      "Counter({'B': 38, 'A': 28, 'D': 14, 'C': 4})\n"
     ]
    },
    {
     "data": {
      "image/png": "[encoded data removed]",
      "text/plain": [
       "<Figure size 432x288 with 1 Axes>"
      ]
     },
     "metadata": {
      "needs_background": "light"
     },
     "output_type": "display_data"
    },
    {
     "name": "stdout",
     "output_type": "stream",
     "text": [
      "C\n",
      "Counter({'C': 37, 'B': 23, 'A': 14, 'D': 10})\n"
     ]
    },
    {
     "data": {
      "image/png": "[encoded data removed]",
      "text/plain": [
       "<Figure size 432x288 with 1 Axes>"
      ]
     },
     "metadata": {
      "needs_background": "light"
     },
     "output_type": "display_data"
    },
    {
     "name": "stdout",
     "output_type": "stream",
     "text": [
      "A\n",
      "Counter({'A': 27, 'D': 26, 'B': 17, 'C': 14})\n"
     ]
    },
    {
     "data": {
      "image/png": "[encoded data removed]",
      "text/plain": [
       "<Figure size 432x288 with 1 Axes>"
      ]
     },
     "metadata": {
      "needs_background": "light"
     },
     "output_type": "display_data"
    },
    {
     "name": "stdout",
     "output_type": "stream",
     "text": [
      "C\n",
      "Counter({'C': 34, 'A': 26, 'B': 13, 'D': 11})\n"
     ]
    },
    {
     "data": {
      "image/png": "[encoded data removed]",
      "text/plain": [
       "<Figure size 432x288 with 1 Axes>"
      ]
     },
     "metadata": {
      "needs_background": "light"
     },
     "output_type": "display_data"
    },
    {
     "name": "stdout",
     "output_type": "stream",
     "text": [
      "C\n",
      "Counter({'B': 25, 'C': 21, 'A': 20, 'D': 18})\n"
     ]
    },
    {
     "data": {
      "image/png": "[encoded data removed]",
      "text/plain": [
       "<Figure size 432x288 with 1 Axes>"
      ]
     },
     "metadata": {
      "needs_background": "light"
     },
     "output_type": "display_data"
    },
    {
     "name": "stdout",
     "output_type": "stream",
     "text": [
      "C\n",
      "Counter({'C': 28, 'D': 23, 'B': 22, 'A': 11})\n"
     ]
    },
    {
     "data": {
      "image/png": "[encoded data removed]",
      "text/plain": [
       "<Figure size 432x288 with 1 Axes>"
      ]
     },
     "metadata": {
      "needs_background": "light"
     },
     "output_type": "display_data"
    },
    {
     "name": "stdout",
     "output_type": "stream",
     "text": [
      "D\n",
      "Counter({'D': 29, 'A': 23, 'B': 21, 'C': 11})\n"
     ]
    },
    {
     "data": {
      "image/png": "[encoded data removed]",
      "text/plain": [
       "<Figure size 432x288 with 1 Axes>"
      ]
     },
     "metadata": {
      "needs_background": "light"
     },
     "output_type": "display_data"
    },
    {
     "name": "stdout",
     "output_type": "stream",
     "text": [
      "D\n",
      "Counter({'D': 33, 'A': 21, 'C': 17, 'B': 13})\n"
     ]
    },
    {
     "data": {
      "image/png": "[encoded data removed]",
      "text/plain": [
       "<Figure size 432x288 with 1 Axes>"
      ]
     },
     "metadata": {
      "needs_background": "light"
     },
     "output_type": "display_data"
    },
    {
     "data": {
      "image/png": "[encoded data removed]",
      "text/plain": [
       "<Figure size 432x288 with 1 Axes>"
      ]
     },
     "metadata": {
      "needs_background": "light"
     },
     "output_type": "display_data"
    }
   ],
   "source": [
    "for i in range(17):\n",
    "    frequencies_plot(i, attentive_freqs, path=graphs_path+\"attentive_freqs/\")"
   ]
  },
  {
   "cell_type": "markdown",
   "metadata": {},
   "source": [
    "### Calculate average completion time for each user and plot"
   ]
  },
  {
   "cell_type": "code",
   "execution_count": 19,
   "metadata": {},
   "outputs": [],
   "source": [
    "average_times = [user.time_completion() for user in userseries_attentive]"
   ]
  },
  {
   "cell_type": "code",
   "execution_count": 20,
   "metadata": {},
   "outputs": [],
   "source": [
    "#userseries_attentive[0].questions_dict"
   ]
  },
  {
   "cell_type": "code",
   "execution_count": 21,
   "metadata": {},
   "outputs": [
    {
     "data": {
      "text/plain": [
       "(array([63., 15.,  4.,  0.,  0.,  1.,  0.,  0.,  0.,  1.]),\n",
       " array([  1.8385  ,  18.348295,  34.85809 ,  51.367885,  67.87768 ,\n",
       "         84.387475, 100.89727 , 117.407065, 133.91686 , 150.426655,\n",
       "        166.93645 ]),\n",
       " <a list of 10 Patch objects>)"
      ]
     },
     "execution_count": 21,
     "metadata": {},
     "output_type": "execute_result"
    },
    {
     "data": {
      "image/png": "[encoded data removed]",
      "text/plain": [
       "<Figure size 432x288 with 1 Axes>"
      ]
     },
     "metadata": {
      "needs_background": "light"
     },
     "output_type": "display_data"
    }
   ],
   "source": [
    "plt.hist(average_times, histtype=\"bar\", ec=\"black\")"
   ]
  },
  {
   "cell_type": "code",
   "execution_count": 22,
   "metadata": {},
   "outputs": [
    {
     "data": {
      "text/plain": [
       "16.318951984126983"
      ]
     },
     "execution_count": 22,
     "metadata": {},
     "output_type": "execute_result"
    }
   ],
   "source": [
    "np.mean(np.asarray(average_times))"
   ]
  },
  {
   "cell_type": "markdown",
   "metadata": {},
   "source": [
    "### Readability preferences"
   ]
  },
  {
   "cell_type": "code",
   "execution_count": 23,
   "metadata": {},
   "outputs": [],
   "source": [
    "#preferences = ([int(x) for x in UserBuilder.UserBuilder().prefs_freqs(1, userseries_attentive)])\n",
    "pref_questions = [(UserBuilder.UserBuilder().prefs_freqs(index, userseries_attentive)) if index != 7 else [] for index in range(1,17)]"
   ]
  },
  {
   "cell_type": "code",
   "execution_count": 24,
   "metadata": {},
   "outputs": [
    {
     "data": {
      "image/png": "[encoded data removed]",
      "text/plain": [
       "<Figure size 432x288 with 1 Axes>"
      ]
     },
     "metadata": {
      "needs_background": "light"
     },
     "output_type": "display_data"
    },
    {
     "data": {
      "image/png": "[encoded data removed]",
      "text/plain": [
       "<Figure size 432x288 with 1 Axes>"
      ]
     },
     "metadata": {
      "needs_background": "light"
     },
     "output_type": "display_data"
    },
    {
     "data": {
      "image/png": "[encoded data removed]",
      "text/plain": [
       "<Figure size 432x288 with 1 Axes>"
      ]
     },
     "metadata": {
      "needs_background": "light"
     },
     "output_type": "display_data"
    },
    {
     "data": {
      "image/png": "[encoded data removed]",
      "text/plain": [
       "<Figure size 432x288 with 1 Axes>"
      ]
     },
     "metadata": {
      "needs_background": "light"
     },
     "output_type": "display_data"
    },
    {
     "data": {
      "image/png": "[encoded data removed]",
      "text/plain": [
       "<Figure size 432x288 with 1 Axes>"
      ]
     },
     "metadata": {
      "needs_background": "light"
     },
     "output_type": "display_data"
    },
    {
     "data": {
      "image/png": "[encoded data removed]",
      "text/plain": [
       "<Figure size 432x288 with 1 Axes>"
      ]
     },
     "metadata": {
      "needs_background": "light"
     },
     "output_type": "display_data"
    },
    {
     "data": {
      "image/png": "[encoded data removed]",
      "text/plain": [
       "<Figure size 432x288 with 1 Axes>"
      ]
     },
     "metadata": {
      "needs_background": "light"
     },
     "output_type": "display_data"
    },
    {
     "data": {
      "image/png": "[encoded data removed]",
      "text/plain": [
       "<Figure size 432x288 with 1 Axes>"
      ]
     },
     "metadata": {
      "needs_background": "light"
     },
     "output_type": "display_data"
    },
    {
     "data": {
      "image/png": "[encoded data removed]",
      "text/plain": [
       "<Figure size 432x288 with 1 Axes>"
      ]
     },
     "metadata": {
      "needs_background": "light"
     },
     "output_type": "display_data"
    },
    {
     "data": {
      "image/png": "[encoded data removed]",
      "text/plain": [
       "<Figure size 432x288 with 1 Axes>"
      ]
     },
     "metadata": {
      "needs_background": "light"
     },
     "output_type": "display_data"
    },
    {
     "data": {
      "image/png": "[encoded data removed]",
      "text/plain": [
       "<Figure size 432x288 with 1 Axes>"
      ]
     },
     "metadata": {
      "needs_background": "light"
     },
     "output_type": "display_data"
    },
    {
     "data": {
      "image/png": "[encoded data removed]",
      "text/plain": [
       "<Figure size 432x288 with 1 Axes>"
      ]
     },
     "metadata": {
      "needs_background": "light"
     },
     "output_type": "display_data"
    },
    {
     "data": {
      "image/png": "[encoded data removed]",
      "text/plain": [
       "<Figure size 432x288 with 1 Axes>"
      ]
     },
     "metadata": {
      "needs_background": "light"
     },
     "output_type": "display_data"
    },
    {
     "data": {
      "image/png": "[encoded data removed]",
      "text/plain": [
       "<Figure size 432x288 with 1 Axes>"
      ]
     },
     "metadata": {
      "needs_background": "light"
     },
     "output_type": "display_data"
    },
    {
     "data": {
      "image/png": "[encoded data removed]",
      "text/plain": [
       "<Figure size 432x288 with 1 Axes>"
      ]
     },
     "metadata": {
      "needs_background": "light"
     },
     "output_type": "display_data"
    },
    {
     "data": {
      "image/png": "[encoded data removed]",
      "text/plain": [
       "<Figure size 432x288 with 1 Axes>"
      ]
     },
     "metadata": {
      "needs_background": "light"
     },
     "output_type": "display_data"
    }
   ],
   "source": [
    "for i in range(16):\n",
    "    readability_plot(i, pref_questions, path=graphs_path+\"preferencies/\", save=True)"
   ]
  },
  {
   "cell_type": "code",
   "execution_count": 25,
   "metadata": {},
   "outputs": [
    {
     "name": "stderr",
     "output_type": "stream",
     "text": [
      "/home/tore/venv/lib/python3.7/site-packages/numpy/core/fromnumeric.py:3335: RuntimeWarning: Mean of empty slice.\n",
      "  out=out, **kwargs)\n",
      "/home/tore/venv/lib/python3.7/site-packages/numpy/core/_methods.py:161: RuntimeWarning: invalid value encountered in double_scalars\n",
      "  ret = ret.dtype.type(ret / rcount)\n"
     ]
    }
   ],
   "source": [
    "averaged_preferences = [np.mean(np.asarray([int(x) for x in pref])) for pref in pref_questions]"
   ]
  },
  {
   "cell_type": "code",
   "execution_count": 26,
   "metadata": {},
   "outputs": [
    {
     "data": {
      "text/plain": [
       "{1: 3.011904761904762,\n",
       " 2: 3.392857142857143,\n",
       " 3: 3.4285714285714284,\n",
       " 4: 3.630952380952381,\n",
       " 5: 3.3333333333333335,\n",
       " 6: 3.1547619047619047,\n",
       " 7: nan,\n",
       " 8: 3.2142857142857144,\n",
       " 9: 3.369047619047619,\n",
       " 10: 3.4285714285714284,\n",
       " 11: 3.369047619047619,\n",
       " 12: 3.4404761904761907,\n",
       " 13: 3.2142857142857144,\n",
       " 14: 3.357142857142857,\n",
       " 15: 3.2738095238095237,\n",
       " 16: 3.4047619047619047}"
      ]
     },
     "execution_count": 26,
     "metadata": {},
     "output_type": "execute_result"
    }
   ],
   "source": [
    "({i+1:j for i,j in enumerate(averaged_preferences)})"
   ]
  },
  {
   "cell_type": "markdown",
   "metadata": {},
   "source": [
    "### Scatter plot Expertise / Rating"
   ]
  },
  {
   "cell_type": "code",
   "execution_count": 27,
   "metadata": {},
   "outputs": [],
   "source": [
    "expertise = [float(user.info[\"dev_exp\"]) for user in userseries_attentive]"
   ]
  },
  {
   "cell_type": "code",
   "execution_count": 28,
   "metadata": {},
   "outputs": [],
   "source": [
    "ratings = [np.mean(np.asarray([int(user.user_rating[question_num][-1][0]) for question_num in range(1,17) if question_num != 7])) for user in userseries_attentive]\n",
    "#users_answers.append(int(user.user_rating[question_number][-1][0]))"
   ]
  },
  {
   "cell_type": "code",
   "execution_count": 30,
   "metadata": {},
   "outputs": [
    {
     "ename": "FileNotFoundError",
     "evalue": "[Errno 2] No such file or directory: 'scatters/expertise-ratings.png'",
     "output_type": "error",
     "traceback": [
      "\u001b[0;31m---------------------------------------------------------------------------\u001b[0m",
      "\u001b[0;31mFileNotFoundError\u001b[0m                         Traceback (most recent call last)",
      "\u001b[0;32m<ipython-input-30-10e24af09b15>\u001b[0m in \u001b[0;36m<module>\u001b[0;34m\u001b[0m\n\u001b[1;32m      2\u001b[0m \u001b[0mplt\u001b[0m\u001b[0;34m.\u001b[0m\u001b[0mylabel\u001b[0m\u001b[0;34m(\u001b[0m\u001b[0;34m\"Ratings\"\u001b[0m\u001b[0;34m)\u001b[0m\u001b[0;34m\u001b[0m\u001b[0;34m\u001b[0m\u001b[0m\n\u001b[1;32m      3\u001b[0m \u001b[0mplt\u001b[0m\u001b[0;34m.\u001b[0m\u001b[0mscatter\u001b[0m\u001b[0;34m(\u001b[0m\u001b[0mexpertise\u001b[0m\u001b[0;34m,\u001b[0m \u001b[0mratings\u001b[0m\u001b[0;34m)\u001b[0m\u001b[0;34m\u001b[0m\u001b[0;34m\u001b[0m\u001b[0m\n\u001b[0;32m----> 4\u001b[0;31m \u001b[0mplt\u001b[0m\u001b[0;34m.\u001b[0m\u001b[0msavefig\u001b[0m\u001b[0;34m(\u001b[0m\u001b[0;34m\"scatters/expertise-ratings.png\"\u001b[0m\u001b[0;34m)\u001b[0m\u001b[0;34m\u001b[0m\u001b[0;34m\u001b[0m\u001b[0m\n\u001b[0m\u001b[1;32m      5\u001b[0m \u001b[0mplt\u001b[0m\u001b[0;34m.\u001b[0m\u001b[0mshow\u001b[0m\u001b[0;34m(\u001b[0m\u001b[0;34m)\u001b[0m\u001b[0;34m\u001b[0m\u001b[0;34m\u001b[0m\u001b[0m\n",
      "\u001b[0;32m~/venv/lib/python3.7/site-packages/matplotlib/pyplot.py\u001b[0m in \u001b[0;36msavefig\u001b[0;34m(*args, **kwargs)\u001b[0m\n\u001b[1;32m    721\u001b[0m \u001b[0;32mdef\u001b[0m \u001b[0msavefig\u001b[0m\u001b[0;34m(\u001b[0m\u001b[0;34m*\u001b[0m\u001b[0margs\u001b[0m\u001b[0;34m,\u001b[0m \u001b[0;34m**\u001b[0m\u001b[0mkwargs\u001b[0m\u001b[0;34m)\u001b[0m\u001b[0;34m:\u001b[0m\u001b[0;34m\u001b[0m\u001b[0;34m\u001b[0m\u001b[0m\n\u001b[1;32m    722\u001b[0m     \u001b[0mfig\u001b[0m \u001b[0;34m=\u001b[0m \u001b[0mgcf\u001b[0m\u001b[0;34m(\u001b[0m\u001b[0;34m)\u001b[0m\u001b[0;34m\u001b[0m\u001b[0;34m\u001b[0m\u001b[0m\n\u001b[0;32m--> 723\u001b[0;31m     \u001b[0mres\u001b[0m \u001b[0;34m=\u001b[0m \u001b[0mfig\u001b[0m\u001b[0;34m.\u001b[0m\u001b[0msavefig\u001b[0m\u001b[0;34m(\u001b[0m\u001b[0;34m*\u001b[0m\u001b[0margs\u001b[0m\u001b[0;34m,\u001b[0m \u001b[0;34m**\u001b[0m\u001b[0mkwargs\u001b[0m\u001b[0;34m)\u001b[0m\u001b[0;34m\u001b[0m\u001b[0;34m\u001b[0m\u001b[0m\n\u001b[0m\u001b[1;32m    724\u001b[0m     \u001b[0mfig\u001b[0m\u001b[0;34m.\u001b[0m\u001b[0mcanvas\u001b[0m\u001b[0;34m.\u001b[0m\u001b[0mdraw_idle\u001b[0m\u001b[0;34m(\u001b[0m\u001b[0;34m)\u001b[0m   \u001b[0;31m# need this if 'transparent=True' to reset colors\u001b[0m\u001b[0;34m\u001b[0m\u001b[0;34m\u001b[0m\u001b[0m\n\u001b[1;32m    725\u001b[0m     \u001b[0;32mreturn\u001b[0m \u001b[0mres\u001b[0m\u001b[0;34m\u001b[0m\u001b[0;34m\u001b[0m\u001b[0m\n",
      "\u001b[0;32m~/venv/lib/python3.7/site-packages/matplotlib/figure.py\u001b[0m in \u001b[0;36msavefig\u001b[0;34m(self, fname, transparent, **kwargs)\u001b[0m\n\u001b[1;32m   2201\u001b[0m             \u001b[0mself\u001b[0m\u001b[0;34m.\u001b[0m\u001b[0mpatch\u001b[0m\u001b[0;34m.\u001b[0m\u001b[0mset_visible\u001b[0m\u001b[0;34m(\u001b[0m\u001b[0mframeon\u001b[0m\u001b[0;34m)\u001b[0m\u001b[0;34m\u001b[0m\u001b[0;34m\u001b[0m\u001b[0m\n\u001b[1;32m   2202\u001b[0m \u001b[0;34m\u001b[0m\u001b[0m\n\u001b[0;32m-> 2203\u001b[0;31m         \u001b[0mself\u001b[0m\u001b[0;34m.\u001b[0m\u001b[0mcanvas\u001b[0m\u001b[0;34m.\u001b[0m\u001b[0mprint_figure\u001b[0m\u001b[0;34m(\u001b[0m\u001b[0mfname\u001b[0m\u001b[0;34m,\u001b[0m \u001b[0;34m**\u001b[0m\u001b[0mkwargs\u001b[0m\u001b[0;34m)\u001b[0m\u001b[0;34m\u001b[0m\u001b[0;34m\u001b[0m\u001b[0m\n\u001b[0m\u001b[1;32m   2204\u001b[0m \u001b[0;34m\u001b[0m\u001b[0m\n\u001b[1;32m   2205\u001b[0m         \u001b[0;32mif\u001b[0m \u001b[0mframeon\u001b[0m\u001b[0;34m:\u001b[0m\u001b[0;34m\u001b[0m\u001b[0;34m\u001b[0m\u001b[0m\n",
      "\u001b[0;32m~/venv/lib/python3.7/site-packages/matplotlib/backend_bases.py\u001b[0m in \u001b[0;36mprint_figure\u001b[0;34m(self, filename, dpi, facecolor, edgecolor, orientation, format, bbox_inches, **kwargs)\u001b[0m\n\u001b[1;32m   2103\u001b[0m                     \u001b[0morientation\u001b[0m\u001b[0;34m=\u001b[0m\u001b[0morientation\u001b[0m\u001b[0;34m,\u001b[0m\u001b[0;34m\u001b[0m\u001b[0;34m\u001b[0m\u001b[0m\n\u001b[1;32m   2104\u001b[0m                     \u001b[0mbbox_inches_restore\u001b[0m\u001b[0;34m=\u001b[0m\u001b[0m_bbox_inches_restore\u001b[0m\u001b[0;34m,\u001b[0m\u001b[0;34m\u001b[0m\u001b[0;34m\u001b[0m\u001b[0m\n\u001b[0;32m-> 2105\u001b[0;31m                     **kwargs)\n\u001b[0m\u001b[1;32m   2106\u001b[0m             \u001b[0;32mfinally\u001b[0m\u001b[0;34m:\u001b[0m\u001b[0;34m\u001b[0m\u001b[0;34m\u001b[0m\u001b[0m\n\u001b[1;32m   2107\u001b[0m                 \u001b[0;32mif\u001b[0m \u001b[0mbbox_inches\u001b[0m \u001b[0;32mand\u001b[0m \u001b[0mrestore_bbox\u001b[0m\u001b[0;34m:\u001b[0m\u001b[0;34m\u001b[0m\u001b[0;34m\u001b[0m\u001b[0m\n",
      "\u001b[0;32m~/venv/lib/python3.7/site-packages/matplotlib/backends/backend_agg.py\u001b[0m in \u001b[0;36mprint_png\u001b[0;34m(self, filename_or_obj, metadata, pil_kwargs, *args, **kwargs)\u001b[0m\n\u001b[1;32m    533\u001b[0m         \u001b[0;32melse\u001b[0m\u001b[0;34m:\u001b[0m\u001b[0;34m\u001b[0m\u001b[0;34m\u001b[0m\u001b[0m\n\u001b[1;32m    534\u001b[0m             \u001b[0mrenderer\u001b[0m \u001b[0;34m=\u001b[0m \u001b[0mself\u001b[0m\u001b[0;34m.\u001b[0m\u001b[0mget_renderer\u001b[0m\u001b[0;34m(\u001b[0m\u001b[0;34m)\u001b[0m\u001b[0;34m\u001b[0m\u001b[0;34m\u001b[0m\u001b[0m\n\u001b[0;32m--> 535\u001b[0;31m             \u001b[0;32mwith\u001b[0m \u001b[0mcbook\u001b[0m\u001b[0;34m.\u001b[0m\u001b[0mopen_file_cm\u001b[0m\u001b[0;34m(\u001b[0m\u001b[0mfilename_or_obj\u001b[0m\u001b[0;34m,\u001b[0m \u001b[0;34m\"wb\"\u001b[0m\u001b[0;34m)\u001b[0m \u001b[0;32mas\u001b[0m \u001b[0mfh\u001b[0m\u001b[0;34m:\u001b[0m\u001b[0;34m\u001b[0m\u001b[0;34m\u001b[0m\u001b[0m\n\u001b[0m\u001b[1;32m    536\u001b[0m                 _png.write_png(renderer._renderer, fh, self.figure.dpi,\n\u001b[1;32m    537\u001b[0m                                metadata={**default_metadata, **metadata})\n",
      "\u001b[0;32m/usr/lib/python3.7/contextlib.py\u001b[0m in \u001b[0;36m__enter__\u001b[0;34m(self)\u001b[0m\n\u001b[1;32m    110\u001b[0m         \u001b[0;32mdel\u001b[0m \u001b[0mself\u001b[0m\u001b[0;34m.\u001b[0m\u001b[0margs\u001b[0m\u001b[0;34m,\u001b[0m \u001b[0mself\u001b[0m\u001b[0;34m.\u001b[0m\u001b[0mkwds\u001b[0m\u001b[0;34m,\u001b[0m \u001b[0mself\u001b[0m\u001b[0;34m.\u001b[0m\u001b[0mfunc\u001b[0m\u001b[0;34m\u001b[0m\u001b[0;34m\u001b[0m\u001b[0m\n\u001b[1;32m    111\u001b[0m         \u001b[0;32mtry\u001b[0m\u001b[0;34m:\u001b[0m\u001b[0;34m\u001b[0m\u001b[0;34m\u001b[0m\u001b[0m\n\u001b[0;32m--> 112\u001b[0;31m             \u001b[0;32mreturn\u001b[0m \u001b[0mnext\u001b[0m\u001b[0;34m(\u001b[0m\u001b[0mself\u001b[0m\u001b[0;34m.\u001b[0m\u001b[0mgen\u001b[0m\u001b[0;34m)\u001b[0m\u001b[0;34m\u001b[0m\u001b[0;34m\u001b[0m\u001b[0m\n\u001b[0m\u001b[1;32m    113\u001b[0m         \u001b[0;32mexcept\u001b[0m \u001b[0mStopIteration\u001b[0m\u001b[0;34m:\u001b[0m\u001b[0;34m\u001b[0m\u001b[0;34m\u001b[0m\u001b[0m\n\u001b[1;32m    114\u001b[0m             \u001b[0;32mraise\u001b[0m \u001b[0mRuntimeError\u001b[0m\u001b[0;34m(\u001b[0m\u001b[0;34m\"generator didn't yield\"\u001b[0m\u001b[0;34m)\u001b[0m \u001b[0;32mfrom\u001b[0m \u001b[0;32mNone\u001b[0m\u001b[0;34m\u001b[0m\u001b[0;34m\u001b[0m\u001b[0m\n",
      "\u001b[0;32m~/venv/lib/python3.7/site-packages/matplotlib/cbook/__init__.py\u001b[0m in \u001b[0;36mopen_file_cm\u001b[0;34m(path_or_file, mode, encoding)\u001b[0m\n\u001b[1;32m    416\u001b[0m \u001b[0;32mdef\u001b[0m \u001b[0mopen_file_cm\u001b[0m\u001b[0;34m(\u001b[0m\u001b[0mpath_or_file\u001b[0m\u001b[0;34m,\u001b[0m \u001b[0mmode\u001b[0m\u001b[0;34m=\u001b[0m\u001b[0;34m\"r\"\u001b[0m\u001b[0;34m,\u001b[0m \u001b[0mencoding\u001b[0m\u001b[0;34m=\u001b[0m\u001b[0;32mNone\u001b[0m\u001b[0;34m)\u001b[0m\u001b[0;34m:\u001b[0m\u001b[0;34m\u001b[0m\u001b[0;34m\u001b[0m\u001b[0m\n\u001b[1;32m    417\u001b[0m     \u001b[0;34mr\"\"\"Pass through file objects and context-manage `.PathLike`\\s.\"\"\"\u001b[0m\u001b[0;34m\u001b[0m\u001b[0;34m\u001b[0m\u001b[0m\n\u001b[0;32m--> 418\u001b[0;31m     \u001b[0mfh\u001b[0m\u001b[0;34m,\u001b[0m \u001b[0mopened\u001b[0m \u001b[0;34m=\u001b[0m \u001b[0mto_filehandle\u001b[0m\u001b[0;34m(\u001b[0m\u001b[0mpath_or_file\u001b[0m\u001b[0;34m,\u001b[0m \u001b[0mmode\u001b[0m\u001b[0;34m,\u001b[0m \u001b[0;32mTrue\u001b[0m\u001b[0;34m,\u001b[0m \u001b[0mencoding\u001b[0m\u001b[0;34m)\u001b[0m\u001b[0;34m\u001b[0m\u001b[0;34m\u001b[0m\u001b[0m\n\u001b[0m\u001b[1;32m    419\u001b[0m     \u001b[0;32mif\u001b[0m \u001b[0mopened\u001b[0m\u001b[0;34m:\u001b[0m\u001b[0;34m\u001b[0m\u001b[0;34m\u001b[0m\u001b[0m\n\u001b[1;32m    420\u001b[0m         \u001b[0;32mwith\u001b[0m \u001b[0mfh\u001b[0m\u001b[0;34m:\u001b[0m\u001b[0;34m\u001b[0m\u001b[0;34m\u001b[0m\u001b[0m\n",
      "\u001b[0;32m~/venv/lib/python3.7/site-packages/matplotlib/cbook/__init__.py\u001b[0m in \u001b[0;36mto_filehandle\u001b[0;34m(fname, flag, return_opened, encoding)\u001b[0m\n\u001b[1;32m    401\u001b[0m             \u001b[0mfh\u001b[0m \u001b[0;34m=\u001b[0m \u001b[0mbz2\u001b[0m\u001b[0;34m.\u001b[0m\u001b[0mBZ2File\u001b[0m\u001b[0;34m(\u001b[0m\u001b[0mfname\u001b[0m\u001b[0;34m,\u001b[0m \u001b[0mflag\u001b[0m\u001b[0;34m)\u001b[0m\u001b[0;34m\u001b[0m\u001b[0;34m\u001b[0m\u001b[0m\n\u001b[1;32m    402\u001b[0m         \u001b[0;32melse\u001b[0m\u001b[0;34m:\u001b[0m\u001b[0;34m\u001b[0m\u001b[0;34m\u001b[0m\u001b[0m\n\u001b[0;32m--> 403\u001b[0;31m             \u001b[0mfh\u001b[0m \u001b[0;34m=\u001b[0m \u001b[0mopen\u001b[0m\u001b[0;34m(\u001b[0m\u001b[0mfname\u001b[0m\u001b[0;34m,\u001b[0m \u001b[0mflag\u001b[0m\u001b[0;34m,\u001b[0m \u001b[0mencoding\u001b[0m\u001b[0;34m=\u001b[0m\u001b[0mencoding\u001b[0m\u001b[0;34m)\u001b[0m\u001b[0;34m\u001b[0m\u001b[0;34m\u001b[0m\u001b[0m\n\u001b[0m\u001b[1;32m    404\u001b[0m         \u001b[0mopened\u001b[0m \u001b[0;34m=\u001b[0m \u001b[0;32mTrue\u001b[0m\u001b[0;34m\u001b[0m\u001b[0;34m\u001b[0m\u001b[0m\n\u001b[1;32m    405\u001b[0m     \u001b[0;32melif\u001b[0m \u001b[0mhasattr\u001b[0m\u001b[0;34m(\u001b[0m\u001b[0mfname\u001b[0m\u001b[0;34m,\u001b[0m \u001b[0;34m'seek'\u001b[0m\u001b[0;34m)\u001b[0m\u001b[0;34m:\u001b[0m\u001b[0;34m\u001b[0m\u001b[0;34m\u001b[0m\u001b[0m\n",
      "\u001b[0;31mFileNotFoundError\u001b[0m: [Errno 2] No such file or directory: 'scatters/expertise-ratings.png'"
     ]
    },
    {
     "data": {
      "image/png": "[encoded data removed]",
      "text/plain": [
       "<Figure size 432x288 with 1 Axes>"
      ]
     },
     "metadata": {
      "needs_background": "light"
     },
     "output_type": "display_data"
    }
   ],
   "source": [
    "plt.xlabel(\"Expertise\")\n",
    "plt.ylabel(\"Ratings\")\n",
    "plt.scatter(expertise, ratings)\n",
    "plt.savefig(\"scatters/expertise-ratings.png\")\n",
    "plt.show()"
   ]
  },
  {
   "cell_type": "markdown",
   "metadata": {},
   "source": [
    "### Scatter plot Expertise / Completion Time\n",
    "Is the completion time related to the expertise? Let's find out"
   ]
  },
  {
   "cell_type": "code",
   "execution_count": 27,
   "metadata": {},
   "outputs": [
    {
     "data": {
      "text/plain": [
       "(84, 84)"
      ]
     },
     "execution_count": 27,
     "metadata": {},
     "output_type": "execute_result"
    }
   ],
   "source": [
    "expertise = [float(user.info[\"dev_exp\"]) for user in userseries_attentive]\n",
    "len(expertise), len(average_times)"
   ]
  },
  {
   "cell_type": "code",
   "execution_count": 28,
   "metadata": {},
   "outputs": [
    {
     "data": {
      "image/png": "[encoded data removed]",
      "text/plain": [
       "<Figure size 432x288 with 1 Axes>"
      ]
     },
     "metadata": {
      "needs_background": "light"
     },
     "output_type": "display_data"
    }
   ],
   "source": [
    "plt.xlabel(\"Expertise\")\n",
    "plt.ylabel(\"Completion Time\")\n",
    "plt.scatter(expertise, average_times)\n",
    "plt.show()"
   ]
  },
  {
   "cell_type": "markdown",
   "metadata": {},
   "source": [
    "### Correlation correct answers rate / expertise\n",
    "It seems that there is some sort of linear correlation"
   ]
  },
  {
   "cell_type": "code",
   "execution_count": 29,
   "metadata": {},
   "outputs": [
    {
     "data": {
      "image/png": "[encoded data removed]",
      "text/plain": [
       "<Figure size 432x288 with 1 Axes>"
      ]
     },
     "metadata": {
      "needs_background": "light"
     },
     "output_type": "display_data"
    }
   ],
   "source": [
    "plt.xlabel(\"Expertise years\")\n",
    "plt.ylabel(\"Correct answers rate\")\n",
    "plt.scatter(expertise, [np.mean(np.asarray(userseries_attentive[index].correct_answers)) for index in range(len(userseries_attentive))])\n",
    "plt.show()"
   ]
  },
  {
   "cell_type": "markdown",
   "metadata": {},
   "source": [
    "### Plotting of users' preferences in theme"
   ]
  },
  {
   "cell_type": "code",
   "execution_count": 30,
   "metadata": {},
   "outputs": [
    {
     "data": {
      "text/plain": [
       "<BarContainer object of 4 artists>"
      ]
     },
     "execution_count": 30,
     "metadata": {},
     "output_type": "execute_result"
    },
    {
     "data": {
      "image/png": "[encoded data removed]",
      "text/plain": [
       "<Figure size 432x288 with 1 Axes>"
      ]
     },
     "metadata": {
      "needs_background": "light"
     },
     "output_type": "display_data"
    }
   ],
   "source": [
    "w = c.Counter([user.pref_theme for user in userseries_attentive])\n",
    "plt.bar(w.keys(), w.values())"
   ]
  },
  {
   "cell_type": "code",
   "execution_count": 31,
   "metadata": {},
   "outputs": [
    {
     "data": {
      "text/plain": [
       "29"
      ]
     },
     "execution_count": 31,
     "metadata": {},
     "output_type": "execute_result"
    }
   ],
   "source": [
    "len([user for user in userseries_attentive if float(user.info[\"dev_exp\"]) > 2])# and user.survey_type == \"B\"])"
   ]
  },
  {
   "cell_type": "markdown",
   "metadata": {},
   "source": [
    "### Average time per question"
   ]
  },
  {
   "cell_type": "code",
   "execution_count": 83,
   "metadata": {},
   "outputs": [],
   "source": [
    "import datetime"
   ]
  },
  {
   "cell_type": "code",
   "execution_count": 54,
   "metadata": {},
   "outputs": [],
   "source": [
    "#def average_question_time(question_num, userslist):\n",
    "#    for index in range(1, 18):       \n",
    "average_questions_time = lambda userslist: [np.mean([int(user.questions_dict[question_num + 1][0][1]) - int(user.questions_dict[question_num][0][1]) \n",
    "                                                     if question_num != 17 \n",
    "                                                     else int(user.end_time) - int(user.questions_dict[question_num][0][1]) \n",
    "                                                     for user in userslist]) \n",
    "                                            for question_num in range(1,18)]"
   ]
  },
  {
   "cell_type": "code",
   "execution_count": 69,
   "metadata": {},
   "outputs": [
    {
     "data": {
      "text/plain": [
       "{1: 1.311,\n",
       " 2: 0.981,\n",
       " 3: 0.614,\n",
       " 4: 1.02,\n",
       " 5: 1.297,\n",
       " 6: 0.509,\n",
       " 7: 0.907,\n",
       " 8: 0.772,\n",
       " 9: 0.654,\n",
       " 10: 0.765,\n",
       " 11: 0.859,\n",
       " 12: 2.567,\n",
       " 13: 1.139,\n",
       " 14: 2.352,\n",
       " 15: 0.436,\n",
       " 16: 0.313,\n",
       " 17: 0.984}"
      ]
     },
     "execution_count": 69,
     "metadata": {},
     "output_type": "execute_result"
    }
   ],
   "source": [
    "{key+1:float('%.3f'%(value)) for key,value in enumerate([millisec / 60000 for millisec in average_questions_time(userseries_attentive)])}"
   ]
  },
  {
   "cell_type": "code",
   "execution_count": 84,
   "metadata": {},
   "outputs": [
    {
     "data": {
      "text/plain": [
       "{1: '00:01:311390',\n",
       " 2: '00:00:980573',\n",
       " 3: '00:00:614389',\n",
       " 4: '00:01:020137',\n",
       " 5: '00:01:297240',\n",
       " 6: '00:00:509469',\n",
       " 7: '00:00:906951',\n",
       " 8: '00:00:771618',\n",
       " 9: '00:00:654458',\n",
       " 10: '00:00:764964',\n",
       " 11: '00:00:859284',\n",
       " 12: '00:02:567412',\n",
       " 13: '00:01:139085',\n",
       " 14: '00:02:351984',\n",
       " 15: '00:00:435614',\n",
       " 16: '00:00:313300',\n",
       " 17: '00:00:983800'}"
      ]
     },
     "execution_count": 84,
     "metadata": {},
     "output_type": "execute_result"
    }
   ],
   "source": [
    "{key+1:datetime.datetime.strftime(datetime.datetime.utcfromtimestamp(value), \"%M:%S:%f\") for key,value in enumerate([millisec / 60000 for millisec in average_questions_time(userseries_attentive)])}\n"
   ]
  },
  {
   "cell_type": "markdown",
   "metadata": {},
   "source": [
    "### Separation of users in the three sets categories"
   ]
  },
  {
   "cell_type": "code",
   "execution_count": 70,
   "metadata": {},
   "outputs": [],
   "source": [
    "survey_types = [\"A\", \"B\", \"C\"]"
   ]
  },
  {
   "cell_type": "code",
   "execution_count": 71,
   "metadata": {},
   "outputs": [],
   "source": [
    "users_by_type = [list(filter(lambda x: x.survey_type == surtype, userseries_attentive)) for surtype in survey_types]\n",
    "#[user in userseries_attentive if user.survey_type == surtype] for surtype in survey_types]"
   ]
  },
  {
   "cell_type": "code",
   "execution_count": 72,
   "metadata": {},
   "outputs": [],
   "source": [
    "users_A, users_B, users_C = users_by_type[0], users_by_type[1], users_by_type[2]"
   ]
  },
  {
   "cell_type": "markdown",
   "metadata": {},
   "source": [
    "### Correlation, for each set, of user's correct rate and preferred theme"
   ]
  },
  {
   "cell_type": "code",
   "execution_count": 73,
   "metadata": {},
   "outputs": [],
   "source": [
    "correct_rate = lambda userslist: [np.mean(np.asarray(user.correct_answers)) for user in userslist]\n",
    "def easy_plot(title, xlabel, ylabel, xdata, ydata):\n",
    "    plt.title(title)\n",
    "    plt.xlabel(xlabel)\n",
    "    plt.ylabel(ylabel)\n",
    "    plt.plot(xdata, ydata, \"ro\")\n",
    "    plt.show()"
   ]
  },
  {
   "cell_type": "code",
   "execution_count": 74,
   "metadata": {},
   "outputs": [
    {
     "data": {
      "image/png": "[encoded data removed]",
      "text/plain": [
       "<Figure size 432x288 with 1 Axes>"
      ]
     },
     "metadata": {
      "needs_background": "light"
     },
     "output_type": "display_data"
    }
   ],
   "source": [
    "easy_plot(\"Set A\", \"Preferred Theme\", \"Correct answers rate\", [user.pref_theme for user in users_A], correct_rate(users_A))"
   ]
  },
  {
   "cell_type": "code",
   "execution_count": 75,
   "metadata": {},
   "outputs": [
    {
     "data": {
      "image/png": "[encoded data removed]",
      "text/plain": [
       "<Figure size 432x288 with 1 Axes>"
      ]
     },
     "metadata": {
      "needs_background": "light"
     },
     "output_type": "display_data"
    }
   ],
   "source": [
    "easy_plot(\"Set B\", \"Preferred Theme\", \"Correct answers rate\", [user.pref_theme for user in users_B], correct_rate(users_B))"
   ]
  },
  {
   "cell_type": "code",
   "execution_count": 76,
   "metadata": {},
   "outputs": [
    {
     "data": {
      "image/png": "[encoded data removed]",
      "text/plain": [
       "<Figure size 432x288 with 1 Axes>"
      ]
     },
     "metadata": {
      "needs_background": "light"
     },
     "output_type": "display_data"
    }
   ],
   "source": [
    "easy_plot(\"Set C\", \"Preferred Theme\", \"Correct answers rate\", [user.pref_theme for user in users_C], correct_rate(users_C))"
   ]
  },
  {
   "cell_type": "code",
   "execution_count": 77,
   "metadata": {},
   "outputs": [
    {
     "data": {
      "image/png": "[encoded data removed]",
      "text/plain": [
       "<Figure size 432x288 with 1 Axes>"
      ]
     },
     "metadata": {
      "needs_background": "light"
     },
     "output_type": "display_data"
    }
   ],
   "source": [
    "easy_plot(\"All sets\", \"Preferred Theme\", \"Correct answers rate\", [user.pref_theme for user in userseries_attentive], correct_rate(userseries_attentive))"
   ]
  },
  {
   "cell_type": "markdown",
   "metadata": {},
   "source": [
    "### Average questions time for all three sets\n",
    "Set A"
   ]
  },
  {
   "cell_type": "code",
   "execution_count": 78,
   "metadata": {},
   "outputs": [
    {
     "data": {
      "text/plain": [
       "{1: 1.019,\n",
       " 2: 0.825,\n",
       " 3: 0.64,\n",
       " 4: 0.842,\n",
       " 5: 1.176,\n",
       " 6: 0.453,\n",
       " 7: 0.745,\n",
       " 8: 0.713,\n",
       " 9: 0.653,\n",
       " 10: 0.575,\n",
       " 11: 0.925,\n",
       " 12: 0.67,\n",
       " 13: 0.603,\n",
       " 14: 0.886,\n",
       " 15: 0.411,\n",
       " 16: 0.24,\n",
       " 17: 1.256}"
      ]
     },
     "execution_count": 78,
     "metadata": {},
     "output_type": "execute_result"
    }
   ],
   "source": [
    "{key+1:float('%.3f'%(value)) for key,value in enumerate([millisec / 60000 for millisec in average_questions_time(users_A)])}"
   ]
  },
  {
   "cell_type": "markdown",
   "metadata": {},
   "source": [
    "Set B"
   ]
  },
  {
   "cell_type": "code",
   "execution_count": 79,
   "metadata": {},
   "outputs": [
    {
     "data": {
      "text/plain": [
       "{1: 1.161,\n",
       " 2: 0.761,\n",
       " 3: 0.581,\n",
       " 4: 1.12,\n",
       " 5: 1.182,\n",
       " 6: 0.524,\n",
       " 7: 0.912,\n",
       " 8: 0.656,\n",
       " 9: 0.597,\n",
       " 10: 0.848,\n",
       " 11: 0.793,\n",
       " 12: 4.148,\n",
       " 13: 0.679,\n",
       " 14: 3.144,\n",
       " 15: 0.36,\n",
       " 16: 0.261,\n",
       " 17: 0.602}"
      ]
     },
     "execution_count": 79,
     "metadata": {},
     "output_type": "execute_result"
    }
   ],
   "source": [
    "{key+1:float('%.3f'%(value)) for key,value in enumerate([millisec / 60000 for millisec in average_questions_time(users_B)])}"
   ]
  },
  {
   "cell_type": "markdown",
   "metadata": {},
   "source": [
    "Set C"
   ]
  },
  {
   "cell_type": "code",
   "execution_count": 80,
   "metadata": {},
   "outputs": [
    {
     "data": {
      "text/plain": [
       "{1: 1.949,\n",
       " 2: 1.613,\n",
       " 3: 0.657,\n",
       " 4: 1.007,\n",
       " 5: 1.673,\n",
       " 6: 0.541,\n",
       " 7: 1.074,\n",
       " 8: 1.08,\n",
       " 9: 0.776,\n",
       " 10: 0.8,\n",
       " 11: 0.927,\n",
       " 12: 1.335,\n",
       " 13: 2.694,\n",
       " 14: 2.302,\n",
       " 15: 0.622,\n",
       " 16: 0.504,\n",
       " 17: 1.486}"
      ]
     },
     "execution_count": 80,
     "metadata": {},
     "output_type": "execute_result"
    }
   ],
   "source": [
    "{key+1:float('%.3f'%(value)) for key,value in enumerate([millisec / 60000 for millisec in average_questions_time(users_C)])}"
   ]
  },
  {
   "cell_type": "markdown",
   "metadata": {},
   "source": [
    "### Check correlation over theme colour (dark, light, coloured) and average rate\n",
    "Take three sets of users (A, B, C).<br>\n",
    "For each question in each set, 7 and 17 excluded, check the average correct rate for that question. <br>\n",
    "Correlate it to the theme colour of the question for that set."
   ]
  },
  {
   "cell_type": "code",
   "execution_count": 196,
   "metadata": {},
   "outputs": [],
   "source": [
    "#Set A\n",
    "colours_A = {1:\"WB\",\n",
    "             2:\"BW\",\n",
    "             3:\"C\",\n",
    "             4:\"WB\",\n",
    "             5:\"BW\",\n",
    "             6:\"BW\",\n",
    "             8:\"C\",\n",
    "             9:\"C\",\n",
    "             10:\"WB\",\n",
    "             11:\"WB\",\n",
    "             12:\"BW\",\n",
    "             13:\"C\",\n",
    "             14:\"C\",\n",
    "             15:\"BW\",\n",
    "             16:\"WB\"}\n",
    "\n",
    "#Set B\n",
    "colours_B = {1:\"BW\",\n",
    "             2:\"C\",\n",
    "             3:\"WB\",\n",
    "             4:\"BW\",\n",
    "             5:\"C\",\n",
    "             6:\"C\",\n",
    "             8:\"WB\",\n",
    "             9:\"WB\",\n",
    "             10:\"BW\",\n",
    "             11:\"BW\",\n",
    "             12:\"C\",\n",
    "             13:\"WB\",\n",
    "             14:\"WB\",\n",
    "             15:\"C\",\n",
    "             16:\"BW\"}\n",
    "#Set C\n",
    "\n",
    "colours_C = {1:\"C\",\n",
    "             2:\"WB\",\n",
    "             3:\"BW\",\n",
    "             4:\"C\",\n",
    "             5:\"WB\",\n",
    "             6:\"WB\",\n",
    "             8:\"BW\",\n",
    "             9:\"BW\",\n",
    "             10:\"C\",\n",
    "             11:\"C\",\n",
    "             12:\"WB\",\n",
    "             13:\"BW\",\n",
    "             14:\"BW\",\n",
    "             15:\"WB\",\n",
    "             16:\"C\"}\n"
   ]
  },
  {
   "cell_type": "code",
   "execution_count": 350,
   "metadata": {},
   "outputs": [],
   "source": [
    "def correct_rates_question(userslist):\n",
    "    correct_rates = []\n",
    "    for question_number in range(17):\n",
    "        users_answers = []\n",
    "        for user in userslist:\n",
    "            users_answers.append(user.correct_answers[question_number])\n",
    "        correct_rates.append(users_answers)\n",
    "    return correct_rates\n",
    "\n",
    "def readability_question(userslist):\n",
    "    readability_rates = []\n",
    "    for question_number in range(1,17):\n",
    "        #print(question_number)\n",
    "        users_answers = []\n",
    "        if question_number != 7:\n",
    "            for user in userslist:\n",
    "                users_answers.append(int(user.user_rating[question_number][-1][0]))\n",
    "            readability_rates.append(users_answers)\n",
    "    return readability_rates"
   ]
  },
  {
   "cell_type": "code",
   "execution_count": 353,
   "metadata": {},
   "outputs": [
    {
     "data": {
      "text/plain": [
       "[[5, 3, 2, 3, 5, 4, 3, 4, 4, 4, 4, 5, 3, 4, 2, 1, 4, 4, 5, 5, 3, 3],\n",
       " [4, 4, 4, 4, 4, 5, 3, 4, 4, 4, 4, 5, 3, 4, 2, 4, 4, 4, 5, 5, 3, 3],\n",
       " [5, 3, 4, 3, 4, 5, 3, 4, 4, 4, 4, 5, 4, 4, 2, 4, 3, 4, 5, 5, 3, 3],\n",
       " [5, 5, 4, 5, 5, 3, 4, 4, 4, 4, 4, 5, 4, 4, 2, 2, 3, 3, 5, 1, 2, 4],\n",
       " [4, 1, 3, 4, 4, 3, 1, 4, 4, 4, 4, 5, 4, 4, 3, 3, 3, 3, 5, 5, 2, 3],\n",
       " [4, 1, 1, 2, 4, 4, 1, 4, 3, 4, 4, 5, 5, 4, 2, 3, 2, 3, 5, 4, 4, 2],\n",
       " [5, 2, 1, 4, 4, 5, 2, 4, 3, 4, 4, 5, 4, 4, 2, 2, 3, 2, 5, 5, 4, 3],\n",
       " [5, 3, 1, 5, 4, 4, 3, 4, 5, 4, 4, 5, 4, 4, 2, 3, 3, 4, 5, 4, 3, 3],\n",
       " [5, 3, 1, 4, 5, 3, 3, 4, 3, 4, 4, 5, 3, 3, 2, 2, 3, 3, 5, 5, 3, 4],\n",
       " [5, 2, 1, 5, 5, 3, 2, 4, 5, 4, 4, 5, 3, 3, 3, 2, 3, 3, 5, 4, 4, 4],\n",
       " [4, 2, 3, 5, 4, 4, 3, 4, 5, 4, 4, 5, 3, 3, 3, 2, 3, 3, 5, 4, 2, 3],\n",
       " [5, 3, 2, 5, 4, 5, 2, 4, 5, 4, 4, 5, 3, 3, 3, 3, 3, 3, 5, 4, 4, 3],\n",
       " [5, 4, 2, 5, 4, 4, 3, 4, 3, 4, 4, 5, 3, 3, 3, 2, 4, 3, 5, 4, 4, 3],\n",
       " [4, 4, 2, 5, 5, 3, 1, 4, 3, 3, 3, 5, 4, 3, 2, 3, 4, 3, 5, 4, 4, 2],\n",
       " [5, 2, 1, 5, 5, 3, 1, 4, 5, 3, 4, 5, 2, 3, 2, 3, 4, 3, 5, 4, 3, 4]]"
      ]
     },
     "execution_count": 353,
     "metadata": {},
     "output_type": "execute_result"
    }
   ],
   "source": [
    "(readability_question(users_A))"
   ]
  },
  {
   "cell_type": "code",
   "execution_count": 375,
   "metadata": {},
   "outputs": [],
   "source": [
    "rq_A, rq_B, rq_C = [], [], []\n",
    "rq_A += readability_question(users_A)[:6]\n",
    "rq_B += readability_question(users_B)[:6]\n",
    "rq_C += readability_question(users_C)[:6]"
   ]
  },
  {
   "cell_type": "code",
   "execution_count": 376,
   "metadata": {},
   "outputs": [],
   "source": [
    "rq_A.append([])\n",
    "rq_B.append([])\n",
    "rq_C.append([])"
   ]
  },
  {
   "cell_type": "code",
   "execution_count": 377,
   "metadata": {},
   "outputs": [],
   "source": [
    "rq_A += readability_question(users_A)[6:]\n",
    "rq_B += readability_question(users_B)[6:]\n",
    "rq_C += readability_question(users_C)[6:]"
   ]
  },
  {
   "cell_type": "code",
   "execution_count": 373,
   "metadata": {},
   "outputs": [
    {
     "data": {
      "text/plain": [
       "16"
      ]
     },
     "execution_count": 373,
     "metadata": {},
     "output_type": "execute_result"
    }
   ],
   "source": [
    "len(rq_A)"
   ]
  },
  {
   "cell_type": "code",
   "execution_count": 343,
   "metadata": {},
   "outputs": [
    {
     "data": {
      "text/plain": [
       "15"
      ]
     },
     "execution_count": 343,
     "metadata": {},
     "output_type": "execute_result"
    }
   ],
   "source": [
    "len(readability_question(users_A))"
   ]
  },
  {
   "cell_type": "code",
   "execution_count": 383,
   "metadata": {},
   "outputs": [],
   "source": [
    "read_dict_A = {key+1:np.mean(value) for key,value in enumerate(rq_A)}\n",
    "read_dict_B = {key+1:np.mean(value) for key,value in enumerate(rq_B)}\n",
    "read_dict_C = {key+1:np.mean(value) for key,value in enumerate(rq_C)}\n",
    "del read_dict_A[7]\n",
    "del read_dict_B[7]\n",
    "del read_dict_C[7]"
   ]
  },
  {
   "cell_type": "code",
   "execution_count": 384,
   "metadata": {},
   "outputs": [
    {
     "data": {
      "text/plain": [
       "{1: 3.6363636363636362,\n",
       " 2: 3.909090909090909,\n",
       " 3: 3.8636363636363638,\n",
       " 4: 3.727272727272727,\n",
       " 5: 3.4545454545454546,\n",
       " 6: 3.227272727272727,\n",
       " 8: 3.5,\n",
       " 9: 3.727272727272727,\n",
       " 10: 3.5,\n",
       " 11: 3.590909090909091,\n",
       " 12: 3.5454545454545454,\n",
       " 13: 3.727272727272727,\n",
       " 14: 3.6818181818181817,\n",
       " 15: 3.4545454545454546,\n",
       " 16: 3.4545454545454546}"
      ]
     },
     "execution_count": 384,
     "metadata": {},
     "output_type": "execute_result"
    }
   ],
   "source": [
    "read_dict_A"
   ]
  },
  {
   "cell_type": "code",
   "execution_count": 395,
   "metadata": {},
   "outputs": [
    {
     "data": {
      "text/plain": [
       "{1: 3.261904761904762,\n",
       " 2: 3.5476190476190474,\n",
       " 3: 3.2857142857142856,\n",
       " 4: 3.5238095238095237,\n",
       " 5: 3.3333333333333335,\n",
       " 6: 2.9047619047619047,\n",
       " 8: 3.0476190476190474,\n",
       " 9: 3.3333333333333335,\n",
       " 10: 3.1666666666666665,\n",
       " 11: 3.0,\n",
       " 12: 3.4285714285714284,\n",
       " 13: 2.9761904761904763,\n",
       " 14: 3.2142857142857144,\n",
       " 15: 3.0476190476190474,\n",
       " 16: 3.0238095238095237}"
      ]
     },
     "execution_count": 395,
     "metadata": {},
     "output_type": "execute_result"
    }
   ],
   "source": [
    "read_dict_B"
   ]
  },
  {
   "cell_type": "code",
   "execution_count": 396,
   "metadata": {},
   "outputs": [
    {
     "data": {
      "text/plain": [
       "{1: 3.45,\n",
       " 2: 3.3,\n",
       " 3: 3.15,\n",
       " 4: 3.7,\n",
       " 5: 3.1,\n",
       " 6: 3.1,\n",
       " 8: 3.45,\n",
       " 9: 3.3,\n",
       " 10: 3.9,\n",
       " 11: 3.65,\n",
       " 12: 3.3,\n",
       " 13: 3.3,\n",
       " 14: 3.3,\n",
       " 15: 3.7,\n",
       " 16: 4.0}"
      ]
     },
     "execution_count": 396,
     "metadata": {},
     "output_type": "execute_result"
    }
   ],
   "source": [
    "read_dict_C"
   ]
  },
  {
   "cell_type": "raw",
   "metadata": {},
   "source": []
  },
  {
   "cell_type": "code",
   "execution_count": 237,
   "metadata": {},
   "outputs": [],
   "source": [
    "def correct_rates_question_dict(userslist):\n",
    "        return {index+1:np.mean(np.asarray(correct_rates_question(userslist)[index])) for index in range(len(correct_rates_question(userslist)))}"
   ]
  },
  {
   "cell_type": "code",
   "execution_count": 249,
   "metadata": {},
   "outputs": [],
   "source": [
    "correct_rates_A = correct_rates_question_dict(users_A)\n",
    "correct_rates_B = correct_rates_question_dict(users_B)\n",
    "correct_rates_C = correct_rates_question_dict(users_C)\n",
    "del correct_rates_A[7]\n",
    "del correct_rates_A[17]\n",
    "del correct_rates_B[7]\n",
    "del correct_rates_B[17]\n",
    "del correct_rates_C[7]\n",
    "del correct_rates_C[17]"
   ]
  },
  {
   "cell_type": "code",
   "execution_count": 397,
   "metadata": {},
   "outputs": [
    {
     "data": {
      "text/plain": [
       "{1: 0.5454545454545454,\n",
       " 2: 0.3181818181818182,\n",
       " 3: 0.18181818181818182,\n",
       " 4: 0.09090909090909091,\n",
       " 5: 0.5,\n",
       " 6: 0.36363636363636365,\n",
       " 8: 0.13636363636363635,\n",
       " 9: 0.36363636363636365,\n",
       " 10: 0.5,\n",
       " 11: 0.13636363636363635,\n",
       " 12: 0.36363636363636365,\n",
       " 13: 0.22727272727272727,\n",
       " 14: 0.18181818181818182,\n",
       " 15: 0.4090909090909091,\n",
       " 16: 0.36363636363636365}"
      ]
     },
     "execution_count": 397,
     "metadata": {},
     "output_type": "execute_result"
    }
   ],
   "source": [
    "correct_rates_A"
   ]
  },
  {
   "cell_type": "code",
   "execution_count": 398,
   "metadata": {},
   "outputs": [
    {
     "data": {
      "text/plain": [
       "{1: 0.16666666666666666,\n",
       " 2: 0.2619047619047619,\n",
       " 3: 0.2619047619047619,\n",
       " 4: 0.23809523809523808,\n",
       " 5: 0.5952380952380952,\n",
       " 6: 0.5,\n",
       " 8: 0.14285714285714285,\n",
       " 9: 0.5238095238095238,\n",
       " 10: 0.21428571428571427,\n",
       " 11: 0.40476190476190477,\n",
       " 12: 0.35714285714285715,\n",
       " 13: 0.30952380952380953,\n",
       " 14: 0.3333333333333333,\n",
       " 15: 0.40476190476190477,\n",
       " 16: 0.5}"
      ]
     },
     "execution_count": 398,
     "metadata": {},
     "output_type": "execute_result"
    }
   ],
   "source": [
    "correct_rates_B"
   ]
  },
  {
   "cell_type": "code",
   "execution_count": 399,
   "metadata": {},
   "outputs": [
    {
     "data": {
      "text/plain": [
       "{1: 0.45,\n",
       " 2: 0.3,\n",
       " 3: 0.25,\n",
       " 4: 0.5,\n",
       " 5: 0.7,\n",
       " 6: 0.45,\n",
       " 8: 0.25,\n",
       " 9: 0.45,\n",
       " 10: 0.5,\n",
       " 11: 0.4,\n",
       " 12: 0.45,\n",
       " 13: 0.3,\n",
       " 14: 0.5,\n",
       " 15: 0.45,\n",
       " 16: 0.45}"
      ]
     },
     "execution_count": 399,
     "metadata": {},
     "output_type": "execute_result"
    }
   ],
   "source": [
    "correct_rates_C"
   ]
  },
  {
   "cell_type": "markdown",
   "metadata": {},
   "source": [
    "Create three sets, one with WB ansers, one with BW answers and one with C answers"
   ]
  },
  {
   "cell_type": "code",
   "execution_count": 256,
   "metadata": {},
   "outputs": [],
   "source": [
    "def translate(colours, correct_rates):\n",
    "    return [(colours[key], correct_rates[key]) for key in correct_rates.keys()]"
   ]
  },
  {
   "cell_type": "code",
   "execution_count": 268,
   "metadata": {},
   "outputs": [
    {
     "data": {
      "text/plain": [
       "[('BW', 0.16666666666666666),\n",
       " ('C', 0.2619047619047619),\n",
       " ('WB', 0.2619047619047619),\n",
       " ('BW', 0.23809523809523808),\n",
       " ('C', 0.5952380952380952),\n",
       " ('C', 0.5),\n",
       " ('WB', 0.14285714285714285),\n",
       " ('WB', 0.5238095238095238),\n",
       " ('BW', 0.21428571428571427),\n",
       " ('BW', 0.40476190476190477),\n",
       " ('C', 0.35714285714285715),\n",
       " ('WB', 0.30952380952380953),\n",
       " ('WB', 0.3333333333333333),\n",
       " ('C', 0.40476190476190477),\n",
       " ('BW', 0.5)]"
      ]
     },
     "execution_count": 268,
     "metadata": {},
     "output_type": "execute_result"
    }
   ],
   "source": [
    "translate_A = translate(colours_A, correct_rates_A)\n",
    "translate_B = translate(colours_B, correct_rates_B)\n",
    "translate_C = translate(colours_C, correct_rates_C)\n",
    "translate_B"
   ]
  },
  {
   "cell_type": "code",
   "execution_count": 387,
   "metadata": {},
   "outputs": [],
   "source": [
    "translate_read_A = translate(colours_A, read_dict_A)\n",
    "translate_read_B = translate(colours_B, read_dict_B)\n",
    "translate_read_C = translate(colours_C, read_dict_C)"
   ]
  },
  {
   "cell_type": "code",
   "execution_count": 272,
   "metadata": {},
   "outputs": [],
   "source": [
    "wb, bw, c = [], [], []\n",
    "for index in range(len(translate_A)):\n",
    "    if translate_A[index][0] == \"WB\":\n",
    "        wb.append(translate_A[index][1])\n",
    "    elif translate_B[index][0] == \"WB\":\n",
    "        wb.append(translate_B[index][1])\n",
    "    elif translate_C[index][0] == \"WB\":\n",
    "        wb.append(translate_C[index][1])\n",
    "        \n",
    "    if translate_A[index][0] == \"BW\":\n",
    "        bw.append(translate_A[index][1])\n",
    "    elif translate_B[index][0] == \"BW\":\n",
    "        bw.append(translate_B[index][1])\n",
    "    elif translate_C[index][0] == \"BW\":\n",
    "        bw.append(translate_C[index][1])\n",
    "        \n",
    "    if translate_A[index][0] == \"C\":\n",
    "        c.append(translate_A[index][1])\n",
    "    elif translate_B[index][0] == \"C\":\n",
    "        c.append(translate_B[index][1])\n",
    "    elif translate_C[index][0] == \"C\":\n",
    "        c.append(translate_C[index][1])"
   ]
  },
  {
   "cell_type": "code",
   "execution_count": 279,
   "metadata": {},
   "outputs": [
    {
     "data": {
      "text/plain": [
       "(0.3705194805194804, 0.3485569985569985, 0.36733044733044734)"
      ]
     },
     "execution_count": 279,
     "metadata": {},
     "output_type": "execute_result"
    }
   ],
   "source": [
    "np.mean(wb), np.mean(bw), np.mean(c)"
   ]
  },
  {
   "cell_type": "code",
   "execution_count": 280,
   "metadata": {},
   "outputs": [
    {
     "data": {
      "text/plain": [
       "(0.16434436876308384, 0.10720566517012893, 0.13513102100510457)"
      ]
     },
     "execution_count": 280,
     "metadata": {},
     "output_type": "execute_result"
    }
   ],
   "source": [
    "np.std(wb), np.std(bw), np.std(c)"
   ]
  },
  {
   "cell_type": "code",
   "execution_count": 388,
   "metadata": {},
   "outputs": [],
   "source": [
    "wb_read, bw_read, c_read = [], [], []\n",
    "for index in range(len(translate_A)):\n",
    "    if translate_read_A[index][0] == \"WB\":\n",
    "        wb_read.append(translate_read_A[index][1])\n",
    "    elif translate_read_B[index][0] == \"WB\":\n",
    "        wb_read.append(translate_read_B[index][1])\n",
    "    elif translate_read_C[index][0] == \"WB\":\n",
    "        wb_read.append(translate_read_C[index][1])\n",
    "        \n",
    "    if translate_read_A[index][0] == \"BW\":\n",
    "        bw_read.append(translate_read_A[index][1])\n",
    "    elif translate_read_B[index][0] == \"BW\":\n",
    "        bw_read.append(translate_read_B[index][1])\n",
    "    elif translate_read_C[index][0] == \"BW\":\n",
    "        bw_read.append(translate_read_C[index][1])\n",
    "        \n",
    "    if translate_read_A[index][0] == \"C\":\n",
    "        c_read.append(translate_read_A[index][1])\n",
    "    elif translate_read_B[index][0] == \"C\":\n",
    "        c_read.append(translate_read_B[index][1])\n",
    "    elif translate_read_C[index][0] == \"C\":\n",
    "        c_read.append(translate_read_C[index][1])"
   ]
  },
  {
   "cell_type": "code",
   "execution_count": 389,
   "metadata": {},
   "outputs": [
    {
     "data": {
      "text/plain": [
       "(3.3510822510822513, 3.3378066378066378, 3.5641269841269843)"
      ]
     },
     "execution_count": 389,
     "metadata": {},
     "output_type": "execute_result"
    }
   ],
   "source": [
    "np.mean(wb_read), np.mean(bw_read), np.mean(c_read)"
   ]
  },
  {
   "cell_type": "code",
   "execution_count": 390,
   "metadata": {},
   "outputs": [
    {
     "data": {
      "text/plain": [
       "(0.23413455031275598, 0.22262948288685117, 0.2916636531250794)"
      ]
     },
     "execution_count": 390,
     "metadata": {},
     "output_type": "execute_result"
    }
   ],
   "source": [
    "np.std(wb_read), np.std(bw_read), np.std(c_read)"
   ]
  },
  {
   "cell_type": "markdown",
   "metadata": {},
   "source": []
  },
  {
   "cell_type": "code",
   "execution_count": null,
   "metadata": {},
   "outputs": [],
   "source": []
  },
  {
   "cell_type": "markdown",
   "metadata": {},
   "source": [
    "### 3D correlation plot of expertise, correct_rates and average times"
   ]
  },
  {
   "cell_type": "code",
   "execution_count": 394,
   "metadata": {},
   "outputs": [
    {
     "data": {
      "application/vnd.plotly.v1+json": {
       "config": {
        "plotlyServerURL": "https://plot.ly"
       },
       "data": [
        {
         "hovertemplate": "x=%{x}<br>y=%{y}<br>z=%{z}<extra></extra>",
         "legendgroup": "",
         "marker": {
          "color": "#636efa",
          "symbol": "circle"
         },
         "mode": "markers",
         "name": "",
         "scene": "scene",
         "showlegend": false,
         "type": "scatter3d",
         "x": [
          2,
          7.5,
          12,
          0,
          5,
          0,
          10,
          6,
          1,
          10,
          0,
          0,
          6,
          11,
          4,
          1,
          10,
          10,
          5,
          8,
          3,
          2,
          12,
          6,
          1,
          0,
          3,
          0,
          0,
          2,
          3,
          0,
          0,
          2,
          0,
          1,
          2,
          4,
          3,
          0,
          1,
          6,
          0,
          0,
          0,
          0,
          2,
          0,
          0,
          1,
          0,
          0,
          3,
          0,
          0,
          2,
          4,
          5,
          0,
          0,
          1,
          0,
          2,
          1,
          0,
          3,
          0,
          0,
          0,
          0,
          0,
          5,
          3,
          0,
          1,
          0,
          0,
          0,
          5,
          0,
          1,
          1,
          1,
          10
         ],
         "y": [
          0.5294117647058824,
          0.4117647058823529,
          0.35294117647058826,
          0.35294117647058826,
          0.4117647058823529,
          0.35294117647058826,
          0.4117647058823529,
          0.6470588235294118,
          0.4117647058823529,
          0.5294117647058824,
          0.5882352941176471,
          0.35294117647058826,
          0.5294117647058824,
          0.7058823529411765,
          0.7647058823529411,
          0.29411764705882354,
          0.4117647058823529,
          0.5882352941176471,
          0.6470588235294118,
          0.23529411764705882,
          0.5294117647058824,
          0.4117647058823529,
          0.6470588235294118,
          0.11764705882352941,
          0.29411764705882354,
          0.4117647058823529,
          0.4117647058823529,
          0.17647058823529413,
          0.29411764705882354,
          0.7647058823529411,
          0.47058823529411764,
          0.29411764705882354,
          0.29411764705882354,
          0.29411764705882354,
          0.29411764705882354,
          0.47058823529411764,
          0.29411764705882354,
          0.35294117647058826,
          0.4117647058823529,
          0.23529411764705882,
          0.23529411764705882,
          0.5882352941176471,
          0.23529411764705882,
          0.35294117647058826,
          0.23529411764705882,
          0.29411764705882354,
          0.29411764705882354,
          0.4117647058823529,
          0.4117647058823529,
          0.29411764705882354,
          0.29411764705882354,
          0.4117647058823529,
          0.17647058823529413,
          0.4117647058823529,
          0.11764705882352941,
          0.29411764705882354,
          0.5882352941176471,
          0.47058823529411764,
          0.35294117647058826,
          0.29411764705882354,
          0.47058823529411764,
          0.35294117647058826,
          0.17647058823529413,
          0.29411764705882354,
          0.35294117647058826,
          0.23529411764705882,
          0.11764705882352941,
          0.35294117647058826,
          0.29411764705882354,
          0.23529411764705882,
          0.47058823529411764,
          0.23529411764705882,
          0.4117647058823529,
          0.35294117647058826,
          0.23529411764705882,
          0.4117647058823529,
          0.29411764705882354,
          0.23529411764705882,
          0.4117647058823529,
          0.35294117647058826,
          0.17647058823529413,
          0.23529411764705882,
          0.35294117647058826,
          0.5882352941176471
         ],
         "z": [
          30.320933333333336,
          37.43295,
          15.953949999999999,
          17.860633333333332,
          24.9514,
          11.324266666666666,
          20.072683333333334,
          50.783249999999995,
          23.355216666666667,
          5.071816666666667,
          13.5856,
          11.370433333333333,
          166.93645,
          18.851850000000002,
          42.11715,
          13.947366666666666,
          29.491600000000002,
          23.206966666666666,
          32.84715,
          16.648516666666666,
          16.5502,
          17.723200000000002,
          30.04393333333333,
          15.769533333333333,
          5.913266666666667,
          5.369249999999999,
          11.587083333333334,
          5.636433333333333,
          5.605066666666667,
          16.4356,
          9.699766666666667,
          5.94925,
          8.018133333333333,
          5.1347499999999995,
          2.2785,
          10.470983333333333,
          23.140066666666666,
          28.10415,
          4.338883333333333,
          7.062766666666667,
          7.328583333333333,
          15.635483333333333,
          1.8385,
          7.72525,
          11.429016666666666,
          20.85285,
          5.5582,
          15.151733333333334,
          13.54585,
          9.50995,
          5.406666666666666,
          14.66995,
          3.8433166666666665,
          3.7387666666666663,
          4.4254,
          27.719633333333334,
          6.347433333333333,
          7.615866666666666,
          6.44625,
          2.49675,
          3.3287666666666667,
          6.84925,
          2.4159,
          22.383233333333333,
          6.560816666666667,
          4.33885,
          9.80695,
          8.9949,
          4.489416666666667,
          93.30356666666667,
          8.498883333333334,
          14.109866666666667,
          17.633966666666666,
          33.65736666666667,
          4.427499999999999,
          3.2748,
          7.427216666666666,
          14.761616666666667,
          5.989566666666667,
          5.1267,
          5.894216666666667,
          9.432633333333333,
          40.70745,
          5.132083333333333
         ]
        }
       ],
       "layout": {
        "legend": {
         "tracegroupgap": 0
        },
        "margin": {
         "t": 60
        },
        "scene": {
         "domain": {
          "x": [
           0,
           1
          ],
          "y": [
           0,
           1
          ]
         },
         "xaxis": {
          "title": {
           "text": "x"
          }
         },
         "yaxis": {
          "title": {
           "text": "y"
          }
         },
         "zaxis": {
          "title": {
           "text": "z"
          }
         }
        },
        "template": {
         "data": {
          "bar": [
           {
            "error_x": {
             "color": "#2a3f5f"
            },
            "error_y": {
             "color": "#2a3f5f"
            },
            "marker": {
             "line": {
              "color": "#E5ECF6",
              "width": 0.5
             }
            },
            "type": "bar"
           }
          ],
          "barpolar": [
           {
            "marker": {
             "line": {
              "color": "#E5ECF6",
              "width": 0.5
             }
            },
            "type": "barpolar"
           }
          ],
          "carpet": [
           {
            "aaxis": {
             "endlinecolor": "#2a3f5f",
             "gridcolor": "white",
             "linecolor": "white",
             "minorgridcolor": "white",
             "startlinecolor": "#2a3f5f"
            },
            "baxis": {
             "endlinecolor": "#2a3f5f",
             "gridcolor": "white",
             "linecolor": "white",
             "minorgridcolor": "white",
             "startlinecolor": "#2a3f5f"
            },
            "type": "carpet"
           }
          ],
          "choropleth": [
           {
            "colorbar": {
             "outlinewidth": 0,
             "ticks": ""
            },
            "type": "choropleth"
           }
          ],
          "contour": [
           {
            "colorbar": {
             "outlinewidth": 0,
             "ticks": ""
            },
            "colorscale": [
             [
              0,
              "#0d0887"
             ],
             [
              0.1111111111111111,
              "#46039f"
             ],
             [
              0.2222222222222222,
              "#7201a8"
             ],
             [
              0.3333333333333333,
              "#9c179e"
             ],
             [
              0.4444444444444444,
              "#bd3786"
             ],
             [
              0.5555555555555556,
              "#d8576b"
             ],
             [
              0.6666666666666666,
              "#ed7953"
             ],
             [
              0.7777777777777778,
              "#fb9f3a"
             ],
             [
              0.8888888888888888,
              "#fdca26"
             ],
             [
              1,
              "#f0f921"
             ]
            ],
            "type": "contour"
           }
          ],
          "contourcarpet": [
           {
            "colorbar": {
             "outlinewidth": 0,
             "ticks": ""
            },
            "type": "contourcarpet"
           }
          ],
          "heatmap": [
           {
            "colorbar": {
             "outlinewidth": 0,
             "ticks": ""
            },
            "colorscale": [
             [
              0,
              "#0d0887"
             ],
             [
              0.1111111111111111,
              "#46039f"
             ],
             [
              0.2222222222222222,
              "#7201a8"
             ],
             [
              0.3333333333333333,
              "#9c179e"
             ],
             [
              0.4444444444444444,
              "#bd3786"
             ],
             [
              0.5555555555555556,
              "#d8576b"
             ],
             [
              0.6666666666666666,
              "#ed7953"
             ],
             [
              0.7777777777777778,
              "#fb9f3a"
             ],
             [
              0.8888888888888888,
              "#fdca26"
             ],
             [
              1,
              "#f0f921"
             ]
            ],
            "type": "heatmap"
           }
          ],
          "heatmapgl": [
           {
            "colorbar": {
             "outlinewidth": 0,
             "ticks": ""
            },
            "colorscale": [
             [
              0,
              "#0d0887"
             ],
             [
              0.1111111111111111,
              "#46039f"
             ],
             [
              0.2222222222222222,
              "#7201a8"
             ],
             [
              0.3333333333333333,
              "#9c179e"
             ],
             [
              0.4444444444444444,
              "#bd3786"
             ],
             [
              0.5555555555555556,
              "#d8576b"
             ],
             [
              0.6666666666666666,
              "#ed7953"
             ],
             [
              0.7777777777777778,
              "#fb9f3a"
             ],
             [
              0.8888888888888888,
              "#fdca26"
             ],
             [
              1,
              "#f0f921"
             ]
            ],
            "type": "heatmapgl"
           }
          ],
          "histogram": [
           {
            "marker": {
             "colorbar": {
              "outlinewidth": 0,
              "ticks": ""
             }
            },
            "type": "histogram"
           }
          ],
          "histogram2d": [
           {
            "colorbar": {
             "outlinewidth": 0,
             "ticks": ""
            },
            "colorscale": [
             [
              0,
              "#0d0887"
             ],
             [
              0.1111111111111111,
              "#46039f"
             ],
             [
              0.2222222222222222,
              "#7201a8"
             ],
             [
              0.3333333333333333,
              "#9c179e"
             ],
             [
              0.4444444444444444,
              "#bd3786"
             ],
             [
              0.5555555555555556,
              "#d8576b"
             ],
             [
              0.6666666666666666,
              "#ed7953"
             ],
             [
              0.7777777777777778,
              "#fb9f3a"
             ],
             [
              0.8888888888888888,
              "#fdca26"
             ],
             [
              1,
              "#f0f921"
             ]
            ],
            "type": "histogram2d"
           }
          ],
          "histogram2dcontour": [
           {
            "colorbar": {
             "outlinewidth": 0,
             "ticks": ""
            },
            "colorscale": [
             [
              0,
              "#0d0887"
             ],
             [
              0.1111111111111111,
              "#46039f"
             ],
             [
              0.2222222222222222,
              "#7201a8"
             ],
             [
              0.3333333333333333,
              "#9c179e"
             ],
             [
              0.4444444444444444,
              "#bd3786"
             ],
             [
              0.5555555555555556,
              "#d8576b"
             ],
             [
              0.6666666666666666,
              "#ed7953"
             ],
             [
              0.7777777777777778,
              "#fb9f3a"
             ],
             [
              0.8888888888888888,
              "#fdca26"
             ],
             [
              1,
              "#f0f921"
             ]
            ],
            "type": "histogram2dcontour"
           }
          ],
          "mesh3d": [
           {
            "colorbar": {
             "outlinewidth": 0,
             "ticks": ""
            },
            "type": "mesh3d"
           }
          ],
          "parcoords": [
           {
            "line": {
             "colorbar": {
              "outlinewidth": 0,
              "ticks": ""
             }
            },
            "type": "parcoords"
           }
          ],
          "pie": [
           {
            "automargin": true,
            "type": "pie"
           }
          ],
          "scatter": [
           {
            "marker": {
             "colorbar": {
              "outlinewidth": 0,
              "ticks": ""
             }
            },
            "type": "scatter"
           }
          ],
          "scatter3d": [
           {
            "line": {
             "colorbar": {
              "outlinewidth": 0,
              "ticks": ""
             }
            },
            "marker": {
             "colorbar": {
              "outlinewidth": 0,
              "ticks": ""
             }
            },
            "type": "scatter3d"
           }
          ],
          "scattercarpet": [
           {
            "marker": {
             "colorbar": {
              "outlinewidth": 0,
              "ticks": ""
             }
            },
            "type": "scattercarpet"
           }
          ],
          "scattergeo": [
           {
            "marker": {
             "colorbar": {
              "outlinewidth": 0,
              "ticks": ""
             }
            },
            "type": "scattergeo"
           }
          ],
          "scattergl": [
           {
            "marker": {
             "colorbar": {
              "outlinewidth": 0,
              "ticks": ""
             }
            },
            "type": "scattergl"
           }
          ],
          "scattermapbox": [
           {
            "marker": {
             "colorbar": {
              "outlinewidth": 0,
              "ticks": ""
             }
            },
            "type": "scattermapbox"
           }
          ],
          "scatterpolar": [
           {
            "marker": {
             "colorbar": {
              "outlinewidth": 0,
              "ticks": ""
             }
            },
            "type": "scatterpolar"
           }
          ],
          "scatterpolargl": [
           {
            "marker": {
             "colorbar": {
              "outlinewidth": 0,
              "ticks": ""
             }
            },
            "type": "scatterpolargl"
           }
          ],
          "scatterternary": [
           {
            "marker": {
             "colorbar": {
              "outlinewidth": 0,
              "ticks": ""
             }
            },
            "type": "scatterternary"
           }
          ],
          "surface": [
           {
            "colorbar": {
             "outlinewidth": 0,
             "ticks": ""
            },
            "colorscale": [
             [
              0,
              "#0d0887"
             ],
             [
              0.1111111111111111,
              "#46039f"
             ],
             [
              0.2222222222222222,
              "#7201a8"
             ],
             [
              0.3333333333333333,
              "#9c179e"
             ],
             [
              0.4444444444444444,
              "#bd3786"
             ],
             [
              0.5555555555555556,
              "#d8576b"
             ],
             [
              0.6666666666666666,
              "#ed7953"
             ],
             [
              0.7777777777777778,
              "#fb9f3a"
             ],
             [
              0.8888888888888888,
              "#fdca26"
             ],
             [
              1,
              "#f0f921"
             ]
            ],
            "type": "surface"
           }
          ],
          "table": [
           {
            "cells": {
             "fill": {
              "color": "#EBF0F8"
             },
             "line": {
              "color": "white"
             }
            },
            "header": {
             "fill": {
              "color": "#C8D4E3"
             },
             "line": {
              "color": "white"
             }
            },
            "type": "table"
           }
          ]
         },
         "layout": {
          "annotationdefaults": {
           "arrowcolor": "#2a3f5f",
           "arrowhead": 0,
           "arrowwidth": 1
          },
          "coloraxis": {
           "colorbar": {
            "outlinewidth": 0,
            "ticks": ""
           }
          },
          "colorscale": {
           "diverging": [
            [
             0,
             "#8e0152"
            ],
            [
             0.1,
             "#c51b7d"
            ],
            [
             0.2,
             "#de77ae"
            ],
            [
             0.3,
             "#f1b6da"
            ],
            [
             0.4,
             "#fde0ef"
            ],
            [
             0.5,
             "#f7f7f7"
            ],
            [
             0.6,
             "#e6f5d0"
            ],
            [
             0.7,
             "#b8e186"
            ],
            [
             0.8,
             "#7fbc41"
            ],
            [
             0.9,
             "#4d9221"
            ],
            [
             1,
             "#276419"
            ]
           ],
           "sequential": [
            [
             0,
             "#0d0887"
            ],
            [
             0.1111111111111111,
             "#46039f"
            ],
            [
             0.2222222222222222,
             "#7201a8"
            ],
            [
             0.3333333333333333,
             "#9c179e"
            ],
            [
             0.4444444444444444,
             "#bd3786"
            ],
            [
             0.5555555555555556,
             "#d8576b"
            ],
            [
             0.6666666666666666,
             "#ed7953"
            ],
            [
             0.7777777777777778,
             "#fb9f3a"
            ],
            [
             0.8888888888888888,
             "#fdca26"
            ],
            [
             1,
             "#f0f921"
            ]
           ],
           "sequentialminus": [
            [
             0,
             "#0d0887"
            ],
            [
             0.1111111111111111,
             "#46039f"
            ],
            [
             0.2222222222222222,
             "#7201a8"
            ],
            [
             0.3333333333333333,
             "#9c179e"
            ],
            [
             0.4444444444444444,
             "#bd3786"
            ],
            [
             0.5555555555555556,
             "#d8576b"
            ],
            [
             0.6666666666666666,
             "#ed7953"
            ],
            [
             0.7777777777777778,
             "#fb9f3a"
            ],
            [
             0.8888888888888888,
             "#fdca26"
            ],
            [
             1,
             "#f0f921"
            ]
           ]
          },
          "colorway": [
           "#636efa",
           "#EF553B",
           "#00cc96",
           "#ab63fa",
           "#FFA15A",
           "#19d3f3",
           "#FF6692",
           "#B6E880",
           "#FF97FF",
           "#FECB52"
          ],
          "font": {
           "color": "#2a3f5f"
          },
          "geo": {
           "bgcolor": "white",
           "lakecolor": "white",
           "landcolor": "#E5ECF6",
           "showlakes": true,
           "showland": true,
           "subunitcolor": "white"
          },
          "hoverlabel": {
           "align": "left"
          },
          "hovermode": "closest",
          "mapbox": {
           "style": "light"
          },
          "paper_bgcolor": "white",
          "plot_bgcolor": "#E5ECF6",
          "polar": {
           "angularaxis": {
            "gridcolor": "white",
            "linecolor": "white",
            "ticks": ""
           },
           "bgcolor": "#E5ECF6",
           "radialaxis": {
            "gridcolor": "white",
            "linecolor": "white",
            "ticks": ""
           }
          },
          "scene": {
           "xaxis": {
            "backgroundcolor": "#E5ECF6",
            "gridcolor": "white",
            "gridwidth": 2,
            "linecolor": "white",
            "showbackground": true,
            "ticks": "",
            "zerolinecolor": "white"
           },
           "yaxis": {
            "backgroundcolor": "#E5ECF6",
            "gridcolor": "white",
            "gridwidth": 2,
            "linecolor": "white",
            "showbackground": true,
            "ticks": "",
            "zerolinecolor": "white"
           },
           "zaxis": {
            "backgroundcolor": "#E5ECF6",
            "gridcolor": "white",
            "gridwidth": 2,
            "linecolor": "white",
            "showbackground": true,
            "ticks": "",
            "zerolinecolor": "white"
           }
          },
          "shapedefaults": {
           "line": {
            "color": "#2a3f5f"
           }
          },
          "ternary": {
           "aaxis": {
            "gridcolor": "white",
            "linecolor": "white",
            "ticks": ""
           },
           "baxis": {
            "gridcolor": "white",
            "linecolor": "white",
            "ticks": ""
           },
           "bgcolor": "#E5ECF6",
           "caxis": {
            "gridcolor": "white",
            "linecolor": "white",
            "ticks": ""
           }
          },
          "title": {
           "x": 0.05
          },
          "xaxis": {
           "automargin": true,
           "gridcolor": "white",
           "linecolor": "white",
           "ticks": "",
           "title": {
            "standoff": 15
           },
           "zerolinecolor": "white",
           "zerolinewidth": 2
          },
          "yaxis": {
           "automargin": true,
           "gridcolor": "white",
           "linecolor": "white",
           "ticks": "",
           "title": {
            "standoff": 15
           },
           "zerolinecolor": "white",
           "zerolinewidth": 2
          }
         }
        }
       }
      },
      "text/html": [
       "<div>                            <div id=\"48462ca7-c85f-409a-bc98-7d41d469b040\" class=\"plotly-graph-div\" style=\"height:525px; width:100%;\"></div>            <script type=\"text/javascript\">                require([\"plotly\"], function(Plotly) {                    window.PLOTLYENV=window.PLOTLYENV || {};                                    if (document.getElementById(\"48462ca7-c85f-409a-bc98-7d41d469b040\")) {                    Plotly.newPlot(                        \"48462ca7-c85f-409a-bc98-7d41d469b040\",                        [{\"hovertemplate\": \"x=%{x}<br>y=%{y}<br>z=%{z}<extra></extra>\", \"legendgroup\": \"\", \"marker\": {\"color\": \"#636efa\", \"symbol\": \"circle\"}, \"mode\": \"markers\", \"name\": \"\", \"scene\": \"scene\", \"showlegend\": false, \"type\": \"scatter3d\", \"x\": [2.0, 7.5, 12.0, 0.0, 5.0, 0.0, 10.0, 6.0, 1.0, 10.0, 0.0, 0.0, 6.0, 11.0, 4.0, 1.0, 10.0, 10.0, 5.0, 8.0, 3.0, 2.0, 12.0, 6.0, 1.0, 0.0, 3.0, 0.0, 0.0, 2.0, 3.0, 0.0, 0.0, 2.0, 0.0, 1.0, 2.0, 4.0, 3.0, 0.0, 1.0, 6.0, 0.0, 0.0, 0.0, 0.0, 2.0, 0.0, 0.0, 1.0, 0.0, 0.0, 3.0, 0.0, 0.0, 2.0, 4.0, 5.0, 0.0, 0.0, 1.0, 0.0, 2.0, 1.0, 0.0, 3.0, 0.0, 0.0, 0.0, 0.0, 0.0, 5.0, 3.0, 0.0, 1.0, 0.0, 0.0, 0.0, 5.0, 0.0, 1.0, 1.0, 1.0, 10.0], \"y\": [0.5294117647058824, 0.4117647058823529, 0.35294117647058826, 0.35294117647058826, 0.4117647058823529, 0.35294117647058826, 0.4117647058823529, 0.6470588235294118, 0.4117647058823529, 0.5294117647058824, 0.5882352941176471, 0.35294117647058826, 0.5294117647058824, 0.7058823529411765, 0.7647058823529411, 0.29411764705882354, 0.4117647058823529, 0.5882352941176471, 0.6470588235294118, 0.23529411764705882, 0.5294117647058824, 0.4117647058823529, 0.6470588235294118, 0.11764705882352941, 0.29411764705882354, 0.4117647058823529, 0.4117647058823529, 0.17647058823529413, 0.29411764705882354, 0.7647058823529411, 0.47058823529411764, 0.29411764705882354, 0.29411764705882354, 0.29411764705882354, 0.29411764705882354, 0.47058823529411764, 0.29411764705882354, 0.35294117647058826, 0.4117647058823529, 0.23529411764705882, 0.23529411764705882, 0.5882352941176471, 0.23529411764705882, 0.35294117647058826, 0.23529411764705882, 0.29411764705882354, 0.29411764705882354, 0.4117647058823529, 0.4117647058823529, 0.29411764705882354, 0.29411764705882354, 0.4117647058823529, 0.17647058823529413, 0.4117647058823529, 0.11764705882352941, 0.29411764705882354, 0.5882352941176471, 0.47058823529411764, 0.35294117647058826, 0.29411764705882354, 0.47058823529411764, 0.35294117647058826, 0.17647058823529413, 0.29411764705882354, 0.35294117647058826, 0.23529411764705882, 0.11764705882352941, 0.35294117647058826, 0.29411764705882354, 0.23529411764705882, 0.47058823529411764, 0.23529411764705882, 0.4117647058823529, 0.35294117647058826, 0.23529411764705882, 0.4117647058823529, 0.29411764705882354, 0.23529411764705882, 0.4117647058823529, 0.35294117647058826, 0.17647058823529413, 0.23529411764705882, 0.35294117647058826, 0.5882352941176471], \"z\": [30.320933333333336, 37.43295, 15.953949999999999, 17.860633333333332, 24.9514, 11.324266666666666, 20.072683333333334, 50.783249999999995, 23.355216666666667, 5.071816666666667, 13.5856, 11.370433333333333, 166.93645, 18.851850000000002, 42.11715, 13.947366666666666, 29.491600000000002, 23.206966666666666, 32.84715, 16.648516666666666, 16.5502, 17.723200000000002, 30.04393333333333, 15.769533333333333, 5.913266666666667, 5.369249999999999, 11.587083333333334, 5.636433333333333, 5.605066666666667, 16.4356, 9.699766666666667, 5.94925, 8.018133333333333, 5.1347499999999995, 2.2785, 10.470983333333333, 23.140066666666666, 28.10415, 4.338883333333333, 7.062766666666667, 7.328583333333333, 15.635483333333333, 1.8385, 7.72525, 11.429016666666666, 20.85285, 5.5582, 15.151733333333334, 13.54585, 9.50995, 5.406666666666666, 14.66995, 3.8433166666666665, 3.7387666666666663, 4.4254, 27.719633333333334, 6.347433333333333, 7.615866666666666, 6.44625, 2.49675, 3.3287666666666667, 6.84925, 2.4159, 22.383233333333333, 6.560816666666667, 4.33885, 9.80695, 8.9949, 4.489416666666667, 93.30356666666667, 8.498883333333334, 14.109866666666667, 17.633966666666666, 33.65736666666667, 4.427499999999999, 3.2748, 7.427216666666666, 14.761616666666667, 5.989566666666667, 5.1267, 5.894216666666667, 9.432633333333333, 40.70745, 5.132083333333333]}],                        {\"legend\": {\"tracegroupgap\": 0}, \"margin\": {\"t\": 60}, \"scene\": {\"domain\": {\"x\": [0.0, 1.0], \"y\": [0.0, 1.0]}, \"xaxis\": {\"title\": {\"text\": \"x\"}}, \"yaxis\": {\"title\": {\"text\": \"y\"}}, \"zaxis\": {\"title\": {\"text\": \"z\"}}}, \"template\": {\"data\": {\"bar\": [{\"error_x\": {\"color\": \"#2a3f5f\"}, \"error_y\": {\"color\": \"#2a3f5f\"}, \"marker\": {\"line\": {\"color\": \"#E5ECF6\", \"width\": 0.5}}, \"type\": \"bar\"}], \"barpolar\": [{\"marker\": {\"line\": {\"color\": \"#E5ECF6\", \"width\": 0.5}}, \"type\": \"barpolar\"}], \"carpet\": [{\"aaxis\": {\"endlinecolor\": \"#2a3f5f\", \"gridcolor\": \"white\", \"linecolor\": \"white\", \"minorgridcolor\": \"white\", \"startlinecolor\": \"#2a3f5f\"}, \"baxis\": {\"endlinecolor\": \"#2a3f5f\", \"gridcolor\": \"white\", \"linecolor\": \"white\", \"minorgridcolor\": \"white\", \"startlinecolor\": \"#2a3f5f\"}, \"type\": \"carpet\"}], \"choropleth\": [{\"colorbar\": {\"outlinewidth\": 0, \"ticks\": \"\"}, \"type\": \"choropleth\"}], \"contour\": [{\"colorbar\": {\"outlinewidth\": 0, \"ticks\": \"\"}, \"colorscale\": [[0.0, \"#0d0887\"], [0.1111111111111111, \"#46039f\"], [0.2222222222222222, \"#7201a8\"], [0.3333333333333333, \"#9c179e\"], [0.4444444444444444, \"#bd3786\"], [0.5555555555555556, \"#d8576b\"], [0.6666666666666666, \"#ed7953\"], [0.7777777777777778, \"#fb9f3a\"], [0.8888888888888888, \"#fdca26\"], [1.0, \"#f0f921\"]], \"type\": \"contour\"}], \"contourcarpet\": [{\"colorbar\": {\"outlinewidth\": 0, \"ticks\": \"\"}, \"type\": \"contourcarpet\"}], \"heatmap\": [{\"colorbar\": {\"outlinewidth\": 0, \"ticks\": \"\"}, \"colorscale\": [[0.0, \"#0d0887\"], [0.1111111111111111, \"#46039f\"], [0.2222222222222222, \"#7201a8\"], [0.3333333333333333, \"#9c179e\"], [0.4444444444444444, \"#bd3786\"], [0.5555555555555556, \"#d8576b\"], [0.6666666666666666, \"#ed7953\"], [0.7777777777777778, \"#fb9f3a\"], [0.8888888888888888, \"#fdca26\"], [1.0, \"#f0f921\"]], \"type\": \"heatmap\"}], \"heatmapgl\": [{\"colorbar\": {\"outlinewidth\": 0, \"ticks\": \"\"}, \"colorscale\": [[0.0, \"#0d0887\"], [0.1111111111111111, \"#46039f\"], [0.2222222222222222, \"#7201a8\"], [0.3333333333333333, \"#9c179e\"], [0.4444444444444444, \"#bd3786\"], [0.5555555555555556, \"#d8576b\"], [0.6666666666666666, \"#ed7953\"], [0.7777777777777778, \"#fb9f3a\"], [0.8888888888888888, \"#fdca26\"], [1.0, \"#f0f921\"]], \"type\": \"heatmapgl\"}], \"histogram\": [{\"marker\": {\"colorbar\": {\"outlinewidth\": 0, \"ticks\": \"\"}}, \"type\": \"histogram\"}], \"histogram2d\": [{\"colorbar\": {\"outlinewidth\": 0, \"ticks\": \"\"}, \"colorscale\": [[0.0, \"#0d0887\"], [0.1111111111111111, \"#46039f\"], [0.2222222222222222, \"#7201a8\"], [0.3333333333333333, \"#9c179e\"], [0.4444444444444444, \"#bd3786\"], [0.5555555555555556, \"#d8576b\"], [0.6666666666666666, \"#ed7953\"], [0.7777777777777778, \"#fb9f3a\"], [0.8888888888888888, \"#fdca26\"], [1.0, \"#f0f921\"]], \"type\": \"histogram2d\"}], \"histogram2dcontour\": [{\"colorbar\": {\"outlinewidth\": 0, \"ticks\": \"\"}, \"colorscale\": [[0.0, \"#0d0887\"], [0.1111111111111111, \"#46039f\"], [0.2222222222222222, \"#7201a8\"], [0.3333333333333333, \"#9c179e\"], [0.4444444444444444, \"#bd3786\"], [0.5555555555555556, \"#d8576b\"], [0.6666666666666666, \"#ed7953\"], [0.7777777777777778, \"#fb9f3a\"], [0.8888888888888888, \"#fdca26\"], [1.0, \"#f0f921\"]], \"type\": \"histogram2dcontour\"}], \"mesh3d\": [{\"colorbar\": {\"outlinewidth\": 0, \"ticks\": \"\"}, \"type\": \"mesh3d\"}], \"parcoords\": [{\"line\": {\"colorbar\": {\"outlinewidth\": 0, \"ticks\": \"\"}}, \"type\": \"parcoords\"}], \"pie\": [{\"automargin\": true, \"type\": \"pie\"}], \"scatter\": [{\"marker\": {\"colorbar\": {\"outlinewidth\": 0, \"ticks\": \"\"}}, \"type\": \"scatter\"}], \"scatter3d\": [{\"line\": {\"colorbar\": {\"outlinewidth\": 0, \"ticks\": \"\"}}, \"marker\": {\"colorbar\": {\"outlinewidth\": 0, \"ticks\": \"\"}}, \"type\": \"scatter3d\"}], \"scattercarpet\": [{\"marker\": {\"colorbar\": {\"outlinewidth\": 0, \"ticks\": \"\"}}, \"type\": \"scattercarpet\"}], \"scattergeo\": [{\"marker\": {\"colorbar\": {\"outlinewidth\": 0, \"ticks\": \"\"}}, \"type\": \"scattergeo\"}], \"scattergl\": [{\"marker\": {\"colorbar\": {\"outlinewidth\": 0, \"ticks\": \"\"}}, \"type\": \"scattergl\"}], \"scattermapbox\": [{\"marker\": {\"colorbar\": {\"outlinewidth\": 0, \"ticks\": \"\"}}, \"type\": \"scattermapbox\"}], \"scatterpolar\": [{\"marker\": {\"colorbar\": {\"outlinewidth\": 0, \"ticks\": \"\"}}, \"type\": \"scatterpolar\"}], \"scatterpolargl\": [{\"marker\": {\"colorbar\": {\"outlinewidth\": 0, \"ticks\": \"\"}}, \"type\": \"scatterpolargl\"}], \"scatterternary\": [{\"marker\": {\"colorbar\": {\"outlinewidth\": 0, \"ticks\": \"\"}}, \"type\": \"scatterternary\"}], \"surface\": [{\"colorbar\": {\"outlinewidth\": 0, \"ticks\": \"\"}, \"colorscale\": [[0.0, \"#0d0887\"], [0.1111111111111111, \"#46039f\"], [0.2222222222222222, \"#7201a8\"], [0.3333333333333333, \"#9c179e\"], [0.4444444444444444, \"#bd3786\"], [0.5555555555555556, \"#d8576b\"], [0.6666666666666666, \"#ed7953\"], [0.7777777777777778, \"#fb9f3a\"], [0.8888888888888888, \"#fdca26\"], [1.0, \"#f0f921\"]], \"type\": \"surface\"}], \"table\": [{\"cells\": {\"fill\": {\"color\": \"#EBF0F8\"}, \"line\": {\"color\": \"white\"}}, \"header\": {\"fill\": {\"color\": \"#C8D4E3\"}, \"line\": {\"color\": \"white\"}}, \"type\": \"table\"}]}, \"layout\": {\"annotationdefaults\": {\"arrowcolor\": \"#2a3f5f\", \"arrowhead\": 0, \"arrowwidth\": 1}, \"coloraxis\": {\"colorbar\": {\"outlinewidth\": 0, \"ticks\": \"\"}}, \"colorscale\": {\"diverging\": [[0, \"#8e0152\"], [0.1, \"#c51b7d\"], [0.2, \"#de77ae\"], [0.3, \"#f1b6da\"], [0.4, \"#fde0ef\"], [0.5, \"#f7f7f7\"], [0.6, \"#e6f5d0\"], [0.7, \"#b8e186\"], [0.8, \"#7fbc41\"], [0.9, \"#4d9221\"], [1, \"#276419\"]], \"sequential\": [[0.0, \"#0d0887\"], [0.1111111111111111, \"#46039f\"], [0.2222222222222222, \"#7201a8\"], [0.3333333333333333, \"#9c179e\"], [0.4444444444444444, \"#bd3786\"], [0.5555555555555556, \"#d8576b\"], [0.6666666666666666, \"#ed7953\"], [0.7777777777777778, \"#fb9f3a\"], [0.8888888888888888, \"#fdca26\"], [1.0, \"#f0f921\"]], \"sequentialminus\": [[0.0, \"#0d0887\"], [0.1111111111111111, \"#46039f\"], [0.2222222222222222, \"#7201a8\"], [0.3333333333333333, \"#9c179e\"], [0.4444444444444444, \"#bd3786\"], [0.5555555555555556, \"#d8576b\"], [0.6666666666666666, \"#ed7953\"], [0.7777777777777778, \"#fb9f3a\"], [0.8888888888888888, \"#fdca26\"], [1.0, \"#f0f921\"]]}, \"colorway\": [\"#636efa\", \"#EF553B\", \"#00cc96\", \"#ab63fa\", \"#FFA15A\", \"#19d3f3\", \"#FF6692\", \"#B6E880\", \"#FF97FF\", \"#FECB52\"], \"font\": {\"color\": \"#2a3f5f\"}, \"geo\": {\"bgcolor\": \"white\", \"lakecolor\": \"white\", \"landcolor\": \"#E5ECF6\", \"showlakes\": true, \"showland\": true, \"subunitcolor\": \"white\"}, \"hoverlabel\": {\"align\": \"left\"}, \"hovermode\": \"closest\", \"mapbox\": {\"style\": \"light\"}, \"paper_bgcolor\": \"white\", \"plot_bgcolor\": \"#E5ECF6\", \"polar\": {\"angularaxis\": {\"gridcolor\": \"white\", \"linecolor\": \"white\", \"ticks\": \"\"}, \"bgcolor\": \"#E5ECF6\", \"radialaxis\": {\"gridcolor\": \"white\", \"linecolor\": \"white\", \"ticks\": \"\"}}, \"scene\": {\"xaxis\": {\"backgroundcolor\": \"#E5ECF6\", \"gridcolor\": \"white\", \"gridwidth\": 2, \"linecolor\": \"white\", \"showbackground\": true, \"ticks\": \"\", \"zerolinecolor\": \"white\"}, \"yaxis\": {\"backgroundcolor\": \"#E5ECF6\", \"gridcolor\": \"white\", \"gridwidth\": 2, \"linecolor\": \"white\", \"showbackground\": true, \"ticks\": \"\", \"zerolinecolor\": \"white\"}, \"zaxis\": {\"backgroundcolor\": \"#E5ECF6\", \"gridcolor\": \"white\", \"gridwidth\": 2, \"linecolor\": \"white\", \"showbackground\": true, \"ticks\": \"\", \"zerolinecolor\": \"white\"}}, \"shapedefaults\": {\"line\": {\"color\": \"#2a3f5f\"}}, \"ternary\": {\"aaxis\": {\"gridcolor\": \"white\", \"linecolor\": \"white\", \"ticks\": \"\"}, \"baxis\": {\"gridcolor\": \"white\", \"linecolor\": \"white\", \"ticks\": \"\"}, \"bgcolor\": \"#E5ECF6\", \"caxis\": {\"gridcolor\": \"white\", \"linecolor\": \"white\", \"ticks\": \"\"}}, \"title\": {\"x\": 0.05}, \"xaxis\": {\"automargin\": true, \"gridcolor\": \"white\", \"linecolor\": \"white\", \"ticks\": \"\", \"title\": {\"standoff\": 15}, \"zerolinecolor\": \"white\", \"zerolinewidth\": 2}, \"yaxis\": {\"automargin\": true, \"gridcolor\": \"white\", \"linecolor\": \"white\", \"ticks\": \"\", \"title\": {\"standoff\": 15}, \"zerolinecolor\": \"white\", \"zerolinewidth\": 2}}}},                        {\"responsive\": true}                    ).then(function(){\n",
       "                            \n",
       "var gd = document.getElementById('48462ca7-c85f-409a-bc98-7d41d469b040');\n",
       "var x = new MutationObserver(function (mutations, observer) {{\n",
       "        var display = window.getComputedStyle(gd).display;\n",
       "        if (!display || display === 'none') {{\n",
       "            console.log([gd, 'removed!']);\n",
       "            Plotly.purge(gd);\n",
       "            observer.disconnect();\n",
       "        }}\n",
       "}});\n",
       "\n",
       "// Listen for the removal of the full notebook cells\n",
       "var notebookContainer = gd.closest('#notebook-container');\n",
       "if (notebookContainer) {{\n",
       "    x.observe(notebookContainer, {childList: true});\n",
       "}}\n",
       "\n",
       "// Listen for the clearing of the current output cell\n",
       "var outputEl = gd.closest('.output');\n",
       "if (outputEl) {{\n",
       "    x.observe(outputEl, {childList: true});\n",
       "}}\n",
       "\n",
       "                        })                };                });            </script>        </div>"
      ]
     },
     "metadata": {},
     "output_type": "display_data"
    }
   ],
   "source": [
    "px.scatter_3d(x=expertise, y=correct_rate(userseries_attentive), z=average_times)#[user.pref_theme for user in userseries_attentive])\n"
   ]
  },
  {
   "cell_type": "markdown",
   "metadata": {},
   "source": [
    "### Average correct rate and standard deviation for the different themes "
   ]
  },
  {
   "cell_type": "code",
   "execution_count": 157,
   "metadata": {},
   "outputs": [],
   "source": [
    "preference_lambda = lambda userslist, preference: [user for user in userslist if user.pref_theme == preference]"
   ]
  },
  {
   "cell_type": "code",
   "execution_count": 173,
   "metadata": {},
   "outputs": [],
   "source": [
    "def easy_bars(rates):\n",
    "    w = c.Counter(rates)\n",
    "    plt.bar(w.keys(), w.values())\n",
    "    plt.show()"
   ]
  },
  {
   "cell_type": "code",
   "execution_count": 161,
   "metadata": {},
   "outputs": [],
   "source": [
    "dark_users = preference_lambda(userseries_attentive, \"Dark Theme\")\n",
    "light_users = preference_lambda(userseries_attentive, \"Light Theme\")\n",
    "sloths_users = preference_lambda(userseries_attentive, \"Doesn't Matter\")\n",
    "agnostic_users = preference_lambda(userseries_attentive, \"Don't Know\")"
   ]
  },
  {
   "cell_type": "code",
   "execution_count": 164,
   "metadata": {},
   "outputs": [
    {
     "data": {
      "text/plain": [
       "(0.37180910099889003, 0.14307527401622852)"
      ]
     },
     "execution_count": 164,
     "metadata": {},
     "output_type": "execute_result"
    }
   ],
   "source": [
    "np.mean(np.asarray(correct_rate(dark_users))), np.std(np.asarray(correct_rate(dark_users)))"
   ]
  },
  {
   "cell_type": "code",
   "execution_count": 165,
   "metadata": {},
   "outputs": [
    {
     "data": {
      "text/plain": [
       "(0.3735294117647059, 0.15482437868531596)"
      ]
     },
     "execution_count": 165,
     "metadata": {},
     "output_type": "execute_result"
    }
   ],
   "source": [
    "np.mean(np.asarray(correct_rate(light_users))), np.std(np.asarray(correct_rate(light_users)))"
   ]
  },
  {
   "cell_type": "code",
   "execution_count": 166,
   "metadata": {},
   "outputs": [
    {
     "data": {
      "text/plain": [
       "(0.4191176470588235, 0.11556054151104199)"
      ]
     },
     "execution_count": 166,
     "metadata": {},
     "output_type": "execute_result"
    }
   ],
   "source": [
    "np.mean(np.asarray(correct_rate(sloths_users))), np.std(np.asarray(correct_rate(sloths_users)))"
   ]
  },
  {
   "cell_type": "code",
   "execution_count": 167,
   "metadata": {},
   "outputs": [
    {
     "data": {
      "text/plain": [
       "(0.29411764705882354, 0.04802921064280742)"
      ]
     },
     "execution_count": 167,
     "metadata": {},
     "output_type": "execute_result"
    }
   ],
   "source": [
    "np.mean(np.asarray(correct_rate(agnostic_users))), np.std(np.asarray(correct_rate(agnostic_users)))"
   ]
  },
  {
   "cell_type": "code",
   "execution_count": 176,
   "metadata": {},
   "outputs": [
    {
     "data": {
      "image/png": "[encoded data removed]",
      "text/plain": [
       "<Figure size 432x288 with 1 Axes>"
      ]
     },
     "metadata": {
      "needs_background": "light"
     },
     "output_type": "display_data"
    },
    {
     "data": {
      "image/png": "[encoded data removed]",
      "text/plain": [
       "<Figure size 432x288 with 1 Axes>"
      ]
     },
     "metadata": {
      "needs_background": "light"
     },
     "output_type": "display_data"
    },
    {
     "data": {
      "image/png": "[encoded data removed]",
      "text/plain": [
       "<Figure size 432x288 with 1 Axes>"
      ]
     },
     "metadata": {
      "needs_background": "light"
     },
     "output_type": "display_data"
    },
    {
     "data": {
      "image/png": "[encoded data removed]",
      "text/plain": [
       "<Figure size 432x288 with 1 Axes>"
      ]
     },
     "metadata": {
      "needs_background": "light"
     },
     "output_type": "display_data"
    }
   ],
   "source": [
    "plt.hist(correct_rate(dark_users))\n",
    "plt.show()\n",
    "plt.hist(correct_rate(light_users))\n",
    "plt.show()\n",
    "plt.hist(correct_rate(sloths_users))\n",
    "plt.show()\n",
    "plt.hist(correct_rate(agnostic_users))\n",
    "plt.show()"
   ]
  },
  {
   "cell_type": "markdown",
   "metadata": {},
   "source": [
    "### Scrap area"
   ]
  },
  {
   "cell_type": "code",
   "execution_count": 154,
   "metadata": {},
   "outputs": [],
   "source": [
    "answers_freqs_A, answers_rates_A = freqsNrates(UserBuilder.UserBuilder(), users_A)\n",
    "answers_freqs_B, answers_rates_B = freqsNrates(UserBuilder.UserBuilder(), users_B)\n",
    "answers_freqs_C, answers_rates_C = freqsNrates(UserBuilder.UserBuilder(), users_C)"
   ]
  },
  {
   "cell_type": "code",
   "execution_count": 44,
   "metadata": {},
   "outputs": [
    {
     "name": "stdout",
     "output_type": "stream",
     "text": [
      "D\n",
      "Counter({'D': 13, 'C': 4, 'A': 3, 'B': 2})\n"
     ]
    },
    {
     "data": {
      "image/png": "[encoded data removed]",
      "text/plain": [
       "<Figure size 432x288 with 1 Axes>"
      ]
     },
     "metadata": {
      "needs_background": "light"
     },
     "output_type": "display_data"
    },
    {
     "name": "stdout",
     "output_type": "stream",
     "text": [
      "C\n",
      "Counter({'B': 13, 'C': 5, 'D': 4})\n"
     ]
    },
    {
     "data": {
      "image/png": "[encoded data removed]",
      "text/plain": [
       "<Figure size 432x288 with 1 Axes>"
      ]
     },
     "metadata": {
      "needs_background": "light"
     },
     "output_type": "display_data"
    },
    {
     "name": "stdout",
     "output_type": "stream",
     "text": [
      "B\n",
      "Counter({'C': 9, 'D': 5, 'A': 4, 'B': 4})\n"
     ]
    },
    {
     "data": {
      "image/png": "[encoded data removed]",
      "text/plain": [
       "<Figure size 432x288 with 1 Axes>"
      ]
     },
     "metadata": {
      "needs_background": "light"
     },
     "output_type": "display_data"
    },
    {
     "name": "stdout",
     "output_type": "stream",
     "text": [
      "D\n",
      "Counter({'A': 15, 'B': 3, 'C': 2, 'D': 2})\n"
     ]
    },
    {
     "data": {
      "image/png": "[encoded data removed]",
      "text/plain": [
       "<Figure size 432x288 with 1 Axes>"
      ]
     },
     "metadata": {
      "needs_background": "light"
     },
     "output_type": "display_data"
    },
    {
     "name": "stdout",
     "output_type": "stream",
     "text": [
      "B\n",
      "Counter({'B': 14, 'C': 4, 'A': 3, 'D': 1})\n"
     ]
    },
    {
     "data": {
      "image/png": "[encoded data removed]",
      "text/plain": [
       "<Figure size 432x288 with 1 Axes>"
      ]
     },
     "metadata": {
      "needs_background": "light"
     },
     "output_type": "display_data"
    },
    {
     "name": "stdout",
     "output_type": "stream",
     "text": [
      "E\n",
      "Counter({'D': 8, 'E': 6, 'B': 4, 'C': 3, 'A': 1})\n"
     ]
    },
    {
     "data": {
      "image/png": "[encoded data removed]",
      "text/plain": [
       "<Figure size 432x288 with 1 Axes>"
      ]
     },
     "metadata": {
      "needs_background": "light"
     },
     "output_type": "display_data"
    },
    {
     "name": "stdout",
     "output_type": "stream",
     "text": [
      "C\n",
      "Counter({'C': 21, 'A': 1})\n"
     ]
    },
    {
     "data": {
      "image/png": "[encoded data removed]",
      "text/plain": [
       "<Figure size 432x288 with 1 Axes>"
      ]
     },
     "metadata": {
      "needs_background": "light"
     },
     "output_type": "display_data"
    },
    {
     "name": "stdout",
     "output_type": "stream",
     "text": [
      "D\n",
      "Counter({'A': 15, 'D': 4, 'B': 2, 'C': 1})\n"
     ]
    },
    {
     "data": {
      "image/png": "[encoded data removed]",
      "text/plain": [
       "<Figure size 432x288 with 1 Axes>"
      ]
     },
     "metadata": {
      "needs_background": "light"
     },
     "output_type": "display_data"
    },
    {
     "name": "stdout",
     "output_type": "stream",
     "text": [
      "B\n",
      "Counter({'A': 8, 'B': 8, 'D': 5, 'C': 1})\n"
     ]
    },
    {
     "data": {
      "image/png": "[encoded data removed]",
      "text/plain": [
       "<Figure size 432x288 with 1 Axes>"
      ]
     },
     "metadata": {
      "needs_background": "light"
     },
     "output_type": "display_data"
    },
    {
     "name": "stdout",
     "output_type": "stream",
     "text": [
      "C\n",
      "Counter({'C': 11, 'B': 5, 'A': 3, 'D': 3})\n"
     ]
    },
    {
     "data": {
      "image/png": "[encoded data removed]",
      "text/plain": [
       "<Figure size 432x288 with 1 Axes>"
      ]
     },
     "metadata": {
      "needs_background": "light"
     },
     "output_type": "display_data"
    },
    {
     "name": "stdout",
     "output_type": "stream",
     "text": [
      "A\n",
      "Counter({'D': 8, 'B': 5, 'C': 5, 'A': 4})\n"
     ]
    },
    {
     "data": {
      "image/png": "[encoded data removed]",
      "text/plain": [
       "<Figure size 432x288 with 1 Axes>"
      ]
     },
     "metadata": {
      "needs_background": "light"
     },
     "output_type": "display_data"
    },
    {
     "name": "stdout",
     "output_type": "stream",
     "text": [
      "C\n",
      "Counter({'C': 9, 'B': 5, 'A': 4, 'D': 4})\n"
     ]
    },
    {
     "data": {
      "image/png": "[encoded data removed]",
      "text/plain": [
       "<Figure size 432x288 with 1 Axes>"
      ]
     },
     "metadata": {
      "needs_background": "light"
     },
     "output_type": "display_data"
    },
    {
     "name": "stdout",
     "output_type": "stream",
     "text": [
      "C\n",
      "Counter({'B': 11, 'A': 4, 'C': 4, 'D': 3})\n"
     ]
    },
    {
     "data": {
      "image/png": "[encoded data removed]",
      "text/plain": [
       "<Figure size 432x288 with 1 Axes>"
      ]
     },
     "metadata": {
      "needs_background": "light"
     },
     "output_type": "display_data"
    },
    {
     "name": "stdout",
     "output_type": "stream",
     "text": [
      "C\n",
      "Counter({'D': 9, 'C': 5, 'A': 4, 'B': 4})\n"
     ]
    },
    {
     "data": {
      "image/png": "[encoded data removed]",
      "text/plain": [
       "<Figure size 432x288 with 1 Axes>"
      ]
     },
     "metadata": {
      "needs_background": "light"
     },
     "output_type": "display_data"
    },
    {
     "name": "stdout",
     "output_type": "stream",
     "text": [
      "D\n",
      "Counter({'D': 8, 'A': 7, 'B': 6, 'C': 1})\n"
     ]
    },
    {
     "data": {
      "image/png": "[encoded data removed]",
      "text/plain": [
       "<Figure size 432x288 with 1 Axes>"
      ]
     },
     "metadata": {
      "needs_background": "light"
     },
     "output_type": "display_data"
    },
    {
     "name": "stdout",
     "output_type": "stream",
     "text": [
      "D\n",
      "Counter({'D': 8, 'C': 6, 'A': 5, 'B': 3})\n"
     ]
    },
    {
     "data": {
      "image/png": "[encoded data removed]",
      "text/plain": [
       "<Figure size 432x288 with 1 Axes>"
      ]
     },
     "metadata": {
      "needs_background": "light"
     },
     "output_type": "display_data"
    },
    {
     "data": {
      "image/png": "[encoded data removed]",
      "text/plain": [
       "<Figure size 432x288 with 1 Axes>"
      ]
     },
     "metadata": {
      "needs_background": "light"
     },
     "output_type": "display_data"
    }
   ],
   "source": [
    "for i in range(17):\n",
    "    frequencies_plot(i, answers_freqs_A, \"\", False)"
   ]
  },
  {
   "cell_type": "code",
   "execution_count": 46,
   "metadata": {},
   "outputs": [
    {
     "name": "stdout",
     "output_type": "stream",
     "text": [
      "D\n",
      "Counter({'C': 16, 'B': 14, 'A': 6, 'D': 6})\n"
     ]
    },
    {
     "data": {
      "image/png": "[encoded data removed]",
      "text/plain": [
       "<Figure size 432x288 with 1 Axes>"
      ]
     },
     "metadata": {
      "needs_background": "light"
     },
     "output_type": "display_data"
    },
    {
     "name": "stdout",
     "output_type": "stream",
     "text": [
      "C\n",
      "Counter({'B': 26, 'C': 12, 'A': 3, 'D': 1})\n"
     ]
    },
    {
     "data": {
      "image/png": "[encoded data removed]",
      "text/plain": [
       "<Figure size 432x288 with 1 Axes>"
      ]
     },
     "metadata": {
      "needs_background": "light"
     },
     "output_type": "display_data"
    },
    {
     "name": "stdout",
     "output_type": "stream",
     "text": [
      "B\n",
      "Counter({'C': 17, 'B': 11, 'A': 7, 'D': 7})\n"
     ]
    },
    {
     "data": {
      "image/png": "[encoded data removed]",
      "text/plain": [
       "<Figure size 432x288 with 1 Axes>"
      ]
     },
     "metadata": {
      "needs_background": "light"
     },
     "output_type": "display_data"
    },
    {
     "name": "stdout",
     "output_type": "stream",
     "text": [
      "D\n",
      "Counter({'A': 30, 'D': 5, 'C': 4, 'B': 3})\n"
     ]
    },
    {
     "data": {
      "image/png": "[encoded data removed]",
      "text/plain": [
       "<Figure size 432x288 with 1 Axes>"
      ]
     },
     "metadata": {
      "needs_background": "light"
     },
     "output_type": "display_data"
    },
    {
     "name": "stdout",
     "output_type": "stream",
     "text": [
      "B\n",
      "Counter({'B': 24, 'A': 9, 'C': 6, 'D': 3})\n"
     ]
    },
    {
     "data": {
      "image/png": "[encoded data removed]",
      "text/plain": [
       "<Figure size 432x288 with 1 Axes>"
      ]
     },
     "metadata": {
      "needs_background": "light"
     },
     "output_type": "display_data"
    },
    {
     "name": "stdout",
     "output_type": "stream",
     "text": [
      "E\n",
      "Counter({'E': 20, 'D': 9, 'B': 8, 'C': 3, 'A': 2})\n"
     ]
    },
    {
     "data": {
      "image/png": "[encoded data removed]",
      "text/plain": [
       "<Figure size 432x288 with 1 Axes>"
      ]
     },
     "metadata": {
      "needs_background": "light"
     },
     "output_type": "display_data"
    },
    {
     "name": "stdout",
     "output_type": "stream",
     "text": [
      "C\n",
      "Counter({'C': 35, 'A': 7})\n"
     ]
    },
    {
     "data": {
      "image/png": "[encoded data removed]",
      "text/plain": [
       "<Figure size 432x288 with 1 Axes>"
      ]
     },
     "metadata": {
      "needs_background": "light"
     },
     "output_type": "display_data"
    },
    {
     "name": "stdout",
     "output_type": "stream",
     "text": [
      "D\n",
      "Counter({'C': 17, 'A': 12, 'D': 7, 'B': 6})\n"
     ]
    },
    {
     "data": {
      "image/png": "[encoded data removed]",
      "text/plain": [
       "<Figure size 432x288 with 1 Axes>"
      ]
     },
     "metadata": {
      "needs_background": "light"
     },
     "output_type": "display_data"
    },
    {
     "name": "stdout",
     "output_type": "stream",
     "text": [
      "B\n",
      "Counter({'B': 21, 'A': 14, 'D': 4, 'C': 3})\n"
     ]
    },
    {
     "data": {
      "image/png": "[encoded data removed]",
      "text/plain": [
       "<Figure size 432x288 with 1 Axes>"
      ]
     },
     "metadata": {
      "needs_background": "light"
     },
     "output_type": "display_data"
    },
    {
     "name": "stdout",
     "output_type": "stream",
     "text": [
      "C\n",
      "Counter({'C': 16, 'A': 11, 'B': 11, 'D': 4})\n"
     ]
    },
    {
     "data": {
      "image/png": "[encoded data removed]",
      "text/plain": [
       "<Figure size 432x288 with 1 Axes>"
      ]
     },
     "metadata": {
      "needs_background": "light"
     },
     "output_type": "display_data"
    },
    {
     "name": "stdout",
     "output_type": "stream",
     "text": [
      "A\n",
      "Counter({'A': 17, 'B': 10, 'D': 10, 'C': 5})\n"
     ]
    },
    {
     "data": {
      "image/png": "[encoded data removed]",
      "text/plain": [
       "<Figure size 432x288 with 1 Axes>"
      ]
     },
     "metadata": {
      "needs_background": "light"
     },
     "output_type": "display_data"
    },
    {
     "name": "stdout",
     "output_type": "stream",
     "text": [
      "C\n",
      "Counter({'A': 19, 'C': 14, 'B': 6, 'D': 3})\n"
     ]
    },
    {
     "data": {
      "image/png": "[encoded data removed]",
      "text/plain": [
       "<Figure size 432x288 with 1 Axes>"
      ]
     },
     "metadata": {
      "needs_background": "light"
     },
     "output_type": "display_data"
    },
    {
     "name": "stdout",
     "output_type": "stream",
     "text": [
      "C\n",
      "Counter({'A': 14, 'C': 11, 'B': 9, 'D': 8})\n"
     ]
    },
    {
     "data": {
      "image/png": "[encoded data removed]",
      "text/plain": [
       "<Figure size 432x288 with 1 Axes>"
      ]
     },
     "metadata": {
      "needs_background": "light"
     },
     "output_type": "display_data"
    },
    {
     "name": "stdout",
     "output_type": "stream",
     "text": [
      "C\n",
      "Counter({'C': 15, 'B': 13, 'D': 8, 'A': 6})\n"
     ]
    },
    {
     "data": {
      "image/png": "[encoded data removed]",
      "text/plain": [
       "<Figure size 432x288 with 1 Axes>"
      ]
     },
     "metadata": {
      "needs_background": "light"
     },
     "output_type": "display_data"
    },
    {
     "name": "stdout",
     "output_type": "stream",
     "text": [
      "D\n",
      "Counter({'D': 15, 'A': 11, 'B': 11, 'C': 5})\n"
     ]
    },
    {
     "data": {
      "image/png": "[encoded data removed]",
      "text/plain": [
       "<Figure size 432x288 with 1 Axes>"
      ]
     },
     "metadata": {
      "needs_background": "light"
     },
     "output_type": "display_data"
    },
    {
     "name": "stdout",
     "output_type": "stream",
     "text": [
      "D\n",
      "Counter({'D': 17, 'A': 12, 'B': 8, 'C': 5})\n"
     ]
    },
    {
     "data": {
      "image/png": "[encoded data removed]",
      "text/plain": [
       "<Figure size 432x288 with 1 Axes>"
      ]
     },
     "metadata": {
      "needs_background": "light"
     },
     "output_type": "display_data"
    },
    {
     "data": {
      "image/png": "[encoded data removed]",
      "text/plain": [
       "<Figure size 432x288 with 1 Axes>"
      ]
     },
     "metadata": {
      "needs_background": "light"
     },
     "output_type": "display_data"
    }
   ],
   "source": [
    "for i in range(17):\n",
    "    frequencies_plot(i, answers_freqs_B, \"\", False)"
   ]
  },
  {
   "cell_type": "code",
   "execution_count": 47,
   "metadata": {},
   "outputs": [
    {
     "name": "stdout",
     "output_type": "stream",
     "text": [
      "D\n",
      "Counter({'A': 9, 'D': 7, 'B': 2, 'C': 2})\n"
     ]
    },
    {
     "data": {
      "image/png": "[encoded data removed]",
      "text/plain": [
       "<Figure size 432x288 with 1 Axes>"
      ]
     },
     "metadata": {
      "needs_background": "light"
     },
     "output_type": "display_data"
    },
    {
     "name": "stdout",
     "output_type": "stream",
     "text": [
      "C\n",
      "Counter({'C': 9, 'B': 7, 'A': 2, 'D': 2})\n"
     ]
    },
    {
     "data": {
      "image/png": "[encoded data removed]",
      "text/plain": [
       "<Figure size 432x288 with 1 Axes>"
      ]
     },
     "metadata": {
      "needs_background": "light"
     },
     "output_type": "display_data"
    },
    {
     "name": "stdout",
     "output_type": "stream",
     "text": [
      "B\n",
      "Counter({'C': 7, 'B': 5, 'D': 5, 'A': 3})\n"
     ]
    },
    {
     "data": {
      "image/png": "[encoded data removed]",
      "text/plain": [
       "<Figure size 432x288 with 1 Axes>"
      ]
     },
     "metadata": {
      "needs_background": "light"
     },
     "output_type": "display_data"
    },
    {
     "name": "stdout",
     "output_type": "stream",
     "text": [
      "D\n",
      "Counter({'A': 7, 'D': 7, 'B': 3, 'C': 3})\n"
     ]
    },
    {
     "data": {
      "image/png": "[encoded data removed]",
      "text/plain": [
       "<Figure size 432x288 with 1 Axes>"
      ]
     },
     "metadata": {
      "needs_background": "light"
     },
     "output_type": "display_data"
    },
    {
     "name": "stdout",
     "output_type": "stream",
     "text": [
      "B\n",
      "Counter({'B': 14, 'A': 2, 'C': 2, 'D': 2})\n"
     ]
    },
    {
     "data": {
      "image/png": "[encoded data removed]",
      "text/plain": [
       "<Figure size 432x288 with 1 Axes>"
      ]
     },
     "metadata": {
      "needs_background": "light"
     },
     "output_type": "display_data"
    },
    {
     "name": "stdout",
     "output_type": "stream",
     "text": [
      "E\n",
      "Counter({'E': 11, 'D': 4, 'B': 3, 'C': 2})\n"
     ]
    },
    {
     "data": {
      "image/png": "[encoded data removed]",
      "text/plain": [
       "<Figure size 432x288 with 1 Axes>"
      ]
     },
     "metadata": {
      "needs_background": "light"
     },
     "output_type": "display_data"
    },
    {
     "name": "stdout",
     "output_type": "stream",
     "text": [
      "C\n",
      "Counter({'C': 19, 'A': 1})\n"
     ]
    },
    {
     "data": {
      "image/png": "[encoded data removed]",
      "text/plain": [
       "<Figure size 432x288 with 1 Axes>"
      ]
     },
     "metadata": {
      "needs_background": "light"
     },
     "output_type": "display_data"
    },
    {
     "name": "stdout",
     "output_type": "stream",
     "text": [
      "D\n",
      "Counter({'A': 7, 'D': 6, 'C': 5, 'B': 2})\n"
     ]
    },
    {
     "data": {
      "image/png": "[encoded data removed]",
      "text/plain": [
       "<Figure size 432x288 with 1 Axes>"
      ]
     },
     "metadata": {
      "needs_background": "light"
     },
     "output_type": "display_data"
    },
    {
     "name": "stdout",
     "output_type": "stream",
     "text": [
      "B\n",
      "Counter({'B': 9, 'A': 6, 'D': 5})\n"
     ]
    },
    {
     "data": {
      "image/png": "[encoded data removed]",
      "text/plain": [
       "<Figure size 432x288 with 1 Axes>"
      ]
     },
     "metadata": {
      "needs_background": "light"
     },
     "output_type": "display_data"
    },
    {
     "name": "stdout",
     "output_type": "stream",
     "text": [
      "C\n",
      "Counter({'C': 10, 'B': 7, 'D': 3})\n"
     ]
    },
    {
     "data": {
      "image/png": "[encoded data removed]",
      "text/plain": [
       "<Figure size 432x288 with 1 Axes>"
      ]
     },
     "metadata": {
      "needs_background": "light"
     },
     "output_type": "display_data"
    },
    {
     "name": "stdout",
     "output_type": "stream",
     "text": [
      "A\n",
      "Counter({'D': 8, 'A': 6, 'C': 4, 'B': 2})\n"
     ]
    },
    {
     "data": {
      "image/png": "[encoded data removed]",
      "text/plain": [
       "<Figure size 432x288 with 1 Axes>"
      ]
     },
     "metadata": {
      "needs_background": "light"
     },
     "output_type": "display_data"
    },
    {
     "name": "stdout",
     "output_type": "stream",
     "text": [
      "C\n",
      "Counter({'C': 11, 'D': 4, 'A': 3, 'B': 2})\n"
     ]
    },
    {
     "data": {
      "image/png": "[encoded data removed]",
      "text/plain": [
       "<Figure size 432x288 with 1 Axes>"
      ]
     },
     "metadata": {
      "needs_background": "light"
     },
     "output_type": "display_data"
    },
    {
     "name": "stdout",
     "output_type": "stream",
     "text": [
      "C\n",
      "Counter({'D': 7, 'C': 6, 'B': 5, 'A': 2})\n"
     ]
    },
    {
     "data": {
      "image/png": "[encoded data removed]",
      "text/plain": [
       "<Figure size 432x288 with 1 Axes>"
      ]
     },
     "metadata": {
      "needs_background": "light"
     },
     "output_type": "display_data"
    },
    {
     "name": "stdout",
     "output_type": "stream",
     "text": [
      "C\n",
      "Counter({'C': 8, 'D': 6, 'B': 5, 'A': 1})\n"
     ]
    },
    {
     "data": {
      "image/png": "[encoded data removed]",
      "text/plain": [
       "<Figure size 432x288 with 1 Axes>"
      ]
     },
     "metadata": {
      "needs_background": "light"
     },
     "output_type": "display_data"
    },
    {
     "name": "stdout",
     "output_type": "stream",
     "text": [
      "D\n",
      "Counter({'D': 6, 'A': 5, 'C': 5, 'B': 4})\n"
     ]
    },
    {
     "data": {
      "image/png": "[encoded data removed]",
      "text/plain": [
       "<Figure size 432x288 with 1 Axes>"
      ]
     },
     "metadata": {
      "needs_background": "light"
     },
     "output_type": "display_data"
    },
    {
     "name": "stdout",
     "output_type": "stream",
     "text": [
      "D\n",
      "Counter({'D': 8, 'C': 6, 'A': 4, 'B': 2})\n"
     ]
    },
    {
     "data": {
      "image/png": "[encoded data removed]",
      "text/plain": [
       "<Figure size 432x288 with 1 Axes>"
      ]
     },
     "metadata": {
      "needs_background": "light"
     },
     "output_type": "display_data"
    },
    {
     "data": {
      "image/png": "[encoded data removed]",
      "text/plain": [
       "<Figure size 432x288 with 1 Axes>"
      ]
     },
     "metadata": {
      "needs_background": "light"
     },
     "output_type": "display_data"
    }
   ],
   "source": [
    "for i in range(17):\n",
    "    frequencies_plot(i, answers_freqs_C, \"\", False)"
   ]
  },
  {
   "cell_type": "code",
   "execution_count": 25,
   "metadata": {},
   "outputs": [
    {
     "name": "stdout",
     "output_type": "stream",
     "text": [
      "Question:  dict_keys(['question', 'label', 'value', 'rawobj', 'endstamp'])\n",
      "Question:  dict_keys(['question', 'label', 'value', 'rawobj', 'endstamp'])\n",
      "Question:  dict_keys(['question', 'label', 'value', 'rawobj', 'endstamp'])\n",
      "Question:  dict_keys(['question', 'label', 'value', 'rawobj', 'endstamp'])\n",
      "Question:  dict_keys(['question', 'label', 'value', 'rawobj', 'endstamp'])\n",
      "Question:  dict_keys(['question', 'label', 'value', 'rawobj', 'endstamp'])\n",
      "Question:  dict_keys(['question', 'label', 'value', 'rawobj', 'endstamp'])\n",
      "Question:  dict_keys(['question', 'label', 'value', 'rawobj', 'endstamp'])\n",
      "Question:  dict_keys(['question', 'label', 'value', 'rawobj', 'endstamp'])\n",
      "Question:  dict_keys(['question', 'label', 'value', 'rawobj', 'endstamp'])\n",
      "Question:  dict_keys(['question', 'label', 'value', 'rawobj', 'endstamp'])\n",
      "Question:  dict_keys(['question', 'label', 'value', 'rawobj', 'endstamp'])\n",
      "Question:  dict_keys(['question', 'label', 'value', 'rawobj', 'endstamp'])\n",
      "Question:  dict_keys(['question', 'label', 'value', 'rawobj', 'endstamp'])\n",
      "Question:  dict_keys(['question', 'label', 'value', 'rawobj', 'endstamp'])\n",
      "Question:  dict_keys(['question', 'label', 'value', 'rawobj', 'endstamp'])\n",
      "Question:  dict_keys(['question', 'label', 'value', 'rawobj', 'endstamp'])\n",
      "Question:  dict_keys(['question', 'label', 'value', 'rawobj', 'endstamp'])\n",
      "Question:  dict_keys(['question', 'label', 'value', 'rawobj', 'endstamp'])\n"
     ]
    }
   ],
   "source": [
    "question = 1\n",
    "for item in survey[3][\"userresponse\"]:\n",
    "    print(\"Question: \", item.keys())\n",
    "    #.keys()"
   ]
  },
  {
   "cell_type": "code",
   "execution_count": 26,
   "metadata": {},
   "outputs": [
    {
     "data": {
      "text/plain": [
       "{'dev_exp': '2',\n",
       " 'corrected_vision': 'Normal Vision',\n",
       " 'color_blind': 'No',\n",
       " 'language': 'Chinese',\n",
       " 'usage': ['Laptop'],\n",
       " 'gender': 'Female',\n",
       " 'agree': True}"
      ]
     },
     "execution_count": 26,
     "metadata": {},
     "output_type": "execute_result"
    }
   ],
   "source": [
    "{key: value for key,value in survey[0][\"userdata\"][\"personal\"].items() if key != \"email\"}"
   ]
  },
  {
   "cell_type": "code",
   "execution_count": null,
   "metadata": {},
   "outputs": [],
   "source": []
  }
 ],
 "metadata": {
  "kernelspec": {
   "display_name": "Python 3",
   "language": "python",
   "name": "python3"
  },
  "language_info": {
   "codemirror_mode": {
    "name": "ipython",
    "version": 3
   },
   "file_extension": ".py",
   "mimetype": "text/x-python",
   "name": "python",
   "nbconvert_exporter": "python",
   "pygments_lexer": "ipython3",
   "version": "3.7.5"
  }
 },
 "nbformat": 4,
 "nbformat_minor": 4
}
