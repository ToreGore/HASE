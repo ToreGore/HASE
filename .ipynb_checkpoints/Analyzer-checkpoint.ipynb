{
 "cells": [
  {
   "cell_type": "code",
   "execution_count": 1,
   "metadata": {},
   "outputs": [
    {
     "name": "stdout",
     "output_type": "stream",
     "text": [
      "importing Jupyter notebook from UserBuilder.ipynb\n",
      "importing Jupyter notebook from SurveyUser.ipynb\n"
     ]
    }
   ],
   "source": [
    "import json\n",
    "import numpy as np\n",
    "import pandas as pd\n",
    "import matplotlib.pyplot as plt\n",
    "\n",
    "import import_ipynb\n",
    "import UserBuilder"
   ]
  },
  {
   "cell_type": "code",
   "execution_count": 2,
   "metadata": {},
   "outputs": [],
   "source": [
    "with open('dataset.json', 'r') as f:\n",
    "    survey = json.load(f)"
   ]
  },
  {
   "cell_type": "code",
   "execution_count": 3,
   "metadata": {},
   "outputs": [
    {
     "data": {
      "text/plain": [
       "8"
      ]
     },
     "execution_count": 3,
     "metadata": {},
     "output_type": "execute_result"
    }
   ],
   "source": [
    "len(survey)"
   ]
  },
  {
   "cell_type": "code",
   "execution_count": 4,
   "metadata": {},
   "outputs": [
    {
     "data": {
      "text/plain": [
       "[('B', '1606067921724')]"
      ]
     },
     "execution_count": 4,
     "metadata": {},
     "output_type": "execute_result"
    }
   ],
   "source": [
    "a, survey_user = UserBuilder.UserBuilder().survey_parser(survey[5])\n",
    "[x for x in survey_user.__dict__[\"questions_dict\"].keys()][-1]\n",
    "\n",
    "#start_time = int((survey_user.questions_dict[1])[len(start_time.questions_dict[1]) - 1][1])\n",
    "#last_key = survey_user.questions_dict[[x for x in survey_user.questions_dict.keys()]][-1]\n",
    "#end_time = int((self.questions_dict[last_key])[len(self.questions_dict[last_key]) - 1][1])\n",
    "last_key = survey_user.questions_dict[[x for x in survey_user.questions_dict.keys()][1]]\n",
    "last_key"
   ]
  },
  {
   "cell_type": "code",
   "execution_count": 5,
   "metadata": {},
   "outputs": [
    {
     "data": {
      "text/plain": [
       "'B'"
      ]
     },
     "execution_count": 5,
     "metadata": {},
     "output_type": "execute_result"
    }
   ],
   "source": [
    "i = 0\n",
    "average_times = []\n",
    "builder = UserBuilder.UserBuilder()\n",
    "for surv in range(len(survey)):\n",
    "    builder, survey_user = builder.survey_parser(survey[surv])\n",
    "    average_times.append(int(survey_user.time_completion()))\n",
    "survey_user.pref_theme    "
   ]
  },
  {
   "cell_type": "code",
   "execution_count": 6,
   "metadata": {},
   "outputs": [
    {
     "data": {
      "text/plain": [
       "{1: [('2', '1606124579647')],\n",
       " 2: [('2', '1606124724312')],\n",
       " 3: [('2', '1606124813508')],\n",
       " 4: [('5', '1606124829491')],\n",
       " 5: [('2', '1606124920779')],\n",
       " 6: [('1', '1606125219155')],\n",
       " 8: [('2', '1606125334106')],\n",
       " 9: [('2', '1606125505111')],\n",
       " 10: [('5', '1606125510149')],\n",
       " 11: [('5', '1606125735304')],\n",
       " 12: [('1', '1606125788291')],\n",
       " 13: [('2', '1606126427192'), ('3', '1606126429540')],\n",
       " 14: [('3', '1606126649088')],\n",
       " 15: [('3', '1606127592505'), ('4', '1606127594464')],\n",
       " 16: [('5', '1606127615823')]}"
      ]
     },
     "execution_count": 6,
     "metadata": {},
     "output_type": "execute_result"
    }
   ],
   "source": [
    "survey_user.user_rating"
   ]
  },
  {
   "cell_type": "code",
   "execution_count": 7,
   "metadata": {},
   "outputs": [
    {
     "data": {
      "text/plain": [
       "(array([1., 0., 0., 4., 0., 0., 1., 0., 0., 2.]),\n",
       " array([0. , 0.3, 0.6, 0.9, 1.2, 1.5, 1.8, 2.1, 2.4, 2.7, 3. ]),\n",
       " <a list of 10 Patch objects>)"
      ]
     },
     "execution_count": 7,
     "metadata": {},
     "output_type": "execute_result"
    },
    {
     "data": {
      "image/png": "[encoded data removed]",
      "text/plain": [
       "<Figure size 432x288 with 1 Axes>"
      ]
     },
     "metadata": {
      "needs_background": "light"
     },
     "output_type": "display_data"
    }
   ],
   "source": [
    "plt.hist(builder.answers_freqs(1))"
   ]
  },
  {
   "cell_type": "code",
   "execution_count": 8,
   "metadata": {},
   "outputs": [
    {
     "data": {
      "text/plain": [
       "(array([1., 2., 1., 1., 1., 0., 1., 0., 0., 1.]),\n",
       " array([11. , 14.9, 18.8, 22.7, 26.6, 30.5, 34.4, 38.3, 42.2, 46.1, 50. ]),\n",
       " <a list of 10 Patch objects>)"
      ]
     },
     "execution_count": 8,
     "metadata": {},
     "output_type": "execute_result"
    },
    {
     "data": {
      "image/png": "[encoded data removed]",
      "text/plain": [
       "<Figure size 432x288 with 1 Axes>"
      ]
     },
     "metadata": {
      "needs_background": "light"
     },
     "output_type": "display_data"
    }
   ],
   "source": [
    "plt.hist(average_times, histtype=\"bar\", ec=\"black\")"
   ]
  },
  {
   "cell_type": "code",
   "execution_count": 9,
   "metadata": {},
   "outputs": [
    {
     "data": {
      "text/plain": [
       "25.5"
      ]
     },
     "execution_count": 9,
     "metadata": {},
     "output_type": "execute_result"
    }
   ],
   "source": [
    "np.mean(np.asarray(average_times))"
   ]
  },
  {
   "cell_type": "code",
   "execution_count": 10,
   "metadata": {},
   "outputs": [
    {
     "name": "stdout",
     "output_type": "stream",
     "text": [
      "Question:  dict_keys(['question', 'label', 'value', 'rawobj', 'endstamp'])\n",
      "Question:  dict_keys(['question', 'label', 'value', 'rawobj', 'endstamp'])\n",
      "Question:  dict_keys(['question', 'label', 'value', 'rawobj', 'endstamp'])\n",
      "Question:  dict_keys(['question', 'label', 'value', 'rawobj', 'endstamp'])\n",
      "Question:  dict_keys(['question', 'label', 'value', 'rawobj', 'endstamp'])\n",
      "Question:  dict_keys(['question', 'label', 'value', 'rawobj', 'endstamp'])\n",
      "Question:  dict_keys(['question', 'label', 'value', 'rawobj', 'endstamp'])\n",
      "Question:  dict_keys(['question', 'label', 'value', 'rawobj', 'endstamp'])\n",
      "Question:  dict_keys(['question', 'label', 'value', 'rawobj', 'endstamp'])\n",
      "Question:  dict_keys(['question', 'label', 'value', 'rawobj', 'endstamp'])\n",
      "Question:  dict_keys(['question', 'label', 'value', 'rawobj', 'endstamp'])\n",
      "Question:  dict_keys(['question', 'label', 'value', 'rawobj', 'endstamp'])\n",
      "Question:  dict_keys(['question', 'label', 'value', 'rawobj', 'endstamp'])\n",
      "Question:  dict_keys(['question', 'label', 'value', 'rawobj', 'endstamp'])\n",
      "Question:  dict_keys(['question', 'label', 'value', 'rawobj', 'endstamp'])\n",
      "Question:  dict_keys(['question', 'label', 'value', 'rawobj', 'endstamp'])\n",
      "Question:  dict_keys(['question', 'label', 'value', 'rawobj', 'endstamp'])\n",
      "Question:  dict_keys(['question', 'label', 'value', 'rawobj', 'endstamp'])\n",
      "Question:  dict_keys(['question', 'label', 'value', 'rawobj', 'endstamp'])\n"
     ]
    }
   ],
   "source": [
    "question = 1\n",
    "for item in survey[3][\"userresponse\"]:\n",
    "    print(\"Question: \", item.keys())\n",
    "    #.keys()"
   ]
  },
  {
   "cell_type": "code",
   "execution_count": 11,
   "metadata": {},
   "outputs": [
    {
     "data": {
      "text/plain": [
       "{'dev_exp': '2',\n",
       " 'corrected_vision': 'Normal Vision',\n",
       " 'color_blind': 'No',\n",
       " 'language': 'Chinese',\n",
       " 'usage': ['Laptop'],\n",
       " 'gender': 'Female',\n",
       " 'agree': True}"
      ]
     },
     "execution_count": 11,
     "metadata": {},
     "output_type": "execute_result"
    }
   ],
   "source": [
    "{key: value for key,value in survey[0][\"userdata\"][\"personal\"].items() if key != \"email\"}"
   ]
  },
  {
   "cell_type": "code",
   "execution_count": null,
   "metadata": {},
   "outputs": [],
   "source": []
  }
 ],
 "metadata": {
  "kernelspec": {
   "display_name": "Python 3",
   "language": "python",
   "name": "python3"
  },
  "language_info": {
   "codemirror_mode": {
    "name": "ipython",
    "version": 3
   },
   "file_extension": ".py",
   "mimetype": "text/x-python",
   "name": "python",
   "nbconvert_exporter": "python",
   "pygments_lexer": "ipython3",
   "version": "3.7.5"
  }
 },
 "nbformat": 4,
 "nbformat_minor": 4
}
