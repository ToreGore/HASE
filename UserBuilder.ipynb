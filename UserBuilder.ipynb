{
 "cells": [
  {
   "cell_type": "code",
   "execution_count": 1,
   "metadata": {},
   "outputs": [
    {
     "name": "stdout",
     "output_type": "stream",
     "text": [
      "importing Jupyter notebook from SurveyUser.ipynb\n"
     ]
    }
   ],
   "source": [
    "import import_ipynb\n",
    "import collections\n",
    "from SurveyUser import SurveyUser"
   ]
  },
  {
   "cell_type": "markdown",
   "metadata": {},
   "source": [
    "### UserBuilder class\n",
    "It's the class that's used to manage the building of all the users in the Analyzer class.<br>\n",
    "It can be initialized either by running \"survey_parser\" function, that parses the survey document or by passing an already existing list of users.<br>\n",
    "The function to calculate the frequencies of the answers to one question accepts a list of external users too, maybe filtered prior to the invocation."
   ]
  },
  {
   "cell_type": "code",
   "execution_count": 2,
   "metadata": {},
   "outputs": [],
   "source": [
    "correct_answers = {\n",
    "    1:\"D\",\n",
    "    2:\"C\",\n",
    "    3:\"B\",\n",
    "    4:\"D\",\n",
    "    5:\"B\",\n",
    "    6:\"E\",\n",
    "    7:\"C\", #check question\n",
    "    8:\"D\",\n",
    "    9:\"B\",\n",
    "    10:\"C\",\n",
    "    11:\"A\",\n",
    "    12:\"C\",\n",
    "    13:\"C\",\n",
    "    14:\"C\",\n",
    "    15:\"D\",\n",
    "    16:\"D\",\n",
    "    17: None #dark or light\n",
    "}\n",
    "\n",
    "preferences = {\n",
    "    \"A\": \"Light Theme\",\n",
    "    \"B\": \"Dark Theme\",\n",
    "    \"C\": \"Don't Know\",\n",
    "    \"D\": \"Doesn't Matter\"\n",
    "}"
   ]
  },
  {
   "cell_type": "code",
   "execution_count": 5,
   "metadata": {},
   "outputs": [],
   "source": [
    "class UserBuilder:\n",
    "    def __init__(self):\n",
    "        self.users_built = []\n",
    "        self.check = correct_answers\n",
    "    def survey_parser(self, survey):\n",
    "        survey_user = 0\n",
    "        mail = survey[\"userdata\"][\"personal\"][\"email\"]\n",
    "        infos = {key: value for key,value in survey[\"userdata\"][\"personal\"].items() if key != \"email\"}\n",
    "        #time = survey[]\n",
    "        questions_dict = {}\n",
    "        user_rating = {}\n",
    "        pref_theme = \"\"\n",
    "        #correct_guesses = {}\n",
    "        distracted = False\n",
    "        for item in survey[\"userresponse\"]:\n",
    "            if item[\"question\"] not in questions_dict.keys():\n",
    "                questions_dict[item[\"question\"]] = [(item[\"value\"], item[\"endstamp\"])]\n",
    "            else:\n",
    "                questions_dict[item[\"question\"]] = questions_dict[item[\"question\"]] + [(item[\"value\"], item[\"endstamp\"])]\n",
    "        for item in survey[\"userrating\"]:\n",
    "            if item[\"questionid\"] not in user_rating.keys():\n",
    "                user_rating[item[\"questionid\"]] = [(item[\"rate\"], item[\"endstamp\"])]\n",
    "            else:\n",
    "                user_rating[item[\"questionid\"]] = user_rating[item[\"questionid\"]] + [(item[\"rate\"], item[\"endstamp\"])]\n",
    "        \n",
    "        correct_guesses = [True \n",
    "                           if questions_dict[index][-1][0] == self.check[index] \n",
    "                           else False \n",
    "                           for index in self.check.keys()]\n",
    "        #{index: True if questions_dict[index] == self.check[index] else key: False for index in [x for x in questions_dict.keys()]}\n",
    "        if questions_dict[7][-1][0] != \"C\":\n",
    "            distracted = True\n",
    "        pref_theme = preferences[questions_dict[[x for x in questions_dict.keys()][-1]][-1][0]]\n",
    "        user = SurveyUser(mail, \n",
    "                          infos,\n",
    "                          questions_dict, \n",
    "                          user_rating, \n",
    "                          pref_theme,\n",
    "                          correct_guesses,\n",
    "                          distracted\n",
    "                         )\n",
    "        \n",
    "        self.users_built.append(user)\n",
    "        return self, user\n",
    "    \n",
    "    def building_history(self):\n",
    "        return self.users_built\n",
    "    \n",
    "    # Function to get the frequency of answers and the correct rate\n",
    "    def answers_freqs(self, answer_num, externalusers = None):\n",
    "        answers = []\n",
    "        built = []\n",
    "        if externalusers != None:\n",
    "            built = externalusers\n",
    "        else:\n",
    "            built = self.users_built\n",
    "        for user in built:\n",
    "            answers.append(user.questions_dict[answer_num][0])\n",
    "        freqs = collections.Counter([x[0] for x in sorted(answers)])\n",
    "        \n",
    "        correct_rate = 0\n",
    "        if correct_answers[answer_num] != None:\n",
    "            correct_rate = freqs[correct_answers[answer_num]] / sum([value for value in freqs.values()])\n",
    "        return freqs, correct_rate\n",
    "    \n",
    "    def prefs_freqs(self, answer_num, externalusers = None):\n",
    "        answers = []\n",
    "        built = []\n",
    "        if externalusers != None:\n",
    "            built = externalusers\n",
    "        else:\n",
    "            built = self.users_built\n",
    "        for user in built:\n",
    "            answers.append(user.user_rating[answer_num][0])\n",
    "        return [x[0] for x in sorted(answers)]"
   ]
  },
  {
   "cell_type": "code",
   "execution_count": null,
   "metadata": {},
   "outputs": [],
   "source": []
  }
 ],
 "metadata": {
  "kernelspec": {
   "display_name": "Python 3",
   "language": "python",
   "name": "python3"
  },
  "language_info": {
   "codemirror_mode": {
    "name": "ipython",
    "version": 3
   },
   "file_extension": ".py",
   "mimetype": "text/x-python",
   "name": "python",
   "nbconvert_exporter": "python",
   "pygments_lexer": "ipython3",
   "version": "3.7.5"
  }
 },
 "nbformat": 4,
 "nbformat_minor": 4
}
