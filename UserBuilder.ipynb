{
 "cells": [
  {
   "cell_type": "code",
   "execution_count": 2,
   "metadata": {},
   "outputs": [
    {
     "name": "stdout",
     "output_type": "stream",
     "text": [
      "importing Jupyter notebook from SurveyUser.ipynb\n"
     ]
    }
   ],
   "source": [
    "import import_ipynb\n",
    "from SurveyUser import SurveyUser"
   ]
  },
  {
   "cell_type": "code",
   "execution_count": 1,
   "metadata": {},
   "outputs": [],
   "source": [
    "class UserBuilder:\n",
    "    def __init__(self):\n",
    "        self.users_built = []\n",
    "        \n",
    "    def survey_parser(self, survey):\n",
    "        survey_user = 0\n",
    "        mail = survey[\"userdata\"][\"personal\"][\"email\"]\n",
    "        infos = {key: value for key,value in survey[\"userdata\"][\"personal\"].items() if key != \"email\"}\n",
    "        #time = survey[]\n",
    "        questions_dict = {}\n",
    "        user_rating = {}\n",
    "        pref_theme = \"\"\n",
    "        for item in survey[\"userresponse\"]:\n",
    "            if item[\"question\"] not in questions_dict.keys():\n",
    "                questions_dict[item[\"question\"]] = [(item[\"value\"], item[\"endstamp\"])]\n",
    "            else:\n",
    "                questions_dict[item[\"question\"]] = questions_dict[item[\"question\"]] + [(item[\"value\"], item[\"endstamp\"])]\n",
    "        for item in survey[\"userrating\"]:\n",
    "            if item[\"questionid\"] not in user_rating.keys():\n",
    "                user_rating[item[\"questionid\"]] = [(item[\"rate\"], item[\"endstamp\"])]\n",
    "            else:\n",
    "                user_rating[item[\"questionid\"]] = user_rating[item[\"questionid\"]] + [(item[\"rate\"], item[\"endstamp\"])]\n",
    "        \n",
    "        pref_theme = questions_dict[[x for x in questions_dict.keys()][-1]][-1][0]\n",
    "        self.users_built.append(SurveyUser(mail, infos, \"\", questions_dict, user_rating, pref_theme))\n",
    "        return self, SurveyUser(mail, infos, \"\", questions_dict, user_rating, pref_theme)\n",
    "    \n",
    "    def building_history(self):\n",
    "        return self.users_built\n",
    "    \n",
    "    def answers_freqs(self, answer_num):\n",
    "        answers = []\n",
    "        for user in self.users_built:\n",
    "            answers.append(user.questions_dict[answer_num][0])\n",
    "        return [x[0] for x in sorted(answers)]\n",
    "    \n",
    "    def prefs_freqs(self, answer_num):\n",
    "        answers = []\n",
    "        for user in self.users_built:\n",
    "            answers.append(user.user_rating[answer_num][0])\n",
    "        return [x[0] for x in sorted(answers)]"
   ]
  },
  {
   "cell_type": "code",
   "execution_count": null,
   "metadata": {},
   "outputs": [],
   "source": []
  }
 ],
 "metadata": {
  "kernelspec": {
   "display_name": "Python 3",
   "language": "python",
   "name": "python3"
  },
  "language_info": {
   "codemirror_mode": {
    "name": "ipython",
    "version": 3
   },
   "file_extension": ".py",
   "mimetype": "text/x-python",
   "name": "python",
   "nbconvert_exporter": "python",
   "pygments_lexer": "ipython3",
   "version": "3.7.5"
  }
 },
 "nbformat": 4,
 "nbformat_minor": 4
}
