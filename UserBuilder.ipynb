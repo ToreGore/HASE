{
 "cells": [
  {
   "cell_type": "code",
   "execution_count": 22,
   "metadata": {},
   "outputs": [],
   "source": [
    "import import_ipynb\n",
    "from SurveyUser import SurveyUser"
   ]
  },
  {
   "cell_type": "code",
   "execution_count": 23,
   "metadata": {},
   "outputs": [],
   "source": [
    "class UserBuilder:\n",
    "    def survey_parser(self, survey):\n",
    "        survey_user = 0\n",
    "        mail = survey[\"userdata\"][\"personal\"][\"email\"]\n",
    "        infos = {key: value for key,value in survey[\"userdata\"][\"personal\"].items() if key != \"email\"}\n",
    "        #time = survey[]\n",
    "        questions_dict = {}\n",
    "        for item in survey[\"userresponse\"]:\n",
    "            if item[\"question\"] not in questions_dict.keys():\n",
    "                questions_dict[item[\"question\"]] = [(item[\"value\"], item[\"endstamp\"])]\n",
    "            else:\n",
    "                questions_dict[item[\"question\"]] = questions_dict[item[\"question\"]] + [(item[\"value\"], item[\"endstamp\"])]\n",
    "        #pref_theme = []        \n",
    "        return SurveyUser(mail, infos, \"\", questions_dict, \"\")"
   ]
  },
  {
   "cell_type": "code",
   "execution_count": null,
   "metadata": {},
   "outputs": [],
   "source": []
  }
 ],
 "metadata": {
  "kernelspec": {
   "display_name": "Python 3",
   "language": "python",
   "name": "python3"
  },
  "language_info": {
   "codemirror_mode": {
    "name": "ipython",
    "version": 3
   },
   "file_extension": ".py",
   "mimetype": "text/x-python",
   "name": "python",
   "nbconvert_exporter": "python",
   "pygments_lexer": "ipython3",
   "version": "3.7.5"
  }
 },
 "nbformat": 4,
 "nbformat_minor": 4
}
