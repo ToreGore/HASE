{
 "cells": [
  {
   "cell_type": "markdown",
   "metadata": {},
   "source": [
    "### SurveyUser class\n",
    "It's the basic user, nothing more, nothing less"
   ]
  },
  {
   "cell_type": "code",
   "execution_count": 2,
   "metadata": {},
   "outputs": [],
   "source": [
    "class SurveyUser:\n",
    "    def __init__(self, mail, info, questions_dict, user_rating, pref_theme, correct_answers, distracted, survey_type, end_time):\n",
    "        self.mail = mail\n",
    "        self.info = info\n",
    "        self.questions_dict = questions_dict\n",
    "        self.user_rating = user_rating\n",
    "        self.pref_theme = pref_theme\n",
    "        self.correct_answers = correct_answers\n",
    "        self.distracted = distracted\n",
    "        self.survey_type = survey_type\n",
    "        self.end_time = end_time\n",
    "    def time_completion(self):\n",
    "        selfdict = self.questions_dict#Factory\n",
    "        start_time = int((selfdict[1])[len(selfdict[1]) - 1][1])\n",
    "        all_keys = [key for key in selfdict.keys()]\n",
    "        last_key = all_keys[-1]\n",
    "        end_time = int(selfdict[last_key][-1][1])\n",
    "        return ((end_time - start_time) / 1000) / 60\n",
    "    def avg_time_question(self, question_num):\n",
    "        question = self.questions_dict[question_num]\n",
    "        if question_num == len(self.questions_dict):\n",
    "            question_time = self.end_time - question[-1][1]\n",
    "        else:\n",
    "            question_time = self.questions_dict[question_num + 1][0][1] - question[-1][1]\n",
    "    def __str__(self):\n",
    "        return \"User: {0}\\n\"\\\n",
    "                \"Info: {1}\\n\"\\\n",
    "                \"Questions Dictionary: {2}\\n\"\\\n",
    "                \"User Rating: {3}\\n\"\\\n",
    "                \"Preferred Theme: {4}\\n\"\\\n",
    "                \"Correct Answers: {5}\\n\"\\\n",
    "                \"Distracted: {6}\".format(self.mail, \n",
    "                                         self.info, \n",
    "                                         self.questions_dict,\n",
    "                                         self.user_rating,\n",
    "                                         self.pref_theme,\n",
    "                                         self.correct_answers,\n",
    "                                         self.distracted\n",
    "                                        )"
   ]
  },
  {
   "cell_type": "code",
   "execution_count": null,
   "metadata": {},
   "outputs": [],
   "source": []
  }
 ],
 "metadata": {
  "kernelspec": {
   "display_name": "Python 3",
   "language": "python",
   "name": "python3"
  },
  "language_info": {
   "codemirror_mode": {
    "name": "ipython",
    "version": 3
   },
   "file_extension": ".py",
   "mimetype": "text/x-python",
   "name": "python",
   "nbconvert_exporter": "python",
   "pygments_lexer": "ipython3",
   "version": "3.7.5"
  }
 },
 "nbformat": 4,
 "nbformat_minor": 4
}
