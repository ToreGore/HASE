{
 "cells": [
  {
   "cell_type": "code",
   "execution_count": 2,
   "metadata": {},
   "outputs": [],
   "source": [
    "from pprint import pprint"
   ]
  },
  {
   "cell_type": "code",
   "execution_count": 6,
   "metadata": {},
   "outputs": [],
   "source": [
    "class SurveyUser:\n",
    "    def __init__(self, mail, info, questions_dict, user_rating, pref_theme, correct_answers, distracted):\n",
    "        self.mail = mail\n",
    "        self.info = info\n",
    "        self.questions_dict = questions_dict\n",
    "        self.user_rating = user_rating\n",
    "        self.pref_theme = pref_theme\n",
    "        self.correct_answers = correct_answers\n",
    "        self.distracted = distracted\n",
    "    def time_completion(self):\n",
    "        selfdict = self.questions_dict\n",
    "        start_time = int((selfdict[1])[len(selfdict[1]) - 1][1])\n",
    "        all_keys = [key for key in selfdict.keys()]\n",
    "        last_key = all_keys[-1]\n",
    "        end_time = int(selfdict[last_key][-1][1])\n",
    "        return ((end_time - start_time) / 1000) / 60\n",
    "    def __str__(self):\n",
    "        return \"User: {0}\\n\"\\\n",
    "                \"Info: {1}\\n\"\\\n",
    "                \"Questions Dictionary: {2}\\n\"\\\n",
    "                \"User Rating: {3}\\n\"\\\n",
    "                \"Preferred Theme: {4}\\n\"\\\n",
    "                \"Correct Answers: {5}\\n\"\\\n",
    "                \"Distracted: {6}\".format(self.mail, \n",
    "                                         self.info, \n",
    "                                         self.questions_dict,\n",
    "                                         self.user_rating,\n",
    "                                         self.pref_theme,\n",
    "                                         self.correct_answers,\n",
    "                                         self.distracted\n",
    "                                        )"
   ]
  },
  {
   "cell_type": "code",
   "execution_count": 5,
   "metadata": {},
   "outputs": [
    {
     "name": "stdout",
     "output_type": "stream",
     "text": [
      "[1, 2, 3, 4, 5, 6, 7, 8, 9, 0, 9, 8, 7, 6, 5, 4, 3, 2, 1]\n"
     ]
    }
   ],
   "source": [
    "#pprint([1,2,3,4,5,6,7,8,9,0,9,8,7,6,5,4,3,2,1])"
   ]
  },
  {
   "cell_type": "code",
   "execution_count": null,
   "metadata": {},
   "outputs": [],
   "source": []
  }
 ],
 "metadata": {
  "kernelspec": {
   "display_name": "Python 3",
   "language": "python",
   "name": "python3"
  },
  "language_info": {
   "codemirror_mode": {
    "name": "ipython",
    "version": 3
   },
   "file_extension": ".py",
   "mimetype": "text/x-python",
   "name": "python",
   "nbconvert_exporter": "python",
   "pygments_lexer": "ipython3",
   "version": "3.7.5"
  }
 },
 "nbformat": 4,
 "nbformat_minor": 4
}
