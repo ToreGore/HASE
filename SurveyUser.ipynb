{
 "cells": [
  {
   "cell_type": "code",
   "execution_count": 1,
   "metadata": {},
   "outputs": [],
   "source": [
    "class SurveyUser:\n",
    "    def __init__(self, mail, infos, time, questions_dict, user_rating, pref_theme):\n",
    "        self.mail = mail\n",
    "        self.infos = infos\n",
    "        self.time = time\n",
    "        self.questions_dict = questions_dict\n",
    "        self.user_rating = user_rating\n",
    "        self.pref_theme = pref_theme\n",
    "    def time_completion(self):\n",
    "        selfdict = self.questions_dict\n",
    "        start_time = int((selfdict[1])[len(selfdict[1]) - 1][1])\n",
    "        all_keys = [key for key in selfdict.keys()]\n",
    "        last_key = all_keys[-1]\n",
    "        end_time = int(selfdict[last_key][-1][1])\n",
    "        return ((end_time - start_time) / 1000) / 60\n",
    "    def __str__(self):\n",
    "        return \"User: \" + self.mail"
   ]
  },
  {
   "cell_type": "code",
   "execution_count": null,
   "metadata": {},
   "outputs": [],
   "source": []
  }
 ],
 "metadata": {
  "kernelspec": {
   "display_name": "Python 3",
   "language": "python",
   "name": "python3"
  },
  "language_info": {
   "codemirror_mode": {
    "name": "ipython",
    "version": 3
   },
   "file_extension": ".py",
   "mimetype": "text/x-python",
   "name": "python",
   "nbconvert_exporter": "python",
   "pygments_lexer": "ipython3",
   "version": "3.7.5"
  }
 },
 "nbformat": 4,
 "nbformat_minor": 4
}
