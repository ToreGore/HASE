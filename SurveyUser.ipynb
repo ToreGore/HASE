{
 "cells": [
  {
   "cell_type": "code",
   "execution_count": 3,
   "metadata": {},
   "outputs": [],
   "source": [
    "class SurveyUser:\n",
    "    def __init__(self, mail, infos, time, questions_dict, pref_theme):\n",
    "        self.mail = mail\n",
    "        self.infos = infos\n",
    "        self.time = time\n",
    "        self.questions_dict = questions_dict\n",
    "        self.pref_theme = pref_theme\n",
    "    def __str__(self):\n",
    "        return \"User: \" + self.mail"
   ]
  },
  {
   "cell_type": "code",
   "execution_count": null,
   "metadata": {},
   "outputs": [],
   "source": []
  }
 ],
 "metadata": {
  "kernelspec": {
   "display_name": "Python 3",
   "language": "python",
   "name": "python3"
  },
  "language_info": {
   "codemirror_mode": {
    "name": "ipython",
    "version": 3
   },
   "file_extension": ".py",
   "mimetype": "text/x-python",
   "name": "python",
   "nbconvert_exporter": "python",
   "pygments_lexer": "ipython3",
   "version": "3.7.5"
  }
 },
 "nbformat": 4,
 "nbformat_minor": 4
}
